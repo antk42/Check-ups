{
 "cells": [
  {
   "cell_type": "markdown",
   "id": "12ce0d89-db91-4744-899a-e93765d70326",
   "metadata": {
    "tags": []
   },
   "source": [
    "# Gradient Boosting\n",
    "**Градиентный бустинг** – это продвинутый алгоритм машинного обучения для решения задач классификации и регрессии.\n",
    "\n",
    "Он строит предсказание в виде ансамбля слабых предсказывающих моделей, которыми в основном являются деревья решений. **Из нескольких слабых моделей в итоге мы собираем одну, но уже эффективную.**\n",
    "\n",
    "**Общая идея алгоритма** – последовательное применение предиктора (предсказателя) таким образом, что каждая последующая модель сводит ошибку предыдущей к минимуму."
   ]
  },
  {
   "cell_type": "markdown",
   "id": "f234ace9-4ac2-46a4-9009-5766f5ac1c41",
   "metadata": {},
   "source": [
    "Параметры алгоритма\n",
    "\n",
    "- loss – функция ошибки для минимизации.\n",
    "\n",
    "- criterion – критерий выбора расщепления, Mean Absolute Error (MAE) или Mean Squared Error (MSE). Используется только при построении деревьев.\n",
    "\n",
    "- init – какой алгоритм мы будем использовать в качестве главного (именно его и улучшает техника бустинга).\n",
    "\n",
    "- learning_rate – скорость обучения.\n",
    "\n",
    "- n_estimators – число итераций в бустинге. Чем больше, тем лучше качество, однако слишком большой увеличение данного параметра может привести к ухудшению производительности и переобучению.\n",
    "\n",
    "- min_samples_split – минимальное число объектов, при котором происходит расщепление. С данным параметром мы можем избежать переобучение.\n",
    "\n",
    "- min_samples_leaf – минимальное число объектов в листе (узле). При увеличении данного параметра качество модели на обучении падает, в то время как время построения модели сокращается. Меньшие значения стоит выбирать для менее сбалансированных выборок.\n",
    "\n",
    "- max_depth – максимальная глубина дерева. Используется для того, чтобы исключить возможность переобучения.\n",
    "\n",
    "- max_features – количество признаков, учитываемых алгоритмом для построения расщепления в дереве.\n",
    "- max_leaf_nodes : Максимальное число верхних точек в дереве. При наличии данного параметра max_depth будет игнорироваться."
   ]
  },
  {
   "cell_type": "markdown",
   "id": "aa4d0da5-92b8-471a-bdcb-a93161147fff",
   "metadata": {
    "tags": []
   },
   "source": [
    "# Implementation sklearn"
   ]
  },
  {
   "cell_type": "markdown",
   "id": "1dd0bfa8-955c-4518-9c8c-dd358930f64f",
   "metadata": {},
   "source": [
    "### Libs:"
   ]
  },
  {
   "cell_type": "code",
   "execution_count": 1,
   "id": "551cfcf8-15a0-4e79-9053-e65a97c479bc",
   "metadata": {},
   "outputs": [],
   "source": [
    "import pandas as pd\n",
    "import numpy as np\n",
    "\n",
    "#import warnings\n",
    "#warnings.filterwarnings('ignore')\n",
    "\n",
    "\n",
    "from sklearn.model_selection import train_test_split\n",
    "from sklearn.datasets import load_breast_cancer\n",
    "\n",
    "from sklearn.preprocessing import StandardScaler,LabelEncoder\n",
    "from sklearn.metrics import mean_squared_error,r2_score \n",
    "\n",
    "from sklearn.ensemble import GradientBoostingRegressor"
   ]
  },
  {
   "cell_type": "markdown",
   "id": "21cff881-b303-46d8-9e25-4aecf24b9590",
   "metadata": {},
   "source": [
    "### Prepare data"
   ]
  },
  {
   "cell_type": "code",
   "execution_count": 2,
   "id": "210c8804-d1fa-408d-b5c3-3463b6dbfd94",
   "metadata": {},
   "outputs": [],
   "source": [
    "breast_cancer = load_breast_cancer()\n",
    "\n",
    "\n",
    "### Обозначаем целевую переменную для нашей будущей модели\n",
    "X = pd.DataFrame(breast_cancer['data'], columns=breast_cancer['feature_names'])\n",
    "y = pd.Categorical.from_codes(breast_cancer['target'], breast_cancer['target_names'])"
   ]
  },
  {
   "cell_type": "markdown",
   "id": "8ef71a88-bd30-4856-b735-31e84a92869c",
   "metadata": {},
   "source": [
    "### Feature Engineering"
   ]
  },
  {
   "cell_type": "code",
   "execution_count": 4,
   "id": "6e7ae677-12c7-496a-8e8c-9688a661ab05",
   "metadata": {},
   "outputs": [],
   "source": [
    "# encoding\n",
    "lbl = LabelEncoder() \n",
    "lbl.fit(y)\n",
    "\n",
    "y_enc = lbl.transform(y)\n",
    "\n",
    "\n",
    "### Разбираемся с признаками\n",
    "scl = StandardScaler()\n",
    "scl.fit(X)\n",
    "X_scaled = scl.transform(X)"
   ]
  },
  {
   "cell_type": "markdown",
   "id": "6d12d072-84ef-4207-8ed3-123679baef73",
   "metadata": {},
   "source": [
    "### Split train and test"
   ]
  },
  {
   "cell_type": "code",
   "execution_count": 5,
   "id": "af42510b-0f47-4493-85a0-85fab6e769e9",
   "metadata": {},
   "outputs": [],
   "source": [
    "X_train, X_test, y_train, y_test = train_test_split(\n",
    "    X,\n",
    "    y_enc,\n",
    "    test_size=0.20,\n",
    "    random_state=42)"
   ]
  },
  {
   "cell_type": "markdown",
   "id": "765d079b-f5b2-427d-b669-8305a86d22e8",
   "metadata": {},
   "source": [
    "### GradientBoostingRegressor"
   ]
  },
  {
   "cell_type": "code",
   "execution_count": 6,
   "id": "0ef5922d-5847-4e6b-b5b2-2ab8b054b537",
   "metadata": {},
   "outputs": [],
   "source": [
    "params = {'n_estimators':200,\n",
    "          'max_depth':12,\n",
    "          'criterion':'friedman_mse',\n",
    "          'learning_rate':0.03,\n",
    "          'min_samples_leaf':16,\n",
    "          'min_samples_split':16\n",
    "          }"
   ]
  },
  {
   "cell_type": "code",
   "execution_count": 7,
   "id": "b70cb809-00ea-4d47-a9dc-4174bf8a82a7",
   "metadata": {},
   "outputs": [
    {
     "data": {
      "text/html": [
       "<style>#sk-container-id-1 {color: black;background-color: white;}#sk-container-id-1 pre{padding: 0;}#sk-container-id-1 div.sk-toggleable {background-color: white;}#sk-container-id-1 label.sk-toggleable__label {cursor: pointer;display: block;width: 100%;margin-bottom: 0;padding: 0.3em;box-sizing: border-box;text-align: center;}#sk-container-id-1 label.sk-toggleable__label-arrow:before {content: \"▸\";float: left;margin-right: 0.25em;color: #696969;}#sk-container-id-1 label.sk-toggleable__label-arrow:hover:before {color: black;}#sk-container-id-1 div.sk-estimator:hover label.sk-toggleable__label-arrow:before {color: black;}#sk-container-id-1 div.sk-toggleable__content {max-height: 0;max-width: 0;overflow: hidden;text-align: left;background-color: #f0f8ff;}#sk-container-id-1 div.sk-toggleable__content pre {margin: 0.2em;color: black;border-radius: 0.25em;background-color: #f0f8ff;}#sk-container-id-1 input.sk-toggleable__control:checked~div.sk-toggleable__content {max-height: 200px;max-width: 100%;overflow: auto;}#sk-container-id-1 input.sk-toggleable__control:checked~label.sk-toggleable__label-arrow:before {content: \"▾\";}#sk-container-id-1 div.sk-estimator input.sk-toggleable__control:checked~label.sk-toggleable__label {background-color: #d4ebff;}#sk-container-id-1 div.sk-label input.sk-toggleable__control:checked~label.sk-toggleable__label {background-color: #d4ebff;}#sk-container-id-1 input.sk-hidden--visually {border: 0;clip: rect(1px 1px 1px 1px);clip: rect(1px, 1px, 1px, 1px);height: 1px;margin: -1px;overflow: hidden;padding: 0;position: absolute;width: 1px;}#sk-container-id-1 div.sk-estimator {font-family: monospace;background-color: #f0f8ff;border: 1px dotted black;border-radius: 0.25em;box-sizing: border-box;margin-bottom: 0.5em;}#sk-container-id-1 div.sk-estimator:hover {background-color: #d4ebff;}#sk-container-id-1 div.sk-parallel-item::after {content: \"\";width: 100%;border-bottom: 1px solid gray;flex-grow: 1;}#sk-container-id-1 div.sk-label:hover label.sk-toggleable__label {background-color: #d4ebff;}#sk-container-id-1 div.sk-serial::before {content: \"\";position: absolute;border-left: 1px solid gray;box-sizing: border-box;top: 0;bottom: 0;left: 50%;z-index: 0;}#sk-container-id-1 div.sk-serial {display: flex;flex-direction: column;align-items: center;background-color: white;padding-right: 0.2em;padding-left: 0.2em;position: relative;}#sk-container-id-1 div.sk-item {position: relative;z-index: 1;}#sk-container-id-1 div.sk-parallel {display: flex;align-items: stretch;justify-content: center;background-color: white;position: relative;}#sk-container-id-1 div.sk-item::before, #sk-container-id-1 div.sk-parallel-item::before {content: \"\";position: absolute;border-left: 1px solid gray;box-sizing: border-box;top: 0;bottom: 0;left: 50%;z-index: -1;}#sk-container-id-1 div.sk-parallel-item {display: flex;flex-direction: column;z-index: 1;position: relative;background-color: white;}#sk-container-id-1 div.sk-parallel-item:first-child::after {align-self: flex-end;width: 50%;}#sk-container-id-1 div.sk-parallel-item:last-child::after {align-self: flex-start;width: 50%;}#sk-container-id-1 div.sk-parallel-item:only-child::after {width: 0;}#sk-container-id-1 div.sk-dashed-wrapped {border: 1px dashed gray;margin: 0 0.4em 0.5em 0.4em;box-sizing: border-box;padding-bottom: 0.4em;background-color: white;}#sk-container-id-1 div.sk-label label {font-family: monospace;font-weight: bold;display: inline-block;line-height: 1.2em;}#sk-container-id-1 div.sk-label-container {text-align: center;}#sk-container-id-1 div.sk-container {/* jupyter's `normalize.less` sets `[hidden] { display: none; }` but bootstrap.min.css set `[hidden] { display: none !important; }` so we also need the `!important` here to be able to override the default hidden behavior on the sphinx rendered scikit-learn.org. See: https://github.com/scikit-learn/scikit-learn/issues/21755 */display: inline-block !important;position: relative;}#sk-container-id-1 div.sk-text-repr-fallback {display: none;}</style><div id=\"sk-container-id-1\" class=\"sk-top-container\"><div class=\"sk-text-repr-fallback\"><pre>GradientBoostingRegressor(learning_rate=0.03, max_depth=12, min_samples_leaf=16,\n",
       "                          min_samples_split=16, n_estimators=200)</pre><b>In a Jupyter environment, please rerun this cell to show the HTML representation or trust the notebook. <br />On GitHub, the HTML representation is unable to render, please try loading this page with nbviewer.org.</b></div><div class=\"sk-container\" hidden><div class=\"sk-item\"><div class=\"sk-estimator sk-toggleable\"><input class=\"sk-toggleable__control sk-hidden--visually\" id=\"sk-estimator-id-1\" type=\"checkbox\" checked><label for=\"sk-estimator-id-1\" class=\"sk-toggleable__label sk-toggleable__label-arrow\">GradientBoostingRegressor</label><div class=\"sk-toggleable__content\"><pre>GradientBoostingRegressor(learning_rate=0.03, max_depth=12, min_samples_leaf=16,\n",
       "                          min_samples_split=16, n_estimators=200)</pre></div></div></div></div></div>"
      ],
      "text/plain": [
       "GradientBoostingRegressor(learning_rate=0.03, max_depth=12, min_samples_leaf=16,\n",
       "                          min_samples_split=16, n_estimators=200)"
      ]
     },
     "execution_count": 7,
     "metadata": {},
     "output_type": "execute_result"
    }
   ],
   "source": [
    "### Тренируем\n",
    "gbr = GradientBoostingRegressor(**params)\n",
    "gbr.fit(X_train,y_train)"
   ]
  },
  {
   "cell_type": "code",
   "execution_count": 8,
   "id": "2e3cc6c5-b9a0-42d0-b413-0e94a4598e58",
   "metadata": {},
   "outputs": [
    {
     "name": "stdout",
     "output_type": "stream",
     "text": [
      "accuracy_score:  0.985058330455562\n",
      "test_accuracy_score:  0.8729663247086374\n"
     ]
    }
   ],
   "source": [
    "### Вычисляем точность\n",
    "train_accuracy_score=gbr.score(X_train,y_train)\n",
    "print('accuracy_score: ', train_accuracy_score)\n",
    "\n",
    "test_accuracy_score=gbr.score(X_test,y_test)\n",
    "print('test_accuracy_score: ', test_accuracy_score)"
   ]
  },
  {
   "cell_type": "code",
   "execution_count": 9,
   "id": "94a86827-deef-48f9-a690-1e5df94996dc",
   "metadata": {},
   "outputs": [
    {
     "name": "stdout",
     "output_type": "stream",
     "text": [
      "MSE: 0.0298\n",
      "R^2 :  0.8729663247086374\n"
     ]
    }
   ],
   "source": [
    "### Предсказание\n",
    "y_pred = gbr.predict(X_test)\n",
    "\n",
    "### И среднеквадратичную ошибку\n",
    "mse = mean_squared_error(y_test,y_pred)\n",
    "print(\"MSE: %.4f\" % mse)\n",
    "print(\"R^2 : \", r2_score(y_test, y_pred))"
   ]
  },
  {
   "cell_type": "markdown",
   "id": "72caefe6-d6c0-4df9-89af-6bbb48e786d9",
   "metadata": {},
   "source": [
    "# XGBoost\n",
    "**XGBoost** – более регуляризованная форма градиентного бустинга.\n",
    "\n",
    "Основным преимуществом данной библиотеки является производительность и эффективная оптимизация вычислений (лучший результат с меньшей затратой ресурсов).\n",
    "\n",
    "Библиотека XGBoost предоставляем нам разные классы для разных задач: **XGBClassifier для классификации и XGBregressor для регрессии.**"
   ]
  },
  {
   "cell_type": "markdown",
   "id": "78b98efe-0ef1-42a5-a432-ba1a68095404",
   "metadata": {
    "tags": []
   },
   "source": [
    "# Пример использования XGBoost для классификации:"
   ]
  },
  {
   "cell_type": "markdown",
   "id": "31cfe2d4-d07a-4ebf-8550-9066a8868fb0",
   "metadata": {},
   "source": [
    "### Libs:"
   ]
  },
  {
   "cell_type": "code",
   "execution_count": 10,
   "id": "4bfee29d-90f2-4910-8c28-34c1539d4da3",
   "metadata": {},
   "outputs": [],
   "source": [
    "from numpy import asarray\n",
    "from numpy import mean\n",
    "from numpy import std\n",
    "\n",
    "from sklearn.datasets import make_classification\n",
    "\n",
    "from sklearn.model_selection import cross_val_score\n",
    "from sklearn.model_selection import RepeatedStratifiedKFold\n",
    "\n",
    "from xgboost import XGBClassifier"
   ]
  },
  {
   "cell_type": "markdown",
   "id": "098d9a68-880d-4d16-9544-01cc18bd8ee8",
   "metadata": {},
   "source": [
    "### Oпределяем датасет"
   ]
  },
  {
   "cell_type": "code",
   "execution_count": 11,
   "id": "73bd7787-673c-4620-85da-59114aeb611a",
   "metadata": {},
   "outputs": [],
   "source": [
    "X, y = make_classification(\n",
    "    n_samples=1000,\n",
    "    n_features=10,\n",
    "    n_informative=5,\n",
    "    n_redundant=5,\n",
    "    random_state=42)"
   ]
  },
  {
   "cell_type": "markdown",
   "id": "bcc3017e-a3fd-4fab-8f08-a7b0bfcba801",
   "metadata": {},
   "source": [
    "### Oпределяем модель вместе с кросс-валидацией"
   ]
  },
  {
   "cell_type": "code",
   "execution_count": 12,
   "id": "8a5e9f20-404b-4234-9132-482518024d85",
   "metadata": {},
   "outputs": [],
   "source": [
    "model = XGBClassifier()"
   ]
  },
  {
   "cell_type": "code",
   "execution_count": 13,
   "id": "8640659b-8bd0-4302-b16d-350b1422c314",
   "metadata": {},
   "outputs": [],
   "source": [
    "cv = RepeatedStratifiedKFold(\n",
    "    n_splits=10,\n",
    "    n_repeats=3,\n",
    "    random_state=42)"
   ]
  },
  {
   "cell_type": "code",
   "execution_count": 14,
   "id": "2a7916b5-2d92-4127-a915-bd95bf9173d0",
   "metadata": {},
   "outputs": [
    {
     "name": "stdout",
     "output_type": "stream",
     "text": [
      "Точность: 0.93367 (0.02057)\n"
     ]
    }
   ],
   "source": [
    "n_scores = cross_val_score(\n",
    "    model,\n",
    "    X,\n",
    "    y,\n",
    "    scoring='accuracy',\n",
    "    cv=cv,\n",
    "    n_jobs=-1,\n",
    "    error_score='raise')\n",
    "\n",
    "print('Точность: %.5f (%.5f)' % (mean(n_scores), std(n_scores)))"
   ]
  },
  {
   "cell_type": "markdown",
   "id": "7f59c42d-4434-468c-baa7-6d73fbc9a7c2",
   "metadata": {},
   "source": [
    "### Тренируем модель на всём наборе данных"
   ]
  },
  {
   "cell_type": "code",
   "execution_count": 15,
   "id": "8017b887-428e-403f-b6dc-ac8d1447d5d6",
   "metadata": {},
   "outputs": [
    {
     "data": {
      "text/html": [
       "<style>#sk-container-id-2 {color: black;background-color: white;}#sk-container-id-2 pre{padding: 0;}#sk-container-id-2 div.sk-toggleable {background-color: white;}#sk-container-id-2 label.sk-toggleable__label {cursor: pointer;display: block;width: 100%;margin-bottom: 0;padding: 0.3em;box-sizing: border-box;text-align: center;}#sk-container-id-2 label.sk-toggleable__label-arrow:before {content: \"▸\";float: left;margin-right: 0.25em;color: #696969;}#sk-container-id-2 label.sk-toggleable__label-arrow:hover:before {color: black;}#sk-container-id-2 div.sk-estimator:hover label.sk-toggleable__label-arrow:before {color: black;}#sk-container-id-2 div.sk-toggleable__content {max-height: 0;max-width: 0;overflow: hidden;text-align: left;background-color: #f0f8ff;}#sk-container-id-2 div.sk-toggleable__content pre {margin: 0.2em;color: black;border-radius: 0.25em;background-color: #f0f8ff;}#sk-container-id-2 input.sk-toggleable__control:checked~div.sk-toggleable__content {max-height: 200px;max-width: 100%;overflow: auto;}#sk-container-id-2 input.sk-toggleable__control:checked~label.sk-toggleable__label-arrow:before {content: \"▾\";}#sk-container-id-2 div.sk-estimator input.sk-toggleable__control:checked~label.sk-toggleable__label {background-color: #d4ebff;}#sk-container-id-2 div.sk-label input.sk-toggleable__control:checked~label.sk-toggleable__label {background-color: #d4ebff;}#sk-container-id-2 input.sk-hidden--visually {border: 0;clip: rect(1px 1px 1px 1px);clip: rect(1px, 1px, 1px, 1px);height: 1px;margin: -1px;overflow: hidden;padding: 0;position: absolute;width: 1px;}#sk-container-id-2 div.sk-estimator {font-family: monospace;background-color: #f0f8ff;border: 1px dotted black;border-radius: 0.25em;box-sizing: border-box;margin-bottom: 0.5em;}#sk-container-id-2 div.sk-estimator:hover {background-color: #d4ebff;}#sk-container-id-2 div.sk-parallel-item::after {content: \"\";width: 100%;border-bottom: 1px solid gray;flex-grow: 1;}#sk-container-id-2 div.sk-label:hover label.sk-toggleable__label {background-color: #d4ebff;}#sk-container-id-2 div.sk-serial::before {content: \"\";position: absolute;border-left: 1px solid gray;box-sizing: border-box;top: 0;bottom: 0;left: 50%;z-index: 0;}#sk-container-id-2 div.sk-serial {display: flex;flex-direction: column;align-items: center;background-color: white;padding-right: 0.2em;padding-left: 0.2em;position: relative;}#sk-container-id-2 div.sk-item {position: relative;z-index: 1;}#sk-container-id-2 div.sk-parallel {display: flex;align-items: stretch;justify-content: center;background-color: white;position: relative;}#sk-container-id-2 div.sk-item::before, #sk-container-id-2 div.sk-parallel-item::before {content: \"\";position: absolute;border-left: 1px solid gray;box-sizing: border-box;top: 0;bottom: 0;left: 50%;z-index: -1;}#sk-container-id-2 div.sk-parallel-item {display: flex;flex-direction: column;z-index: 1;position: relative;background-color: white;}#sk-container-id-2 div.sk-parallel-item:first-child::after {align-self: flex-end;width: 50%;}#sk-container-id-2 div.sk-parallel-item:last-child::after {align-self: flex-start;width: 50%;}#sk-container-id-2 div.sk-parallel-item:only-child::after {width: 0;}#sk-container-id-2 div.sk-dashed-wrapped {border: 1px dashed gray;margin: 0 0.4em 0.5em 0.4em;box-sizing: border-box;padding-bottom: 0.4em;background-color: white;}#sk-container-id-2 div.sk-label label {font-family: monospace;font-weight: bold;display: inline-block;line-height: 1.2em;}#sk-container-id-2 div.sk-label-container {text-align: center;}#sk-container-id-2 div.sk-container {/* jupyter's `normalize.less` sets `[hidden] { display: none; }` but bootstrap.min.css set `[hidden] { display: none !important; }` so we also need the `!important` here to be able to override the default hidden behavior on the sphinx rendered scikit-learn.org. See: https://github.com/scikit-learn/scikit-learn/issues/21755 */display: inline-block !important;position: relative;}#sk-container-id-2 div.sk-text-repr-fallback {display: none;}</style><div id=\"sk-container-id-2\" class=\"sk-top-container\"><div class=\"sk-text-repr-fallback\"><pre>XGBClassifier(base_score=None, booster=None, callbacks=None,\n",
       "              colsample_bylevel=None, colsample_bynode=None,\n",
       "              colsample_bytree=None, early_stopping_rounds=None,\n",
       "              enable_categorical=False, eval_metric=None, feature_types=None,\n",
       "              gamma=None, gpu_id=None, grow_policy=None, importance_type=None,\n",
       "              interaction_constraints=None, learning_rate=None, max_bin=None,\n",
       "              max_cat_threshold=None, max_cat_to_onehot=None,\n",
       "              max_delta_step=None, max_depth=None, max_leaves=None,\n",
       "              min_child_weight=None, missing=nan, monotone_constraints=None,\n",
       "              n_estimators=100, n_jobs=None, num_parallel_tree=None,\n",
       "              predictor=None, random_state=None, ...)</pre><b>In a Jupyter environment, please rerun this cell to show the HTML representation or trust the notebook. <br />On GitHub, the HTML representation is unable to render, please try loading this page with nbviewer.org.</b></div><div class=\"sk-container\" hidden><div class=\"sk-item\"><div class=\"sk-estimator sk-toggleable\"><input class=\"sk-toggleable__control sk-hidden--visually\" id=\"sk-estimator-id-2\" type=\"checkbox\" checked><label for=\"sk-estimator-id-2\" class=\"sk-toggleable__label sk-toggleable__label-arrow\">XGBClassifier</label><div class=\"sk-toggleable__content\"><pre>XGBClassifier(base_score=None, booster=None, callbacks=None,\n",
       "              colsample_bylevel=None, colsample_bynode=None,\n",
       "              colsample_bytree=None, early_stopping_rounds=None,\n",
       "              enable_categorical=False, eval_metric=None, feature_types=None,\n",
       "              gamma=None, gpu_id=None, grow_policy=None, importance_type=None,\n",
       "              interaction_constraints=None, learning_rate=None, max_bin=None,\n",
       "              max_cat_threshold=None, max_cat_to_onehot=None,\n",
       "              max_delta_step=None, max_depth=None, max_leaves=None,\n",
       "              min_child_weight=None, missing=nan, monotone_constraints=None,\n",
       "              n_estimators=100, n_jobs=None, num_parallel_tree=None,\n",
       "              predictor=None, random_state=None, ...)</pre></div></div></div></div></div>"
      ],
      "text/plain": [
       "XGBClassifier(base_score=None, booster=None, callbacks=None,\n",
       "              colsample_bylevel=None, colsample_bynode=None,\n",
       "              colsample_bytree=None, early_stopping_rounds=None,\n",
       "              enable_categorical=False, eval_metric=None, feature_types=None,\n",
       "              gamma=None, gpu_id=None, grow_policy=None, importance_type=None,\n",
       "              interaction_constraints=None, learning_rate=None, max_bin=None,\n",
       "              max_cat_threshold=None, max_cat_to_onehot=None,\n",
       "              max_delta_step=None, max_depth=None, max_leaves=None,\n",
       "              min_child_weight=None, missing=nan, monotone_constraints=None,\n",
       "              n_estimators=100, n_jobs=None, num_parallel_tree=None,\n",
       "              predictor=None, random_state=None, ...)"
      ]
     },
     "execution_count": 15,
     "metadata": {},
     "output_type": "execute_result"
    }
   ],
   "source": [
    "model = XGBClassifier()\n",
    "model.fit(X, y)"
   ]
  },
  {
   "cell_type": "markdown",
   "id": "0833fa0f-7e65-48a4-962a-e9454c75260c",
   "metadata": {},
   "source": [
    "### Предсказываем"
   ]
  },
  {
   "cell_type": "code",
   "execution_count": 16,
   "id": "14e55be8-3db2-4f26-8575-23c8941811e3",
   "metadata": {},
   "outputs": [
    {
     "name": "stdout",
     "output_type": "stream",
     "text": [
      "Предсказание (Предикт): 1\n"
     ]
    }
   ],
   "source": [
    "row = [2.56999479, -0.13019997, 3.16075093, -4.35936352, -1.61271951,\n",
    "       -1.39352057, -2.48924933, -1.93094078, 3.26130366, 2.05692145]\n",
    "\n",
    "row = asarray(row).reshape((1, len(row)))\n",
    "yhat = model.predict(row)\n",
    "print('Предсказание (Предикт): %d' % yhat[0])"
   ]
  },
  {
   "cell_type": "markdown",
   "id": "f8f0e4aa-3df1-4d10-9377-e8672aa55921",
   "metadata": {
    "tags": []
   },
   "source": [
    "# Пример использования XGBoost для регрессии:"
   ]
  },
  {
   "cell_type": "markdown",
   "id": "ac59034f-8282-4879-867b-d2cc1198b069",
   "metadata": {},
   "source": [
    "### Libs:"
   ]
  },
  {
   "cell_type": "code",
   "execution_count": 17,
   "id": "fbd08dec-b14c-4335-a8cb-647eb9fc99d5",
   "metadata": {},
   "outputs": [],
   "source": [
    "from numpy import asarray\n",
    "from numpy import mean\n",
    "from numpy import std\n",
    "\n",
    "from sklearn.datasets import make_regression\n",
    "\n",
    "from sklearn.model_selection import cross_val_score\n",
    "from sklearn.model_selection import RepeatedKFold\n",
    "\n",
    "from xgboost import XGBRegressor"
   ]
  },
  {
   "cell_type": "markdown",
   "id": "2852ee21-ebd3-4e42-bf8e-5a14b0ccbaba",
   "metadata": {},
   "source": [
    "###  Oпределяем датасет"
   ]
  },
  {
   "cell_type": "code",
   "execution_count": 18,
   "id": "d5b07947-a421-491b-8efb-71b11ceaaa98",
   "metadata": {},
   "outputs": [],
   "source": [
    "X, y = make_regression(\n",
    "    n_samples=1000,\n",
    "    n_features=10,\n",
    "    n_informative=5,\n",
    "    random_state=42)"
   ]
  },
  {
   "cell_type": "markdown",
   "id": "2e24fdb1-8761-4237-95de-74fbee445079",
   "metadata": {},
   "source": [
    "### Oпределяем модель (в данном примере мы меняем метрику на MAE)"
   ]
  },
  {
   "cell_type": "code",
   "execution_count": 19,
   "id": "3d1a31d2-77aa-45a1-88a0-66a57abf3d1a",
   "metadata": {},
   "outputs": [],
   "source": [
    "model = XGBRegressor(objective='reg:squarederror')"
   ]
  },
  {
   "cell_type": "code",
   "execution_count": 20,
   "id": "f5ece3f1-5845-412f-8669-0340662351c6",
   "metadata": {},
   "outputs": [],
   "source": [
    "cv = RepeatedKFold(n_splits=10,\n",
    "                   n_repeats=3,\n",
    "                   random_state=42)"
   ]
  },
  {
   "cell_type": "code",
   "execution_count": 21,
   "id": "28796dd6-06a7-49ec-aedb-c483378dcb08",
   "metadata": {},
   "outputs": [
    {
     "name": "stdout",
     "output_type": "stream",
     "text": [
      "MAE (Средняя Абсолютная Ошибка): -8.757 (0.693)\n"
     ]
    }
   ],
   "source": [
    "n_scores = cross_val_score(\n",
    "    model,\n",
    "    X,\n",
    "    y,\n",
    "    scoring='neg_mean_absolute_error',\n",
    "    cv=cv,\n",
    "    n_jobs=-1,\n",
    "    error_score='raise')\n",
    "\n",
    "print('MAE (Средняя Абсолютная Ошибка): %.3f (%.3f)' % (mean(n_scores), std(n_scores)))"
   ]
  },
  {
   "cell_type": "markdown",
   "id": "c8655dad-4c34-4e99-b4d7-1668b33b26b4",
   "metadata": {},
   "source": [
    "### Тренируем модель на всём наборе данных"
   ]
  },
  {
   "cell_type": "code",
   "execution_count": 22,
   "id": "302fcf13-6dbf-4d91-b5fe-bbd841b6effd",
   "metadata": {},
   "outputs": [],
   "source": [
    "model = XGBRegressor(objective='reg:squarederror')"
   ]
  },
  {
   "cell_type": "code",
   "execution_count": 23,
   "id": "582a1b99-25b6-4f39-98d9-75fd713c0f25",
   "metadata": {},
   "outputs": [
    {
     "data": {
      "text/html": [
       "<style>#sk-container-id-3 {color: black;background-color: white;}#sk-container-id-3 pre{padding: 0;}#sk-container-id-3 div.sk-toggleable {background-color: white;}#sk-container-id-3 label.sk-toggleable__label {cursor: pointer;display: block;width: 100%;margin-bottom: 0;padding: 0.3em;box-sizing: border-box;text-align: center;}#sk-container-id-3 label.sk-toggleable__label-arrow:before {content: \"▸\";float: left;margin-right: 0.25em;color: #696969;}#sk-container-id-3 label.sk-toggleable__label-arrow:hover:before {color: black;}#sk-container-id-3 div.sk-estimator:hover label.sk-toggleable__label-arrow:before {color: black;}#sk-container-id-3 div.sk-toggleable__content {max-height: 0;max-width: 0;overflow: hidden;text-align: left;background-color: #f0f8ff;}#sk-container-id-3 div.sk-toggleable__content pre {margin: 0.2em;color: black;border-radius: 0.25em;background-color: #f0f8ff;}#sk-container-id-3 input.sk-toggleable__control:checked~div.sk-toggleable__content {max-height: 200px;max-width: 100%;overflow: auto;}#sk-container-id-3 input.sk-toggleable__control:checked~label.sk-toggleable__label-arrow:before {content: \"▾\";}#sk-container-id-3 div.sk-estimator input.sk-toggleable__control:checked~label.sk-toggleable__label {background-color: #d4ebff;}#sk-container-id-3 div.sk-label input.sk-toggleable__control:checked~label.sk-toggleable__label {background-color: #d4ebff;}#sk-container-id-3 input.sk-hidden--visually {border: 0;clip: rect(1px 1px 1px 1px);clip: rect(1px, 1px, 1px, 1px);height: 1px;margin: -1px;overflow: hidden;padding: 0;position: absolute;width: 1px;}#sk-container-id-3 div.sk-estimator {font-family: monospace;background-color: #f0f8ff;border: 1px dotted black;border-radius: 0.25em;box-sizing: border-box;margin-bottom: 0.5em;}#sk-container-id-3 div.sk-estimator:hover {background-color: #d4ebff;}#sk-container-id-3 div.sk-parallel-item::after {content: \"\";width: 100%;border-bottom: 1px solid gray;flex-grow: 1;}#sk-container-id-3 div.sk-label:hover label.sk-toggleable__label {background-color: #d4ebff;}#sk-container-id-3 div.sk-serial::before {content: \"\";position: absolute;border-left: 1px solid gray;box-sizing: border-box;top: 0;bottom: 0;left: 50%;z-index: 0;}#sk-container-id-3 div.sk-serial {display: flex;flex-direction: column;align-items: center;background-color: white;padding-right: 0.2em;padding-left: 0.2em;position: relative;}#sk-container-id-3 div.sk-item {position: relative;z-index: 1;}#sk-container-id-3 div.sk-parallel {display: flex;align-items: stretch;justify-content: center;background-color: white;position: relative;}#sk-container-id-3 div.sk-item::before, #sk-container-id-3 div.sk-parallel-item::before {content: \"\";position: absolute;border-left: 1px solid gray;box-sizing: border-box;top: 0;bottom: 0;left: 50%;z-index: -1;}#sk-container-id-3 div.sk-parallel-item {display: flex;flex-direction: column;z-index: 1;position: relative;background-color: white;}#sk-container-id-3 div.sk-parallel-item:first-child::after {align-self: flex-end;width: 50%;}#sk-container-id-3 div.sk-parallel-item:last-child::after {align-self: flex-start;width: 50%;}#sk-container-id-3 div.sk-parallel-item:only-child::after {width: 0;}#sk-container-id-3 div.sk-dashed-wrapped {border: 1px dashed gray;margin: 0 0.4em 0.5em 0.4em;box-sizing: border-box;padding-bottom: 0.4em;background-color: white;}#sk-container-id-3 div.sk-label label {font-family: monospace;font-weight: bold;display: inline-block;line-height: 1.2em;}#sk-container-id-3 div.sk-label-container {text-align: center;}#sk-container-id-3 div.sk-container {/* jupyter's `normalize.less` sets `[hidden] { display: none; }` but bootstrap.min.css set `[hidden] { display: none !important; }` so we also need the `!important` here to be able to override the default hidden behavior on the sphinx rendered scikit-learn.org. See: https://github.com/scikit-learn/scikit-learn/issues/21755 */display: inline-block !important;position: relative;}#sk-container-id-3 div.sk-text-repr-fallback {display: none;}</style><div id=\"sk-container-id-3\" class=\"sk-top-container\"><div class=\"sk-text-repr-fallback\"><pre>XGBRegressor(base_score=None, booster=None, callbacks=None,\n",
       "             colsample_bylevel=None, colsample_bynode=None,\n",
       "             colsample_bytree=None, early_stopping_rounds=None,\n",
       "             enable_categorical=False, eval_metric=None, feature_types=None,\n",
       "             gamma=None, gpu_id=None, grow_policy=None, importance_type=None,\n",
       "             interaction_constraints=None, learning_rate=None, max_bin=None,\n",
       "             max_cat_threshold=None, max_cat_to_onehot=None,\n",
       "             max_delta_step=None, max_depth=None, max_leaves=None,\n",
       "             min_child_weight=None, missing=nan, monotone_constraints=None,\n",
       "             n_estimators=100, n_jobs=None, num_parallel_tree=None,\n",
       "             predictor=None, random_state=None, ...)</pre><b>In a Jupyter environment, please rerun this cell to show the HTML representation or trust the notebook. <br />On GitHub, the HTML representation is unable to render, please try loading this page with nbviewer.org.</b></div><div class=\"sk-container\" hidden><div class=\"sk-item\"><div class=\"sk-estimator sk-toggleable\"><input class=\"sk-toggleable__control sk-hidden--visually\" id=\"sk-estimator-id-3\" type=\"checkbox\" checked><label for=\"sk-estimator-id-3\" class=\"sk-toggleable__label sk-toggleable__label-arrow\">XGBRegressor</label><div class=\"sk-toggleable__content\"><pre>XGBRegressor(base_score=None, booster=None, callbacks=None,\n",
       "             colsample_bylevel=None, colsample_bynode=None,\n",
       "             colsample_bytree=None, early_stopping_rounds=None,\n",
       "             enable_categorical=False, eval_metric=None, feature_types=None,\n",
       "             gamma=None, gpu_id=None, grow_policy=None, importance_type=None,\n",
       "             interaction_constraints=None, learning_rate=None, max_bin=None,\n",
       "             max_cat_threshold=None, max_cat_to_onehot=None,\n",
       "             max_delta_step=None, max_depth=None, max_leaves=None,\n",
       "             min_child_weight=None, missing=nan, monotone_constraints=None,\n",
       "             n_estimators=100, n_jobs=None, num_parallel_tree=None,\n",
       "             predictor=None, random_state=None, ...)</pre></div></div></div></div></div>"
      ],
      "text/plain": [
       "XGBRegressor(base_score=None, booster=None, callbacks=None,\n",
       "             colsample_bylevel=None, colsample_bynode=None,\n",
       "             colsample_bytree=None, early_stopping_rounds=None,\n",
       "             enable_categorical=False, eval_metric=None, feature_types=None,\n",
       "             gamma=None, gpu_id=None, grow_policy=None, importance_type=None,\n",
       "             interaction_constraints=None, learning_rate=None, max_bin=None,\n",
       "             max_cat_threshold=None, max_cat_to_onehot=None,\n",
       "             max_delta_step=None, max_depth=None, max_leaves=None,\n",
       "             min_child_weight=None, missing=nan, monotone_constraints=None,\n",
       "             n_estimators=100, n_jobs=None, num_parallel_tree=None,\n",
       "             predictor=None, random_state=None, ...)"
      ]
     },
     "execution_count": 23,
     "metadata": {},
     "output_type": "execute_result"
    }
   ],
   "source": [
    "model.fit(X, y)"
   ]
  },
  {
   "cell_type": "markdown",
   "id": "f1c73e84-00b8-44c5-81f2-9b87e3cf3de6",
   "metadata": {},
   "source": [
    "### Предсказываем"
   ]
  },
  {
   "cell_type": "code",
   "execution_count": 24,
   "id": "079d763d-cad1-4a96-935b-636633689598",
   "metadata": {},
   "outputs": [
    {
     "name": "stdout",
     "output_type": "stream",
     "text": [
      "Предсказание (Предикт): 40.074\n"
     ]
    }
   ],
   "source": [
    "row = [2.02220122, 0.31563495, 0.82797464, -0.30620401, 0.16003707,\n",
    "       -1.44411381, 0.87616892, -0.50446586, 0.23009474, 0.76201118]\n",
    "\n",
    "row = asarray(row).reshape((1, len(row)))\n",
    "\n",
    "yhat = model.predict(row)\n",
    "print('Предсказание (Предикт): %.3f' % yhat[0])"
   ]
  },
  {
   "cell_type": "markdown",
   "id": "31612ae3-24ff-4f0d-a605-6539e0f46efd",
   "metadata": {
    "jp-MarkdownHeadingCollapsed": true,
    "tags": []
   },
   "source": [
    "# LightGBM\n",
    "**LightGBM** -библиотека от Microsoft.\n",
    "\n",
    "В ней идет добавление авто выбора объектов и фокуса на тех частях бустинга, в которых мы имеем больший градиент. Это способствует значительному ускорению в обучении модели и улучшению показателей предсказания. "
   ]
  },
  {
   "cell_type": "markdown",
   "id": "bb8abd40-6b2d-4865-8549-019475b18625",
   "metadata": {
    "tags": []
   },
   "source": [
    "# LightGBM для классификации:"
   ]
  },
  {
   "cell_type": "markdown",
   "id": "fea13df4-7431-4c56-8f15-3ee80daf4439",
   "metadata": {},
   "source": [
    "### Libs:"
   ]
  },
  {
   "cell_type": "code",
   "execution_count": 25,
   "id": "61d17ec6-377f-4fb7-a929-4f15a8755f77",
   "metadata": {},
   "outputs": [],
   "source": [
    "from numpy import mean\n",
    "from numpy import std\n",
    "\n",
    "from sklearn.datasets import make_classification\n",
    "\n",
    "from sklearn.model_selection import cross_val_score\n",
    "from sklearn.model_selection import RepeatedStratifiedKFold\n",
    "\n",
    "from lightgbm import LGBMClassifier"
   ]
  },
  {
   "cell_type": "markdown",
   "id": "c497f96a-3b32-486b-a651-eda2da9caad2",
   "metadata": {},
   "source": [
    "### Oпределяем датасет"
   ]
  },
  {
   "cell_type": "code",
   "execution_count": 26,
   "id": "77e5618a-3224-4b9f-820d-b3b876de359a",
   "metadata": {},
   "outputs": [],
   "source": [
    "X, y = make_classification(\n",
    "    n_samples=1000,\n",
    "    n_features=10,\n",
    "    n_informative=5,\n",
    "    n_redundant=5,\n",
    "    random_state=42)"
   ]
  },
  {
   "cell_type": "markdown",
   "id": "f6166b1b-ef36-4611-aeaf-3d5470569d44",
   "metadata": {},
   "source": [
    "### Oпределяем модель вместе с кросс-валидацией"
   ]
  },
  {
   "cell_type": "code",
   "execution_count": 27,
   "id": "695f9dac-f152-421d-a9ee-2404fd1f6ba6",
   "metadata": {},
   "outputs": [],
   "source": [
    "model = LGBMClassifier()\n"
   ]
  },
  {
   "cell_type": "code",
   "execution_count": 28,
   "id": "cda709f5-845f-4d46-a8ab-91fe9faee866",
   "metadata": {},
   "outputs": [],
   "source": [
    "cv = RepeatedStratifiedKFold(\n",
    "    n_splits=10,\n",
    "    n_repeats=3,\n",
    "    random_state=42)"
   ]
  },
  {
   "cell_type": "code",
   "execution_count": 29,
   "id": "42fd77e3-9ab2-4efe-a2c3-91a1914d6b42",
   "metadata": {},
   "outputs": [
    {
     "name": "stdout",
     "output_type": "stream",
     "text": [
      "Точность: 0.936 (0.022)\n"
     ]
    }
   ],
   "source": [
    "n_scores = cross_val_score(\n",
    "    model,\n",
    "    X,\n",
    "    y,\n",
    "    scoring='accuracy',\n",
    "    cv=cv,\n",
    "    n_jobs=-1,\n",
    "    error_score='raise')\n",
    "\n",
    "print('Точность: %.3f (%.3f)' % (mean(n_scores), std(n_scores)))"
   ]
  },
  {
   "cell_type": "markdown",
   "id": "78ea4bfc-c2b1-4ddc-9abd-6663341b8419",
   "metadata": {},
   "source": [
    "### Тренируем модель на всём наборе данных"
   ]
  },
  {
   "cell_type": "code",
   "execution_count": 30,
   "id": "810dceda-d2ff-430b-94f6-98513507283c",
   "metadata": {},
   "outputs": [
    {
     "data": {
      "text/html": [
       "<style>#sk-container-id-4 {color: black;background-color: white;}#sk-container-id-4 pre{padding: 0;}#sk-container-id-4 div.sk-toggleable {background-color: white;}#sk-container-id-4 label.sk-toggleable__label {cursor: pointer;display: block;width: 100%;margin-bottom: 0;padding: 0.3em;box-sizing: border-box;text-align: center;}#sk-container-id-4 label.sk-toggleable__label-arrow:before {content: \"▸\";float: left;margin-right: 0.25em;color: #696969;}#sk-container-id-4 label.sk-toggleable__label-arrow:hover:before {color: black;}#sk-container-id-4 div.sk-estimator:hover label.sk-toggleable__label-arrow:before {color: black;}#sk-container-id-4 div.sk-toggleable__content {max-height: 0;max-width: 0;overflow: hidden;text-align: left;background-color: #f0f8ff;}#sk-container-id-4 div.sk-toggleable__content pre {margin: 0.2em;color: black;border-radius: 0.25em;background-color: #f0f8ff;}#sk-container-id-4 input.sk-toggleable__control:checked~div.sk-toggleable__content {max-height: 200px;max-width: 100%;overflow: auto;}#sk-container-id-4 input.sk-toggleable__control:checked~label.sk-toggleable__label-arrow:before {content: \"▾\";}#sk-container-id-4 div.sk-estimator input.sk-toggleable__control:checked~label.sk-toggleable__label {background-color: #d4ebff;}#sk-container-id-4 div.sk-label input.sk-toggleable__control:checked~label.sk-toggleable__label {background-color: #d4ebff;}#sk-container-id-4 input.sk-hidden--visually {border: 0;clip: rect(1px 1px 1px 1px);clip: rect(1px, 1px, 1px, 1px);height: 1px;margin: -1px;overflow: hidden;padding: 0;position: absolute;width: 1px;}#sk-container-id-4 div.sk-estimator {font-family: monospace;background-color: #f0f8ff;border: 1px dotted black;border-radius: 0.25em;box-sizing: border-box;margin-bottom: 0.5em;}#sk-container-id-4 div.sk-estimator:hover {background-color: #d4ebff;}#sk-container-id-4 div.sk-parallel-item::after {content: \"\";width: 100%;border-bottom: 1px solid gray;flex-grow: 1;}#sk-container-id-4 div.sk-label:hover label.sk-toggleable__label {background-color: #d4ebff;}#sk-container-id-4 div.sk-serial::before {content: \"\";position: absolute;border-left: 1px solid gray;box-sizing: border-box;top: 0;bottom: 0;left: 50%;z-index: 0;}#sk-container-id-4 div.sk-serial {display: flex;flex-direction: column;align-items: center;background-color: white;padding-right: 0.2em;padding-left: 0.2em;position: relative;}#sk-container-id-4 div.sk-item {position: relative;z-index: 1;}#sk-container-id-4 div.sk-parallel {display: flex;align-items: stretch;justify-content: center;background-color: white;position: relative;}#sk-container-id-4 div.sk-item::before, #sk-container-id-4 div.sk-parallel-item::before {content: \"\";position: absolute;border-left: 1px solid gray;box-sizing: border-box;top: 0;bottom: 0;left: 50%;z-index: -1;}#sk-container-id-4 div.sk-parallel-item {display: flex;flex-direction: column;z-index: 1;position: relative;background-color: white;}#sk-container-id-4 div.sk-parallel-item:first-child::after {align-self: flex-end;width: 50%;}#sk-container-id-4 div.sk-parallel-item:last-child::after {align-self: flex-start;width: 50%;}#sk-container-id-4 div.sk-parallel-item:only-child::after {width: 0;}#sk-container-id-4 div.sk-dashed-wrapped {border: 1px dashed gray;margin: 0 0.4em 0.5em 0.4em;box-sizing: border-box;padding-bottom: 0.4em;background-color: white;}#sk-container-id-4 div.sk-label label {font-family: monospace;font-weight: bold;display: inline-block;line-height: 1.2em;}#sk-container-id-4 div.sk-label-container {text-align: center;}#sk-container-id-4 div.sk-container {/* jupyter's `normalize.less` sets `[hidden] { display: none; }` but bootstrap.min.css set `[hidden] { display: none !important; }` so we also need the `!important` here to be able to override the default hidden behavior on the sphinx rendered scikit-learn.org. See: https://github.com/scikit-learn/scikit-learn/issues/21755 */display: inline-block !important;position: relative;}#sk-container-id-4 div.sk-text-repr-fallback {display: none;}</style><div id=\"sk-container-id-4\" class=\"sk-top-container\"><div class=\"sk-text-repr-fallback\"><pre>LGBMClassifier()</pre><b>In a Jupyter environment, please rerun this cell to show the HTML representation or trust the notebook. <br />On GitHub, the HTML representation is unable to render, please try loading this page with nbviewer.org.</b></div><div class=\"sk-container\" hidden><div class=\"sk-item\"><div class=\"sk-estimator sk-toggleable\"><input class=\"sk-toggleable__control sk-hidden--visually\" id=\"sk-estimator-id-4\" type=\"checkbox\" checked><label for=\"sk-estimator-id-4\" class=\"sk-toggleable__label sk-toggleable__label-arrow\">LGBMClassifier</label><div class=\"sk-toggleable__content\"><pre>LGBMClassifier()</pre></div></div></div></div></div>"
      ],
      "text/plain": [
       "LGBMClassifier()"
      ]
     },
     "execution_count": 30,
     "metadata": {},
     "output_type": "execute_result"
    }
   ],
   "source": [
    "model = LGBMClassifier()\n",
    "model.fit(X, y)"
   ]
  },
  {
   "cell_type": "markdown",
   "id": "0b02fc45-3281-4ece-b6c1-d2f4270fa7a9",
   "metadata": {},
   "source": [
    "### Предсказываем"
   ]
  },
  {
   "cell_type": "code",
   "execution_count": 31,
   "id": "a151e3b8-e692-4c70-8cf6-e838bcf5f191",
   "metadata": {},
   "outputs": [
    {
     "name": "stdout",
     "output_type": "stream",
     "text": [
      "Предсказание (Предикт): 1\n"
     ]
    }
   ],
   "source": [
    "row = [[2.56999479, -0.13019997, 3.16075093, -4.35936352, -1.61271951,\n",
    "        -1.39352057, -2.48924933, -1.93094078, 3.26130366, 2.05692145]]\n",
    "\n",
    "yhat = model.predict(row)\n",
    "\n",
    "print('Предсказание (Предикт): %d' % yhat[0])"
   ]
  },
  {
   "cell_type": "markdown",
   "id": "b085bd78-9b74-41a1-846e-d11e7df92281",
   "metadata": {
    "tags": []
   },
   "source": [
    "# LightGBM для регрессии:"
   ]
  },
  {
   "cell_type": "markdown",
   "id": "d12947a7-7048-412c-aff6-ec3fd001cc5f",
   "metadata": {},
   "source": [
    "### Libs:"
   ]
  },
  {
   "cell_type": "code",
   "execution_count": 32,
   "id": "45b7a0e5-93fa-47d8-baee-24c4ea95ead8",
   "metadata": {},
   "outputs": [],
   "source": [
    "from numpy import mean\n",
    "from numpy import std\n",
    "\n",
    "from sklearn.datasets import make_regression\n",
    "\n",
    "from sklearn.model_selection import cross_val_score\n",
    "from sklearn.model_selection import RepeatedKFold\n",
    "\n",
    "from lightgbm import LGBMRegressor"
   ]
  },
  {
   "cell_type": "markdown",
   "id": "82387718-2fd6-4295-8318-093bff97624d",
   "metadata": {},
   "source": [
    "### Oпределяем датасет"
   ]
  },
  {
   "cell_type": "code",
   "execution_count": 33,
   "id": "150fab45-d796-4e5f-997c-f798c13410d7",
   "metadata": {},
   "outputs": [],
   "source": [
    "X, y = make_regression(\n",
    "    n_samples=1000,\n",
    "    n_features=10,\n",
    "    n_informative=5,\n",
    "    random_state=1)"
   ]
  },
  {
   "cell_type": "markdown",
   "id": "2306946d-fbb8-4dc0-8478-cca282eb62fa",
   "metadata": {},
   "source": [
    "### Oпределяем модель вместе с кросс-валидацией. Метрика MAE"
   ]
  },
  {
   "cell_type": "code",
   "execution_count": 34,
   "id": "5ad96f3c-754a-47b9-8cd5-e7376bc89259",
   "metadata": {},
   "outputs": [],
   "source": [
    "model = LGBMRegressor()"
   ]
  },
  {
   "cell_type": "code",
   "execution_count": 35,
   "id": "37c08554-46e1-4569-ba15-dca5bc8380b3",
   "metadata": {},
   "outputs": [],
   "source": [
    "cv = RepeatedKFold(\n",
    "    n_splits=10,\n",
    "    n_repeats=3,\n",
    "    random_state=42)"
   ]
  },
  {
   "cell_type": "code",
   "execution_count": 36,
   "id": "c99f7768-058f-4a80-8162-7ecbe04b7a34",
   "metadata": {},
   "outputs": [],
   "source": [
    "n_scores = cross_val_score(\n",
    "    model,\n",
    "    X,\n",
    "    y,\n",
    "    scoring='neg_mean_absolute_error',\n",
    "    cv=cv,\n",
    "    n_jobs=-1,\n",
    "    error_score='raise')"
   ]
  },
  {
   "cell_type": "code",
   "execution_count": 37,
   "id": "34b5da38-1b9b-4413-bc27-82648a450837",
   "metadata": {},
   "outputs": [
    {
     "name": "stdout",
     "output_type": "stream",
     "text": [
      "MAE (Средняя Абсолютная Ошибка): -12.857 (1.387)\n"
     ]
    }
   ],
   "source": [
    "print('MAE (Средняя Абсолютная Ошибка): %.3f (%.3f)' % (mean(n_scores), std(n_scores)))"
   ]
  },
  {
   "cell_type": "markdown",
   "id": "11bcdc8d-209c-4c22-ab03-b0d6a83d12cc",
   "metadata": {},
   "source": [
    "### Тренируем модель на всём наборе данных"
   ]
  },
  {
   "cell_type": "code",
   "execution_count": 38,
   "id": "b0863d43-18b6-428b-b025-37bfab8b8465",
   "metadata": {},
   "outputs": [],
   "source": [
    "model = LGBMRegressor()"
   ]
  },
  {
   "cell_type": "code",
   "execution_count": 39,
   "id": "d9807d90-04a2-46ee-b117-ec92e16d7bff",
   "metadata": {},
   "outputs": [
    {
     "data": {
      "text/html": [
       "<style>#sk-container-id-5 {color: black;background-color: white;}#sk-container-id-5 pre{padding: 0;}#sk-container-id-5 div.sk-toggleable {background-color: white;}#sk-container-id-5 label.sk-toggleable__label {cursor: pointer;display: block;width: 100%;margin-bottom: 0;padding: 0.3em;box-sizing: border-box;text-align: center;}#sk-container-id-5 label.sk-toggleable__label-arrow:before {content: \"▸\";float: left;margin-right: 0.25em;color: #696969;}#sk-container-id-5 label.sk-toggleable__label-arrow:hover:before {color: black;}#sk-container-id-5 div.sk-estimator:hover label.sk-toggleable__label-arrow:before {color: black;}#sk-container-id-5 div.sk-toggleable__content {max-height: 0;max-width: 0;overflow: hidden;text-align: left;background-color: #f0f8ff;}#sk-container-id-5 div.sk-toggleable__content pre {margin: 0.2em;color: black;border-radius: 0.25em;background-color: #f0f8ff;}#sk-container-id-5 input.sk-toggleable__control:checked~div.sk-toggleable__content {max-height: 200px;max-width: 100%;overflow: auto;}#sk-container-id-5 input.sk-toggleable__control:checked~label.sk-toggleable__label-arrow:before {content: \"▾\";}#sk-container-id-5 div.sk-estimator input.sk-toggleable__control:checked~label.sk-toggleable__label {background-color: #d4ebff;}#sk-container-id-5 div.sk-label input.sk-toggleable__control:checked~label.sk-toggleable__label {background-color: #d4ebff;}#sk-container-id-5 input.sk-hidden--visually {border: 0;clip: rect(1px 1px 1px 1px);clip: rect(1px, 1px, 1px, 1px);height: 1px;margin: -1px;overflow: hidden;padding: 0;position: absolute;width: 1px;}#sk-container-id-5 div.sk-estimator {font-family: monospace;background-color: #f0f8ff;border: 1px dotted black;border-radius: 0.25em;box-sizing: border-box;margin-bottom: 0.5em;}#sk-container-id-5 div.sk-estimator:hover {background-color: #d4ebff;}#sk-container-id-5 div.sk-parallel-item::after {content: \"\";width: 100%;border-bottom: 1px solid gray;flex-grow: 1;}#sk-container-id-5 div.sk-label:hover label.sk-toggleable__label {background-color: #d4ebff;}#sk-container-id-5 div.sk-serial::before {content: \"\";position: absolute;border-left: 1px solid gray;box-sizing: border-box;top: 0;bottom: 0;left: 50%;z-index: 0;}#sk-container-id-5 div.sk-serial {display: flex;flex-direction: column;align-items: center;background-color: white;padding-right: 0.2em;padding-left: 0.2em;position: relative;}#sk-container-id-5 div.sk-item {position: relative;z-index: 1;}#sk-container-id-5 div.sk-parallel {display: flex;align-items: stretch;justify-content: center;background-color: white;position: relative;}#sk-container-id-5 div.sk-item::before, #sk-container-id-5 div.sk-parallel-item::before {content: \"\";position: absolute;border-left: 1px solid gray;box-sizing: border-box;top: 0;bottom: 0;left: 50%;z-index: -1;}#sk-container-id-5 div.sk-parallel-item {display: flex;flex-direction: column;z-index: 1;position: relative;background-color: white;}#sk-container-id-5 div.sk-parallel-item:first-child::after {align-self: flex-end;width: 50%;}#sk-container-id-5 div.sk-parallel-item:last-child::after {align-self: flex-start;width: 50%;}#sk-container-id-5 div.sk-parallel-item:only-child::after {width: 0;}#sk-container-id-5 div.sk-dashed-wrapped {border: 1px dashed gray;margin: 0 0.4em 0.5em 0.4em;box-sizing: border-box;padding-bottom: 0.4em;background-color: white;}#sk-container-id-5 div.sk-label label {font-family: monospace;font-weight: bold;display: inline-block;line-height: 1.2em;}#sk-container-id-5 div.sk-label-container {text-align: center;}#sk-container-id-5 div.sk-container {/* jupyter's `normalize.less` sets `[hidden] { display: none; }` but bootstrap.min.css set `[hidden] { display: none !important; }` so we also need the `!important` here to be able to override the default hidden behavior on the sphinx rendered scikit-learn.org. See: https://github.com/scikit-learn/scikit-learn/issues/21755 */display: inline-block !important;position: relative;}#sk-container-id-5 div.sk-text-repr-fallback {display: none;}</style><div id=\"sk-container-id-5\" class=\"sk-top-container\"><div class=\"sk-text-repr-fallback\"><pre>LGBMRegressor()</pre><b>In a Jupyter environment, please rerun this cell to show the HTML representation or trust the notebook. <br />On GitHub, the HTML representation is unable to render, please try loading this page with nbviewer.org.</b></div><div class=\"sk-container\" hidden><div class=\"sk-item\"><div class=\"sk-estimator sk-toggleable\"><input class=\"sk-toggleable__control sk-hidden--visually\" id=\"sk-estimator-id-5\" type=\"checkbox\" checked><label for=\"sk-estimator-id-5\" class=\"sk-toggleable__label sk-toggleable__label-arrow\">LGBMRegressor</label><div class=\"sk-toggleable__content\"><pre>LGBMRegressor()</pre></div></div></div></div></div>"
      ],
      "text/plain": [
       "LGBMRegressor()"
      ]
     },
     "execution_count": 39,
     "metadata": {},
     "output_type": "execute_result"
    }
   ],
   "source": [
    "model.fit(X, y)"
   ]
  },
  {
   "cell_type": "markdown",
   "id": "962b6dda-46d7-45d3-a73d-11df4a000dc0",
   "metadata": {},
   "source": [
    "### Предсказываем"
   ]
  },
  {
   "cell_type": "code",
   "execution_count": 40,
   "id": "d2937e4b-782e-44a0-9729-2ec3b5909516",
   "metadata": {},
   "outputs": [
    {
     "name": "stdout",
     "output_type": "stream",
     "text": [
      "Предсказание (Предикт): -82.040\n"
     ]
    }
   ],
   "source": [
    "row = [[2.02220122, 0.31563495, 0.82797464, -0.30620401, 0.16003707,\n",
    "        -1.44411381, 0.87616892, -0.50446586, 0.23009474, 0.76201118]]\n",
    "\n",
    "yhat = model.predict(row)\n",
    "print('Предсказание (Предикт): %.3f' % yhat[0])"
   ]
  },
  {
   "cell_type": "markdown",
   "id": "9afb0488-2963-4fcc-8b62-04f385017e06",
   "metadata": {},
   "source": [
    "# CatBoost\n",
    "**CatBoost** – это библиотека градиентного бустинга, которую создали разработчики Яндекса.\n",
    "\n",
    "Здесь используются “забывчивые” (oblivious) деревья решений, при помощи которых мы растим сбалансированное дерево. Одни и те же функции используются для создания разделений (split) на каждом уровне дерева.\n",
    "\n",
    "\n",
    "Более того, главным преимуществом CatBoost (помимо улучшения скорости вычислений) является **поддержка категориальных входных переменных**. Из-за этого библиотека получила свое название CatBoost, от \"Category Gradient Boosting\" (Категориальный Градиентный Бустинг)."
   ]
  },
  {
   "cell_type": "markdown",
   "id": "99c560d5-2777-44d4-88d9-363cdb4c75c0",
   "metadata": {},
   "source": [
    "# CatBoost в задаче классификации:"
   ]
  },
  {
   "cell_type": "markdown",
   "id": "2ea4ba63-024e-4f43-b802-8bba12e58607",
   "metadata": {},
   "source": [
    "### Libs:"
   ]
  },
  {
   "cell_type": "code",
   "execution_count": 41,
   "id": "b64fec30-bf31-471b-accb-8d8cdae1f4c5",
   "metadata": {},
   "outputs": [],
   "source": [
    "from numpy import mean\n",
    "from numpy import std\n",
    "\n",
    "from matplotlib import pyplot\n",
    "\n",
    "from sklearn.datasets import make_classification\n",
    "\n",
    "from sklearn.model_selection import cross_val_score\n",
    "from sklearn.model_selection import RepeatedStratifiedKFold\n",
    "\n",
    "from catboost import CatBoostClassifier"
   ]
  },
  {
   "cell_type": "markdown",
   "id": "3faab329-0059-43b2-9cf3-2a2660cbdd62",
   "metadata": {},
   "source": [
    "### Oпределяем датасет"
   ]
  },
  {
   "cell_type": "code",
   "execution_count": 42,
   "id": "7e9e7d3d-4fe8-4bf9-9da4-8f2681aa4eda",
   "metadata": {},
   "outputs": [],
   "source": [
    "X, y = make_classification(\n",
    "    n_samples=1000,\n",
    "    n_features=10,\n",
    "    n_informative=5,\n",
    "    n_redundant=5,\n",
    "    random_state=42)"
   ]
  },
  {
   "cell_type": "markdown",
   "id": "3faed58b-a119-4b8f-9237-5b157411a539",
   "metadata": {},
   "source": [
    "### Oпределяем модель вместе с кросс-валидацией"
   ]
  },
  {
   "cell_type": "code",
   "execution_count": 43,
   "id": "e2c80d46-4568-46a2-afec-7e47d2eea685",
   "metadata": {},
   "outputs": [],
   "source": [
    "model = CatBoostClassifier(\n",
    "    verbose=100,\n",
    "    n_estimators=100)"
   ]
  },
  {
   "cell_type": "code",
   "execution_count": 44,
   "id": "602ad3e0-97ca-4b5b-a4ec-28ae8751056e",
   "metadata": {},
   "outputs": [],
   "source": [
    "cv = RepeatedStratifiedKFold(\n",
    "    n_splits=10,\n",
    "    n_repeats=3,\n",
    "    random_state=42)"
   ]
  },
  {
   "cell_type": "code",
   "execution_count": 45,
   "id": "b38b1e44-5544-4382-942c-c872560201a5",
   "metadata": {},
   "outputs": [
    {
     "name": "stdout",
     "output_type": "stream",
     "text": [
      "Точность: 0.933 (0.021)\n"
     ]
    }
   ],
   "source": [
    "n_scores = cross_val_score(model,\n",
    "                           X,\n",
    "                           y,\n",
    "                           scoring='accuracy',\n",
    "                           cv=cv,\n",
    "                           n_jobs=-1,\n",
    "                           error_score='raise')\n",
    "print('Точность: %.3f (%.3f)' % (mean(n_scores), std(n_scores)))"
   ]
  },
  {
   "cell_type": "markdown",
   "id": "af97aef9-2f89-437b-98f8-27dfe73eb82a",
   "metadata": {},
   "source": [
    "### Тренируем модель на всём наборе данных"
   ]
  },
  {
   "cell_type": "code",
   "execution_count": 46,
   "id": "acd643b6-c201-4ae9-b56f-63234281fdc2",
   "metadata": {},
   "outputs": [],
   "source": [
    "model = CatBoostClassifier(verbose=0, n_estimators=100)"
   ]
  },
  {
   "cell_type": "code",
   "execution_count": 47,
   "id": "b483cb6b-208a-4e9c-9ed7-3747ab14bf4f",
   "metadata": {},
   "outputs": [
    {
     "data": {
      "text/plain": [
       "<catboost.core.CatBoostClassifier at 0x7f2dae7c9780>"
      ]
     },
     "execution_count": 47,
     "metadata": {},
     "output_type": "execute_result"
    }
   ],
   "source": [
    "model.fit(X, y)"
   ]
  },
  {
   "cell_type": "markdown",
   "id": "e494091b-e070-4e06-a09a-3d4416b4f96e",
   "metadata": {},
   "source": [
    "### Предсказываем"
   ]
  },
  {
   "cell_type": "code",
   "execution_count": 48,
   "id": "e8ede12c-df3f-4619-b80f-0860fd9e7290",
   "metadata": {},
   "outputs": [
    {
     "name": "stdout",
     "output_type": "stream",
     "text": [
      "Предсказание (Предикт): 1\n"
     ]
    }
   ],
   "source": [
    "row = [[2.56999479, -0.13019997, 3.16075093, -4.35936352, -1.61271951,\n",
    "        -1.39352057, -2.48924933, -1.93094078, 3.26130366, 2.05692145]]\n",
    "\n",
    "yhat = model.predict(row)\n",
    "print('Предсказание (Предикт): %d' % yhat[0])"
   ]
  },
  {
   "cell_type": "markdown",
   "id": "496b6b83-dc05-4bb7-b0ed-9a3becb3d6fa",
   "metadata": {},
   "source": [
    "# CatBoost в задаче регрессии:"
   ]
  },
  {
   "cell_type": "markdown",
   "id": "ebf0f8d4-1d7b-4e45-b298-2e2c9f95b768",
   "metadata": {},
   "source": [
    "### Libs:"
   ]
  },
  {
   "cell_type": "code",
   "execution_count": 50,
   "id": "15e020b4-0ee9-4629-a952-e8ed4bd1eb8a",
   "metadata": {},
   "outputs": [],
   "source": [
    "from numpy import mean\n",
    "from numpy import std\n",
    "\n",
    "from matplotlib import pyplot\n",
    "\n",
    "from sklearn.datasets import make_regression\n",
    "\n",
    "from sklearn.model_selection import cross_val_score\n",
    "from sklearn.model_selection import RepeatedKFold\n",
    "\n",
    "from catboost import CatBoostRegressor"
   ]
  },
  {
   "cell_type": "markdown",
   "id": "cd7129d2-6f8e-4dcb-966e-327d2020b7a0",
   "metadata": {},
   "source": [
    "### Oпределяем датасет"
   ]
  },
  {
   "cell_type": "code",
   "execution_count": 51,
   "id": "3b80f5c5-e6b2-4af6-877f-2ed686aa22bd",
   "metadata": {},
   "outputs": [],
   "source": [
    "X, y = make_regression(n_samples=1000,\n",
    "                       n_features=10,\n",
    "                       n_informative=5,\n",
    "                       random_state=42)"
   ]
  },
  {
   "cell_type": "markdown",
   "id": "0c437606-40c4-470e-a4a7-ae51cc426e98",
   "metadata": {},
   "source": [
    "### Oпределяем модель вместе с кросс-валидацией. Метрика MAE"
   ]
  },
  {
   "cell_type": "code",
   "execution_count": 52,
   "id": "7e867a4c-ddf1-4338-89a5-a2622422941b",
   "metadata": {},
   "outputs": [],
   "source": [
    "model = CatBoostRegressor(verbose=0, n_estimators=100)"
   ]
  },
  {
   "cell_type": "code",
   "execution_count": 53,
   "id": "56147fdb-6e91-46a9-bdb2-532a2135c5e9",
   "metadata": {},
   "outputs": [],
   "source": [
    "cv = RepeatedKFold(n_splits=10,\n",
    "                   n_repeats=3,\n",
    "                   random_state=42)"
   ]
  },
  {
   "cell_type": "code",
   "execution_count": 54,
   "id": "bf7e88e7-576e-4876-9042-fe9a86466aa1",
   "metadata": {},
   "outputs": [],
   "source": [
    "n_scores = cross_val_score(model,\n",
    "                           X,\n",
    "                           y,\n",
    "                           scoring='neg_mean_absolute_error',\n",
    "                           cv=cv,\n",
    "                           n_jobs=-1,\n",
    "                           error_score='raise')"
   ]
  },
  {
   "cell_type": "code",
   "execution_count": 55,
   "id": "923cd9bc-a652-461f-8065-d05a14524dd3",
   "metadata": {},
   "outputs": [
    {
     "name": "stdout",
     "output_type": "stream",
     "text": [
      "MAE (Средняя Абсолютная Ошибка): -5.415 (0.650)\n"
     ]
    }
   ],
   "source": [
    "print('MAE (Средняя Абсолютная Ошибка): %.3f (%.3f)' % (mean(n_scores), std(n_scores)))"
   ]
  },
  {
   "cell_type": "markdown",
   "id": "15240e96-784c-4ed7-808a-15b6ecf4aa02",
   "metadata": {},
   "source": [
    "### Тренируем модель на всём наборе данных"
   ]
  },
  {
   "cell_type": "code",
   "execution_count": 56,
   "id": "63c16cee-7fd5-4792-a892-5ccb9e0e4354",
   "metadata": {},
   "outputs": [],
   "source": [
    "model = CatBoostRegressor(verbose=0, n_estimators=100)"
   ]
  },
  {
   "cell_type": "code",
   "execution_count": 57,
   "id": "2f99a059-ed0e-4ee7-8d83-fa8e306430fe",
   "metadata": {},
   "outputs": [
    {
     "data": {
      "text/plain": [
       "<catboost.core.CatBoostRegressor at 0x7f2dae7cbaf0>"
      ]
     },
     "execution_count": 57,
     "metadata": {},
     "output_type": "execute_result"
    }
   ],
   "source": [
    "model.fit(X, y)"
   ]
  },
  {
   "cell_type": "markdown",
   "id": "7d47ed43-8282-4078-be2e-360e4eb6fa6c",
   "metadata": {},
   "source": [
    "### Предсказываем"
   ]
  },
  {
   "cell_type": "code",
   "execution_count": 58,
   "id": "3f92ae2d-251b-481a-b50d-67191d4f4a3e",
   "metadata": {},
   "outputs": [
    {
     "name": "stdout",
     "output_type": "stream",
     "text": [
      "Предсказание (Предикт): 38.018\n"
     ]
    }
   ],
   "source": [
    "row = [[2.02220122, 0.31563495, 0.82797464, -0.30620401, 0.16003707,\n",
    "        -1.44411381, 0.87616892, -0.50446586, 0.23009474, 0.76201118]]\n",
    "\n",
    "yhat = model.predict(row)\n",
    "print('Предсказание (Предикт): %.3f' % yhat[0])"
   ]
  },
  {
   "cell_type": "code",
   "execution_count": null,
   "id": "c177d6da-3a98-4491-b321-560e6d54fdb7",
   "metadata": {},
   "outputs": [],
   "source": []
  },
  {
   "cell_type": "code",
   "execution_count": null,
   "id": "9dbcaba5-0c15-473d-9cc8-eed37df2bcaf",
   "metadata": {},
   "outputs": [],
   "source": []
  },
  {
   "cell_type": "code",
   "execution_count": null,
   "id": "b8f6f5ec-74bf-400a-b50b-c4c78ccda6f0",
   "metadata": {},
   "outputs": [],
   "source": []
  }
 ],
 "metadata": {
  "kernelspec": {
   "display_name": "Python 3 (ipykernel)",
   "language": "python",
   "name": "python3"
  },
  "language_info": {
   "codemirror_mode": {
    "name": "ipython",
    "version": 3
   },
   "file_extension": ".py",
   "mimetype": "text/x-python",
   "name": "python",
   "nbconvert_exporter": "python",
   "pygments_lexer": "ipython3",
   "version": "3.10.9"
  }
 },
 "nbformat": 4,
 "nbformat_minor": 5
}
