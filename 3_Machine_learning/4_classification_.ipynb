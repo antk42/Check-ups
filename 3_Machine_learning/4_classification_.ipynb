{
 "cells": [
  {
   "cell_type": "code",
   "execution_count": 1,
   "id": "06c02bca-3e5f-4ba5-961c-2d1aa2f77d1a",
   "metadata": {},
   "outputs": [],
   "source": [
    "import pandas as pd\n",
    "import numpy as np"
   ]
  },
  {
   "cell_type": "code",
   "execution_count": 2,
   "id": "5513b933-fcfe-4ad0-8afa-28310391efcf",
   "metadata": {},
   "outputs": [],
   "source": [
    "df = pd.read_csv('/home/antonius/Projects/DS_Projects/Check-ups/3_Machine_learning/data//churn-modeling.zip')"
   ]
  },
  {
   "cell_type": "code",
   "execution_count": 3,
   "id": "2f163c29-c9c6-40c9-8e34-2ba9de715d75",
   "metadata": {},
   "outputs": [
    {
     "data": {
      "text/html": [
       "<div>\n",
       "<style scoped>\n",
       "    .dataframe tbody tr th:only-of-type {\n",
       "        vertical-align: middle;\n",
       "    }\n",
       "\n",
       "    .dataframe tbody tr th {\n",
       "        vertical-align: top;\n",
       "    }\n",
       "\n",
       "    .dataframe thead th {\n",
       "        text-align: right;\n",
       "    }\n",
       "</style>\n",
       "<table border=\"1\" class=\"dataframe\">\n",
       "  <thead>\n",
       "    <tr style=\"text-align: right;\">\n",
       "      <th></th>\n",
       "      <th>RowNumber</th>\n",
       "      <th>CustomerId</th>\n",
       "      <th>Surname</th>\n",
       "      <th>CreditScore</th>\n",
       "      <th>Geography</th>\n",
       "      <th>Gender</th>\n",
       "      <th>Age</th>\n",
       "      <th>Tenure</th>\n",
       "      <th>Balance</th>\n",
       "      <th>NumOfProducts</th>\n",
       "      <th>HasCrCard</th>\n",
       "      <th>IsActiveMember</th>\n",
       "      <th>EstimatedSalary</th>\n",
       "      <th>Exited</th>\n",
       "    </tr>\n",
       "  </thead>\n",
       "  <tbody>\n",
       "    <tr>\n",
       "      <th>0</th>\n",
       "      <td>1</td>\n",
       "      <td>15634602</td>\n",
       "      <td>Hargrave</td>\n",
       "      <td>619</td>\n",
       "      <td>France</td>\n",
       "      <td>Female</td>\n",
       "      <td>42</td>\n",
       "      <td>2</td>\n",
       "      <td>0.00</td>\n",
       "      <td>1</td>\n",
       "      <td>1</td>\n",
       "      <td>1</td>\n",
       "      <td>101348.88</td>\n",
       "      <td>1</td>\n",
       "    </tr>\n",
       "    <tr>\n",
       "      <th>1</th>\n",
       "      <td>2</td>\n",
       "      <td>15647311</td>\n",
       "      <td>Hill</td>\n",
       "      <td>608</td>\n",
       "      <td>Spain</td>\n",
       "      <td>Female</td>\n",
       "      <td>41</td>\n",
       "      <td>1</td>\n",
       "      <td>83807.86</td>\n",
       "      <td>1</td>\n",
       "      <td>0</td>\n",
       "      <td>1</td>\n",
       "      <td>112542.58</td>\n",
       "      <td>0</td>\n",
       "    </tr>\n",
       "    <tr>\n",
       "      <th>2</th>\n",
       "      <td>3</td>\n",
       "      <td>15619304</td>\n",
       "      <td>Onio</td>\n",
       "      <td>502</td>\n",
       "      <td>France</td>\n",
       "      <td>Female</td>\n",
       "      <td>42</td>\n",
       "      <td>8</td>\n",
       "      <td>159660.80</td>\n",
       "      <td>3</td>\n",
       "      <td>1</td>\n",
       "      <td>0</td>\n",
       "      <td>113931.57</td>\n",
       "      <td>1</td>\n",
       "    </tr>\n",
       "  </tbody>\n",
       "</table>\n",
       "</div>"
      ],
      "text/plain": [
       "   RowNumber  CustomerId   Surname  CreditScore Geography  Gender  Age  \\\n",
       "0          1    15634602  Hargrave          619    France  Female   42   \n",
       "1          2    15647311      Hill          608     Spain  Female   41   \n",
       "2          3    15619304      Onio          502    France  Female   42   \n",
       "\n",
       "   Tenure    Balance  NumOfProducts  HasCrCard  IsActiveMember  \\\n",
       "0       2       0.00              1          1               1   \n",
       "1       1   83807.86              1          0               1   \n",
       "2       8  159660.80              3          1               0   \n",
       "\n",
       "   EstimatedSalary  Exited  \n",
       "0        101348.88       1  \n",
       "1        112542.58       0  \n",
       "2        113931.57       1  "
      ]
     },
     "execution_count": 3,
     "metadata": {},
     "output_type": "execute_result"
    }
   ],
   "source": [
    "df.head(3)"
   ]
  },
  {
   "cell_type": "code",
   "execution_count": 4,
   "id": "58e7ae7e-9b08-4382-befd-5a7c52476f7b",
   "metadata": {},
   "outputs": [
    {
     "data": {
      "text/plain": [
       "10000"
      ]
     },
     "execution_count": 4,
     "metadata": {},
     "output_type": "execute_result"
    }
   ],
   "source": [
    "len(df)"
   ]
  },
  {
   "cell_type": "code",
   "execution_count": 5,
   "id": "fb04e940-0b29-4195-baf4-5a8442bbbdc1",
   "metadata": {},
   "outputs": [
    {
     "data": {
      "text/plain": [
       "RowNumber          0.0\n",
       "CustomerId         0.0\n",
       "Surname            0.0\n",
       "CreditScore        0.0\n",
       "Geography          0.0\n",
       "Gender             0.0\n",
       "Age                0.0\n",
       "Tenure             0.0\n",
       "Balance            0.0\n",
       "NumOfProducts      0.0\n",
       "HasCrCard          0.0\n",
       "IsActiveMember     0.0\n",
       "EstimatedSalary    0.0\n",
       "Exited             0.0\n",
       "dtype: float64"
      ]
     },
     "execution_count": 5,
     "metadata": {},
     "output_type": "execute_result"
    }
   ],
   "source": [
    "df.isna().mean()"
   ]
  },
  {
   "cell_type": "code",
   "execution_count": 6,
   "id": "97adc5f6-154b-45d6-9adf-b10a3ea3be78",
   "metadata": {},
   "outputs": [
    {
     "data": {
      "text/plain": [
       "0    7963\n",
       "1    2037\n",
       "Name: Exited, dtype: int64"
      ]
     },
     "execution_count": 6,
     "metadata": {},
     "output_type": "execute_result"
    }
   ],
   "source": [
    "df['Exited'].value_counts()"
   ]
  },
  {
   "cell_type": "code",
   "execution_count": 7,
   "id": "e3e97e0e-580c-4fa5-a4db-0dde89539244",
   "metadata": {},
   "outputs": [
    {
     "data": {
      "text/plain": [
       "0    0.7963\n",
       "1    0.2037\n",
       "Name: Exited, dtype: float64"
      ]
     },
     "execution_count": 7,
     "metadata": {},
     "output_type": "execute_result"
    }
   ],
   "source": [
    "df['Exited'].value_counts(normalize=True)"
   ]
  },
  {
   "cell_type": "code",
   "execution_count": 8,
   "id": "0562da6d-af66-45d6-b875-93a2394d8db7",
   "metadata": {},
   "outputs": [
    {
     "data": {
      "text/plain": [
       "0.2037"
      ]
     },
     "execution_count": 8,
     "metadata": {},
     "output_type": "execute_result"
    }
   ],
   "source": [
    "df['Exited'].mean()"
   ]
  },
  {
   "cell_type": "markdown",
   "id": "5c7be33f-b25e-4e80-a79a-aa78096a517c",
   "metadata": {},
   "source": [
    "# Обучающая, валидационная и тестовая выборка"
   ]
  },
  {
   "cell_type": "code",
   "execution_count": 9,
   "id": "3acfeac1-ffda-4192-884c-974a72129166",
   "metadata": {},
   "outputs": [],
   "source": [
    "from sklearn.model_selection import train_test_split"
   ]
  },
  {
   "cell_type": "code",
   "execution_count": 10,
   "id": "3fc00da9-c724-4023-be55-fa66871c4199",
   "metadata": {},
   "outputs": [],
   "source": [
    "train, test = train_test_split(df,train_size=0.6,random_state=42,stratify=df['Exited'])"
   ]
  },
  {
   "cell_type": "code",
   "execution_count": 11,
   "id": "93c99feb-855f-47cf-90ff-1a46316ea997",
   "metadata": {},
   "outputs": [],
   "source": [
    "val, test = train_test_split(test,train_size=0.5,random_state=42,stratify=test['Exited'])"
   ]
  },
  {
   "cell_type": "code",
   "execution_count": 12,
   "id": "90594acb-e6a2-4608-9f98-b49156daa051",
   "metadata": {},
   "outputs": [
    {
     "data": {
      "text/plain": [
       "0.20366666666666666"
      ]
     },
     "execution_count": 12,
     "metadata": {},
     "output_type": "execute_result"
    }
   ],
   "source": [
    "train['Exited'].mean()"
   ]
  },
  {
   "cell_type": "code",
   "execution_count": 13,
   "id": "c4fb3765-6769-484d-bd70-509a5b166446",
   "metadata": {},
   "outputs": [
    {
     "data": {
      "text/plain": [
       "0.204"
      ]
     },
     "execution_count": 13,
     "metadata": {},
     "output_type": "execute_result"
    }
   ],
   "source": [
    "val['Exited'].mean()"
   ]
  },
  {
   "cell_type": "code",
   "execution_count": 14,
   "id": "b2b2a38f-7280-4399-9680-b4566346ce40",
   "metadata": {},
   "outputs": [
    {
     "data": {
      "text/plain": [
       "0.2035"
      ]
     },
     "execution_count": 14,
     "metadata": {},
     "output_type": "execute_result"
    }
   ],
   "source": [
    "test['Exited'].mean()"
   ]
  },
  {
   "cell_type": "markdown",
   "id": "3c4ec933-8e6d-44e0-9d92-c7b0bedd8344",
   "metadata": {},
   "source": [
    "# Phik"
   ]
  },
  {
   "cell_type": "code",
   "execution_count": 15,
   "id": "07af0f10-9685-43b7-854a-d8c102bbf151",
   "metadata": {},
   "outputs": [],
   "source": [
    "train_full = pd.concat([train,val])"
   ]
  },
  {
   "cell_type": "code",
   "execution_count": 16,
   "id": "69b2825c-195d-4e49-9248-ef34877e1d5d",
   "metadata": {},
   "outputs": [
    {
     "data": {
      "text/html": [
       "<div>\n",
       "<style scoped>\n",
       "    .dataframe tbody tr th:only-of-type {\n",
       "        vertical-align: middle;\n",
       "    }\n",
       "\n",
       "    .dataframe tbody tr th {\n",
       "        vertical-align: top;\n",
       "    }\n",
       "\n",
       "    .dataframe thead th {\n",
       "        text-align: right;\n",
       "    }\n",
       "</style>\n",
       "<table border=\"1\" class=\"dataframe\">\n",
       "  <thead>\n",
       "    <tr style=\"text-align: right;\">\n",
       "      <th></th>\n",
       "      <th>RowNumber</th>\n",
       "      <th>CustomerId</th>\n",
       "      <th>Surname</th>\n",
       "      <th>CreditScore</th>\n",
       "      <th>Geography</th>\n",
       "      <th>Gender</th>\n",
       "      <th>Age</th>\n",
       "      <th>Tenure</th>\n",
       "      <th>Balance</th>\n",
       "      <th>NumOfProducts</th>\n",
       "      <th>HasCrCard</th>\n",
       "      <th>IsActiveMember</th>\n",
       "      <th>EstimatedSalary</th>\n",
       "      <th>Exited</th>\n",
       "    </tr>\n",
       "  </thead>\n",
       "  <tbody>\n",
       "    <tr>\n",
       "      <th>6851</th>\n",
       "      <td>6852</td>\n",
       "      <td>15779103</td>\n",
       "      <td>Cantamessa</td>\n",
       "      <td>527</td>\n",
       "      <td>Germany</td>\n",
       "      <td>Female</td>\n",
       "      <td>39</td>\n",
       "      <td>9</td>\n",
       "      <td>96748.89</td>\n",
       "      <td>2</td>\n",
       "      <td>1</td>\n",
       "      <td>0</td>\n",
       "      <td>94711.43</td>\n",
       "      <td>0</td>\n",
       "    </tr>\n",
       "    <tr>\n",
       "      <th>7026</th>\n",
       "      <td>7027</td>\n",
       "      <td>15588123</td>\n",
       "      <td>Horton</td>\n",
       "      <td>677</td>\n",
       "      <td>France</td>\n",
       "      <td>Female</td>\n",
       "      <td>27</td>\n",
       "      <td>2</td>\n",
       "      <td>0.00</td>\n",
       "      <td>2</td>\n",
       "      <td>0</td>\n",
       "      <td>1</td>\n",
       "      <td>114685.92</td>\n",
       "      <td>0</td>\n",
       "    </tr>\n",
       "  </tbody>\n",
       "</table>\n",
       "</div>"
      ],
      "text/plain": [
       "      RowNumber  CustomerId     Surname  CreditScore Geography  Gender  Age  \\\n",
       "6851       6852    15779103  Cantamessa          527   Germany  Female   39   \n",
       "7026       7027    15588123      Horton          677    France  Female   27   \n",
       "\n",
       "      Tenure   Balance  NumOfProducts  HasCrCard  IsActiveMember  \\\n",
       "6851       9  96748.89              2          1               0   \n",
       "7026       2      0.00              2          0               1   \n",
       "\n",
       "      EstimatedSalary  Exited  \n",
       "6851         94711.43       0  \n",
       "7026        114685.92       0  "
      ]
     },
     "execution_count": 16,
     "metadata": {},
     "output_type": "execute_result"
    }
   ],
   "source": [
    "train_full.head(2)"
   ]
  },
  {
   "cell_type": "code",
   "execution_count": 17,
   "id": "f94087e7-1d93-4d02-b719-47ca35c09fe4",
   "metadata": {},
   "outputs": [],
   "source": [
    "import phik"
   ]
  },
  {
   "cell_type": "code",
   "execution_count": 18,
   "id": "52aace25-050f-42b0-9ee1-74db98f1d6fb",
   "metadata": {},
   "outputs": [
    {
     "name": "stdout",
     "output_type": "stream",
     "text": [
      "interval columns not set, guessing: ['RowNumber', 'CustomerId', 'CreditScore', 'Age', 'Tenure', 'Balance', 'NumOfProducts', 'HasCrCard', 'IsActiveMember', 'EstimatedSalary', 'Exited']\n"
     ]
    },
    {
     "name": "stderr",
     "output_type": "stream",
     "text": [
      "/home/antonius/.local/lib/python3.10/site-packages/phik/data_quality.py:59: UserWarning: The number of unique values of variable Surname is large: 2591. Are you sure this is not an interval variable? Analysis for pairs of variables including Surname can be slow.\n",
      "  warnings.warn(\n"
     ]
    }
   ],
   "source": [
    "phik_overview = train_full.phik_matrix()"
   ]
  },
  {
   "cell_type": "code",
   "execution_count": 19,
   "id": "14264fa1-7e65-4ebe-b5f9-c00d4c142623",
   "metadata": {},
   "outputs": [
    {
     "data": {
      "text/plain": [
       "Exited             1.000000\n",
       "NumOfProducts      0.564969\n",
       "Age                0.498768\n",
       "IsActiveMember     0.237244\n",
       "Balance            0.167823\n",
       "Gender             0.165231\n",
       "CreditScore        0.105371\n",
       "Geography          0.104047\n",
       "CustomerId         0.035477\n",
       "Tenure             0.030333\n",
       "RowNumber          0.000000\n",
       "Surname            0.000000\n",
       "HasCrCard          0.000000\n",
       "EstimatedSalary    0.000000\n",
       "Name: Exited, dtype: float64"
      ]
     },
     "execution_count": 19,
     "metadata": {},
     "output_type": "execute_result"
    }
   ],
   "source": [
    "phik_overview['Exited'].sort_values(ascending=False)"
   ]
  },
  {
   "cell_type": "markdown",
   "id": "a9bfb5f7-f9f1-4851-a99b-7e88d5b2e7d4",
   "metadata": {},
   "source": [
    "# Человеческое обучение"
   ]
  },
  {
   "cell_type": "code",
   "execution_count": 20,
   "id": "145c3ddb-3707-4263-94b1-d66fe960151a",
   "metadata": {},
   "outputs": [
    {
     "data": {
      "text/html": [
       "<div>\n",
       "<style scoped>\n",
       "    .dataframe tbody tr th:only-of-type {\n",
       "        vertical-align: middle;\n",
       "    }\n",
       "\n",
       "    .dataframe tbody tr th {\n",
       "        vertical-align: top;\n",
       "    }\n",
       "\n",
       "    .dataframe thead th {\n",
       "        text-align: right;\n",
       "    }\n",
       "</style>\n",
       "<table border=\"1\" class=\"dataframe\">\n",
       "  <thead>\n",
       "    <tr style=\"text-align: right;\">\n",
       "      <th></th>\n",
       "      <th>RowNumber</th>\n",
       "      <th>CustomerId</th>\n",
       "      <th>Surname</th>\n",
       "      <th>CreditScore</th>\n",
       "      <th>Geography</th>\n",
       "      <th>Gender</th>\n",
       "      <th>Age</th>\n",
       "      <th>Tenure</th>\n",
       "      <th>Balance</th>\n",
       "      <th>NumOfProducts</th>\n",
       "      <th>HasCrCard</th>\n",
       "      <th>IsActiveMember</th>\n",
       "      <th>EstimatedSalary</th>\n",
       "      <th>Exited</th>\n",
       "    </tr>\n",
       "  </thead>\n",
       "  <tbody>\n",
       "    <tr>\n",
       "      <th>6851</th>\n",
       "      <td>6852</td>\n",
       "      <td>15779103</td>\n",
       "      <td>Cantamessa</td>\n",
       "      <td>527</td>\n",
       "      <td>Germany</td>\n",
       "      <td>Female</td>\n",
       "      <td>39</td>\n",
       "      <td>9</td>\n",
       "      <td>96748.89</td>\n",
       "      <td>2</td>\n",
       "      <td>1</td>\n",
       "      <td>0</td>\n",
       "      <td>94711.43</td>\n",
       "      <td>0</td>\n",
       "    </tr>\n",
       "    <tr>\n",
       "      <th>7026</th>\n",
       "      <td>7027</td>\n",
       "      <td>15588123</td>\n",
       "      <td>Horton</td>\n",
       "      <td>677</td>\n",
       "      <td>France</td>\n",
       "      <td>Female</td>\n",
       "      <td>27</td>\n",
       "      <td>2</td>\n",
       "      <td>0.00</td>\n",
       "      <td>2</td>\n",
       "      <td>0</td>\n",
       "      <td>1</td>\n",
       "      <td>114685.92</td>\n",
       "      <td>0</td>\n",
       "    </tr>\n",
       "  </tbody>\n",
       "</table>\n",
       "</div>"
      ],
      "text/plain": [
       "      RowNumber  CustomerId     Surname  CreditScore Geography  Gender  Age  \\\n",
       "6851       6852    15779103  Cantamessa          527   Germany  Female   39   \n",
       "7026       7027    15588123      Horton          677    France  Female   27   \n",
       "\n",
       "      Tenure   Balance  NumOfProducts  HasCrCard  IsActiveMember  \\\n",
       "6851       9  96748.89              2          1               0   \n",
       "7026       2      0.00              2          0               1   \n",
       "\n",
       "      EstimatedSalary  Exited  \n",
       "6851         94711.43       0  \n",
       "7026        114685.92       0  "
      ]
     },
     "execution_count": 20,
     "metadata": {},
     "output_type": "execute_result"
    }
   ],
   "source": [
    "train_full.head(2)"
   ]
  },
  {
   "cell_type": "code",
   "execution_count": 21,
   "id": "d88412d7-ee59-473b-8558-6723c0d9673b",
   "metadata": {},
   "outputs": [
    {
     "data": {
      "text/html": [
       "<div>\n",
       "<style scoped>\n",
       "    .dataframe tbody tr th:only-of-type {\n",
       "        vertical-align: middle;\n",
       "    }\n",
       "\n",
       "    .dataframe tbody tr th {\n",
       "        vertical-align: top;\n",
       "    }\n",
       "\n",
       "    .dataframe thead th {\n",
       "        text-align: right;\n",
       "    }\n",
       "</style>\n",
       "<table border=\"1\" class=\"dataframe\">\n",
       "  <thead>\n",
       "    <tr style=\"text-align: right;\">\n",
       "      <th></th>\n",
       "      <th>count</th>\n",
       "      <th>mean</th>\n",
       "    </tr>\n",
       "    <tr>\n",
       "      <th>NumOfProducts</th>\n",
       "      <th></th>\n",
       "      <th></th>\n",
       "    </tr>\n",
       "  </thead>\n",
       "  <tbody>\n",
       "    <tr>\n",
       "      <th>1</th>\n",
       "      <td>4060</td>\n",
       "      <td>0.275369</td>\n",
       "    </tr>\n",
       "    <tr>\n",
       "      <th>2</th>\n",
       "      <td>3673</td>\n",
       "      <td>0.077049</td>\n",
       "    </tr>\n",
       "    <tr>\n",
       "      <th>3</th>\n",
       "      <td>219</td>\n",
       "      <td>0.826484</td>\n",
       "    </tr>\n",
       "    <tr>\n",
       "      <th>4</th>\n",
       "      <td>48</td>\n",
       "      <td>1.000000</td>\n",
       "    </tr>\n",
       "  </tbody>\n",
       "</table>\n",
       "</div>"
      ],
      "text/plain": [
       "               count      mean\n",
       "NumOfProducts                 \n",
       "1               4060  0.275369\n",
       "2               3673  0.077049\n",
       "3                219  0.826484\n",
       "4                 48  1.000000"
      ]
     },
     "execution_count": 21,
     "metadata": {},
     "output_type": "execute_result"
    }
   ],
   "source": [
    "train_full.groupby('NumOfProducts')['Exited'].agg(['count','mean'])"
   ]
  },
  {
   "cell_type": "code",
   "execution_count": 22,
   "id": "5d4ab0f4-9377-4219-9609-0f6ed9f8ecee",
   "metadata": {},
   "outputs": [],
   "source": [
    "model = train_full.groupby('NumOfProducts')['Exited'].mean().reset_index()"
   ]
  },
  {
   "cell_type": "code",
   "execution_count": 23,
   "id": "a9236ee5-d62a-41ee-ad29-cefb8e2d1cee",
   "metadata": {},
   "outputs": [],
   "source": [
    "model = model.rename({'Exited':'score_prod'},axis=1)"
   ]
  },
  {
   "cell_type": "code",
   "execution_count": 24,
   "id": "287bb8bd-29ea-4e44-851c-1b616bf63ef5",
   "metadata": {},
   "outputs": [],
   "source": [
    "train_full = train_full.merge(model,how='left',on='NumOfProducts')"
   ]
  },
  {
   "cell_type": "code",
   "execution_count": 25,
   "id": "94ae12da-8d57-43c4-9fb1-4397b1792cd7",
   "metadata": {},
   "outputs": [
    {
     "data": {
      "text/html": [
       "<div>\n",
       "<style scoped>\n",
       "    .dataframe tbody tr th:only-of-type {\n",
       "        vertical-align: middle;\n",
       "    }\n",
       "\n",
       "    .dataframe tbody tr th {\n",
       "        vertical-align: top;\n",
       "    }\n",
       "\n",
       "    .dataframe thead th {\n",
       "        text-align: right;\n",
       "    }\n",
       "</style>\n",
       "<table border=\"1\" class=\"dataframe\">\n",
       "  <thead>\n",
       "    <tr style=\"text-align: right;\">\n",
       "      <th></th>\n",
       "      <th>count</th>\n",
       "      <th>mean</th>\n",
       "    </tr>\n",
       "    <tr>\n",
       "      <th>score_prod</th>\n",
       "      <th></th>\n",
       "      <th></th>\n",
       "    </tr>\n",
       "  </thead>\n",
       "  <tbody>\n",
       "    <tr>\n",
       "      <th>0.077049</th>\n",
       "      <td>3673</td>\n",
       "      <td>0.077049</td>\n",
       "    </tr>\n",
       "    <tr>\n",
       "      <th>0.275369</th>\n",
       "      <td>4060</td>\n",
       "      <td>0.275369</td>\n",
       "    </tr>\n",
       "    <tr>\n",
       "      <th>0.826484</th>\n",
       "      <td>219</td>\n",
       "      <td>0.826484</td>\n",
       "    </tr>\n",
       "    <tr>\n",
       "      <th>1.000000</th>\n",
       "      <td>48</td>\n",
       "      <td>1.000000</td>\n",
       "    </tr>\n",
       "  </tbody>\n",
       "</table>\n",
       "</div>"
      ],
      "text/plain": [
       "            count      mean\n",
       "score_prod                 \n",
       "0.077049     3673  0.077049\n",
       "0.275369     4060  0.275369\n",
       "0.826484      219  0.826484\n",
       "1.000000       48  1.000000"
      ]
     },
     "execution_count": 25,
     "metadata": {},
     "output_type": "execute_result"
    }
   ],
   "source": [
    "train_full.groupby('score_prod')['Exited'].agg(['count','mean'])"
   ]
  },
  {
   "cell_type": "markdown",
   "id": "533aa0cf-d747-439a-b3cd-baf2ec97cf67",
   "metadata": {},
   "source": [
    "# Baseline"
   ]
  },
  {
   "cell_type": "code",
   "execution_count": 26,
   "id": "2f64b67e-5614-40c1-8190-08a2d1080532",
   "metadata": {},
   "outputs": [],
   "source": [
    "train_full['score_mean'] = train_full['Exited'].mean()"
   ]
  },
  {
   "cell_type": "code",
   "execution_count": 27,
   "id": "42262ec8-7d28-4a5d-b85e-d1d8467b2566",
   "metadata": {},
   "outputs": [],
   "source": [
    "from sklearn.metrics import log_loss"
   ]
  },
  {
   "cell_type": "code",
   "execution_count": 28,
   "id": "f8b8f81e-13ef-4bff-b005-ccb60366b4aa",
   "metadata": {},
   "outputs": [
    {
     "data": {
      "text/plain": [
       "0.5055572860042145"
      ]
     },
     "execution_count": 28,
     "metadata": {},
     "output_type": "execute_result"
    }
   ],
   "source": [
    "log_loss(train_full['Exited'],train_full['score_mean'])"
   ]
  },
  {
   "cell_type": "code",
   "execution_count": 29,
   "id": "5927222f-7e26-4fa2-826f-85d8b70bfd3a",
   "metadata": {},
   "outputs": [
    {
     "data": {
      "text/plain": [
       "0.4359616823203511"
      ]
     },
     "execution_count": 29,
     "metadata": {},
     "output_type": "execute_result"
    }
   ],
   "source": [
    "log_loss(train_full['Exited'],train_full['score_prod'])"
   ]
  },
  {
   "cell_type": "markdown",
   "id": "a0697c39-c5ce-4c89-97d0-63c423e31df7",
   "metadata": {},
   "source": [
    "# Uplift"
   ]
  },
  {
   "cell_type": "code",
   "execution_count": 30,
   "id": "1963db3a-b20b-43a7-b85f-19fd191a5401",
   "metadata": {},
   "outputs": [
    {
     "data": {
      "text/html": [
       "<div>\n",
       "<style scoped>\n",
       "    .dataframe tbody tr th:only-of-type {\n",
       "        vertical-align: middle;\n",
       "    }\n",
       "\n",
       "    .dataframe tbody tr th {\n",
       "        vertical-align: top;\n",
       "    }\n",
       "\n",
       "    .dataframe thead th {\n",
       "        text-align: right;\n",
       "    }\n",
       "</style>\n",
       "<table border=\"1\" class=\"dataframe\">\n",
       "  <thead>\n",
       "    <tr style=\"text-align: right;\">\n",
       "      <th></th>\n",
       "      <th>RowNumber</th>\n",
       "      <th>CustomerId</th>\n",
       "      <th>Surname</th>\n",
       "      <th>CreditScore</th>\n",
       "      <th>Geography</th>\n",
       "      <th>Gender</th>\n",
       "      <th>Age</th>\n",
       "      <th>Tenure</th>\n",
       "      <th>Balance</th>\n",
       "      <th>NumOfProducts</th>\n",
       "      <th>HasCrCard</th>\n",
       "      <th>IsActiveMember</th>\n",
       "      <th>EstimatedSalary</th>\n",
       "      <th>Exited</th>\n",
       "      <th>score_prod</th>\n",
       "      <th>score_mean</th>\n",
       "    </tr>\n",
       "  </thead>\n",
       "  <tbody>\n",
       "    <tr>\n",
       "      <th>0</th>\n",
       "      <td>6852</td>\n",
       "      <td>15779103</td>\n",
       "      <td>Cantamessa</td>\n",
       "      <td>527</td>\n",
       "      <td>Germany</td>\n",
       "      <td>Female</td>\n",
       "      <td>39</td>\n",
       "      <td>9</td>\n",
       "      <td>96748.89</td>\n",
       "      <td>2</td>\n",
       "      <td>1</td>\n",
       "      <td>0</td>\n",
       "      <td>94711.43</td>\n",
       "      <td>0</td>\n",
       "      <td>0.077049</td>\n",
       "      <td>0.20375</td>\n",
       "    </tr>\n",
       "    <tr>\n",
       "      <th>1</th>\n",
       "      <td>7027</td>\n",
       "      <td>15588123</td>\n",
       "      <td>Horton</td>\n",
       "      <td>677</td>\n",
       "      <td>France</td>\n",
       "      <td>Female</td>\n",
       "      <td>27</td>\n",
       "      <td>2</td>\n",
       "      <td>0.00</td>\n",
       "      <td>2</td>\n",
       "      <td>0</td>\n",
       "      <td>1</td>\n",
       "      <td>114685.92</td>\n",
       "      <td>0</td>\n",
       "      <td>0.077049</td>\n",
       "      <td>0.20375</td>\n",
       "    </tr>\n",
       "  </tbody>\n",
       "</table>\n",
       "</div>"
      ],
      "text/plain": [
       "   RowNumber  CustomerId     Surname  CreditScore Geography  Gender  Age  \\\n",
       "0       6852    15779103  Cantamessa          527   Germany  Female   39   \n",
       "1       7027    15588123      Horton          677    France  Female   27   \n",
       "\n",
       "   Tenure   Balance  NumOfProducts  HasCrCard  IsActiveMember  \\\n",
       "0       9  96748.89              2          1               0   \n",
       "1       2      0.00              2          0               1   \n",
       "\n",
       "   EstimatedSalary  Exited  score_prod  score_mean  \n",
       "0         94711.43       0    0.077049     0.20375  \n",
       "1        114685.92       0    0.077049     0.20375  "
      ]
     },
     "execution_count": 30,
     "metadata": {},
     "output_type": "execute_result"
    }
   ],
   "source": [
    "train_full.head(2)"
   ]
  },
  {
   "cell_type": "code",
   "execution_count": 31,
   "id": "58e52acf-8788-4ce1-80cb-516f0268e010",
   "metadata": {},
   "outputs": [
    {
     "data": {
      "text/plain": [
       "0.20375"
      ]
     },
     "execution_count": 31,
     "metadata": {},
     "output_type": "execute_result"
    }
   ],
   "source": [
    "train_full['Exited'].mean()"
   ]
  },
  {
   "cell_type": "code",
   "execution_count": 32,
   "id": "b2506f2b-f3fe-48b5-ac85-7c5526fdf020",
   "metadata": {},
   "outputs": [
    {
     "data": {
      "text/plain": [
       "0.20675"
      ]
     },
     "execution_count": 32,
     "metadata": {},
     "output_type": "execute_result"
    }
   ],
   "source": [
    "train_full['Exited'].sample(frac=0.5,random_state=42).mean()"
   ]
  },
  {
   "cell_type": "code",
   "execution_count": 33,
   "id": "d38a5a42-f409-4b8b-b5ae-068da9c28b26",
   "metadata": {},
   "outputs": [],
   "source": [
    "exited_all = train_full['Exited'].sum()"
   ]
  },
  {
   "cell_type": "code",
   "execution_count": 34,
   "id": "c523d761-6512-40fe-81b5-c9c309c2c7c5",
   "metadata": {},
   "outputs": [
    {
     "data": {
      "text/plain": [
       "337"
      ]
     },
     "execution_count": 34,
     "metadata": {},
     "output_type": "execute_result"
    }
   ],
   "source": [
    "train_full['Exited'].sample(frac=0.2,random_state=42).sum()"
   ]
  },
  {
   "cell_type": "code",
   "execution_count": 35,
   "id": "10d99b42-60ce-4e42-ab33-814b741b7dbd",
   "metadata": {},
   "outputs": [
    {
     "data": {
      "text/plain": [
       "0.2067484662576687"
      ]
     },
     "execution_count": 35,
     "metadata": {},
     "output_type": "execute_result"
    }
   ],
   "source": [
    "train_full['Exited'].sample(frac=0.2,random_state=42).sum() / exited_all"
   ]
  },
  {
   "cell_type": "code",
   "execution_count": 36,
   "id": "3d1ad3da-b8c7-4729-9556-7b0419682cae",
   "metadata": {},
   "outputs": [],
   "source": [
    "train_full = train_full.sort_values('score_prod',ascending=False)"
   ]
  },
  {
   "cell_type": "code",
   "execution_count": 37,
   "id": "e2c4ce9f-b107-4338-a92c-31627a1717fd",
   "metadata": {},
   "outputs": [
    {
     "data": {
      "text/plain": [
       "1600"
      ]
     },
     "execution_count": 37,
     "metadata": {},
     "output_type": "execute_result"
    }
   ],
   "source": [
    "round(len(train_full) * 0.2)"
   ]
  },
  {
   "cell_type": "code",
   "execution_count": 38,
   "id": "eb7c61a1-9b27-4508-9c41-38796d46374f",
   "metadata": {},
   "outputs": [
    {
     "data": {
      "text/plain": [
       "0.3576687116564417"
      ]
     },
     "execution_count": 38,
     "metadata": {},
     "output_type": "execute_result"
    }
   ],
   "source": [
    "train_full.head(round(len(train_full) * 0.2))['Exited'].sum() / exited_all"
   ]
  },
  {
   "cell_type": "code",
   "execution_count": 39,
   "id": "684420ad-c3b4-4278-8d1c-ddc658a539e6",
   "metadata": {},
   "outputs": [
    {
     "data": {
      "text/plain": [
       "1.7359050445103856"
      ]
     },
     "execution_count": 39,
     "metadata": {},
     "output_type": "execute_result"
    }
   ],
   "source": [
    "0.3588957055214724 / 0.2067484662576687"
   ]
  },
  {
   "cell_type": "markdown",
   "id": "60f3e9aa-a9a9-40e1-b7dd-a7ba0badfb9b",
   "metadata": {},
   "source": [
    "# Добавим шум"
   ]
  },
  {
   "cell_type": "code",
   "execution_count": 40,
   "id": "309e793e-2a88-4000-b833-9233d26cf91d",
   "metadata": {},
   "outputs": [
    {
     "data": {
      "text/plain": [
       "array([0.00037454, 0.00095071, 0.00073199, ..., 0.00045533, 0.00090844,\n",
       "       0.00010448])"
      ]
     },
     "execution_count": 40,
     "metadata": {},
     "output_type": "execute_result"
    }
   ],
   "source": [
    "np.random.seed(42)\n",
    "np.random.uniform(0,0.001,size=len(train_full))"
   ]
  },
  {
   "cell_type": "code",
   "execution_count": 41,
   "id": "32700219-3b13-4b54-8bce-71715e50838d",
   "metadata": {},
   "outputs": [],
   "source": [
    "np.random.seed(42)\n",
    "train_full['score_prod'] = train_full['score_prod'] - np.random.uniform(0,0.001,size=len(train_full))"
   ]
  },
  {
   "cell_type": "code",
   "execution_count": 42,
   "id": "39269ef6-5e63-4931-b0d0-b80e24df903c",
   "metadata": {},
   "outputs": [
    {
     "data": {
      "text/plain": [
       "8000"
      ]
     },
     "execution_count": 42,
     "metadata": {},
     "output_type": "execute_result"
    }
   ],
   "source": [
    "train_full['score_prod'].nunique()"
   ]
  },
  {
   "cell_type": "markdown",
   "id": "071701b3-e968-4812-b05d-67b844e1b05b",
   "metadata": {},
   "source": [
    "# Функция для uplift"
   ]
  },
  {
   "cell_type": "code",
   "execution_count": 43,
   "id": "c375a6fe-78bc-43a0-bdbd-ac52b9a91675",
   "metadata": {},
   "outputs": [],
   "source": [
    "exited_all = train_full['Exited'].sum()"
   ]
  },
  {
   "cell_type": "code",
   "execution_count": 44,
   "id": "47ede9e1-9cdd-41f5-9256-7a8f66bdc4f4",
   "metadata": {},
   "outputs": [],
   "source": [
    "train_full = train_full.sort_values('score_prod',ascending=False)"
   ]
  },
  {
   "cell_type": "code",
   "execution_count": 45,
   "id": "963bd9a8-a98e-4f35-bae9-9ab0093fa420",
   "metadata": {},
   "outputs": [
    {
     "data": {
      "text/plain": [
       "0.3815950920245399"
      ]
     },
     "execution_count": 45,
     "metadata": {},
     "output_type": "execute_result"
    }
   ],
   "source": [
    "train_full.head(round(len(train_full) * 0.2))['Exited'].sum() / exited_all"
   ]
  },
  {
   "cell_type": "code",
   "execution_count": 46,
   "id": "875f3e0f-0938-49ab-b467-c91efd372e74",
   "metadata": {},
   "outputs": [
    {
     "data": {
      "text/plain": [
       "1.9079754601226995"
      ]
     },
     "execution_count": 46,
     "metadata": {},
     "output_type": "execute_result"
    }
   ],
   "source": [
    "0.3815950920245399 / 0.2"
   ]
  },
  {
   "cell_type": "code",
   "execution_count": 47,
   "id": "5668e7a9-8828-4140-8632-a3fd667e9d6c",
   "metadata": {},
   "outputs": [],
   "source": [
    "def uplift(df,score,pct):\n",
    "  exited_all = df['Exited'].sum()\n",
    "  df = df.sort_values(score,ascending=False)\n",
    "  exited_found = df.head(round(len(df) * pct))['Exited'].sum()\n",
    "\n",
    "  return (exited_found / exited_all) / pct"
   ]
  },
  {
   "cell_type": "code",
   "execution_count": 48,
   "id": "9819b4fb-2328-4478-9cf4-53b9fe65f3f3",
   "metadata": {},
   "outputs": [
    {
     "data": {
      "text/plain": [
       "1.9079754601226995"
      ]
     },
     "execution_count": 48,
     "metadata": {},
     "output_type": "execute_result"
    }
   ],
   "source": [
    "uplift(train_full,'score_prod',0.2)"
   ]
  },
  {
   "cell_type": "code",
   "execution_count": 49,
   "id": "9d2e2d22-ad7a-45fe-b293-1ed7b94d9fbc",
   "metadata": {},
   "outputs": [],
   "source": [
    "test = test.merge(model,how='left',on='NumOfProducts')"
   ]
  },
  {
   "cell_type": "code",
   "execution_count": 50,
   "id": "18dedac7-9932-4369-825b-a9c43ed87349",
   "metadata": {},
   "outputs": [],
   "source": [
    "np.random.seed(42)\n",
    "test['score_prod'] = test['score_prod'] - np.random.uniform(0,0.001,size=len(test))"
   ]
  },
  {
   "cell_type": "code",
   "execution_count": 51,
   "id": "dcd2eb0b-35d4-468b-bff4-bf01ba9fa446",
   "metadata": {},
   "outputs": [
    {
     "data": {
      "text/plain": [
       "0.4359717821616623"
      ]
     },
     "execution_count": 51,
     "metadata": {},
     "output_type": "execute_result"
    }
   ],
   "source": [
    "log_loss(train_full['Exited'],train_full['score_prod'])"
   ]
  },
  {
   "cell_type": "code",
   "execution_count": 52,
   "id": "7243cde5-01aa-4a90-8374-9803628e6a13",
   "metadata": {},
   "outputs": [
    {
     "data": {
      "text/plain": [
       "0.4338658337619006"
      ]
     },
     "execution_count": 52,
     "metadata": {},
     "output_type": "execute_result"
    }
   ],
   "source": [
    "log_loss(test['Exited'],test['score_prod'])"
   ]
  },
  {
   "cell_type": "code",
   "execution_count": 53,
   "id": "b1ab911b-65be-4d9c-9cc0-77690ef28c8d",
   "metadata": {},
   "outputs": [
    {
     "data": {
      "text/plain": [
       "1.8427518427518426"
      ]
     },
     "execution_count": 53,
     "metadata": {},
     "output_type": "execute_result"
    }
   ],
   "source": [
    "uplift(test,'score_prod',0.2)"
   ]
  },
  {
   "cell_type": "markdown",
   "id": "c0d45747-4d17-4ad5-be16-3cf207de4e02",
   "metadata": {},
   "source": [
    "# Добавим возраст"
   ]
  },
  {
   "cell_type": "code",
   "execution_count": 54,
   "id": "a33d452e-c7b7-449e-a259-5facb5955982",
   "metadata": {},
   "outputs": [],
   "source": [
    "import matplotlib.pyplot as plt\n",
    "plt.style.use('dark_background')"
   ]
  },
  {
   "cell_type": "code",
   "execution_count": 55,
   "id": "f5276134-22f4-4c33-89a2-66eaeb7def40",
   "metadata": {},
   "outputs": [
    {
     "data": {
      "text/plain": [
       "<AxesSubplot: >"
      ]
     },
     "execution_count": 55,
     "metadata": {},
     "output_type": "execute_result"
    },
    {
     "data": {
      "image/png": "[encoded data removed]",
      "text/plain": [
       "<Figure size 640x480 with 1 Axes>"
      ]
     },
     "metadata": {},
     "output_type": "display_data"
    }
   ],
   "source": [
    "train_full['Age'].hist()"
   ]
  },
  {
   "cell_type": "code",
   "execution_count": 56,
   "id": "939dc5f4-5804-49c1-9069-3554ed79f857",
   "metadata": {},
   "outputs": [
    {
     "data": {
      "text/plain": [
       "(257     3\n",
       " 3036    0\n",
       " 4054    3\n",
       " 3202    2\n",
       " 1874    0\n",
       "        ..\n",
       " 94      0\n",
       " 5637    3\n",
       " 2489    3\n",
       " 584     3\n",
       " 2405    0\n",
       " Name: Age, Length: 8000, dtype: int64,\n",
       " array([18., 31., 35., 40., 46., 92.]))"
      ]
     },
     "execution_count": 56,
     "metadata": {},
     "output_type": "execute_result"
    }
   ],
   "source": [
    "pd.qcut(train_full['Age'],5,retbins=True,labels=False)"
   ]
  },
  {
   "cell_type": "code",
   "execution_count": 57,
   "id": "988aa41c-d2c2-4fb2-beef-e62eec8e490c",
   "metadata": {},
   "outputs": [],
   "source": [
    "train_full['age_group'] = pd.cut(train_full['Age'],[0,31,35,40,46,float('inf')])"
   ]
  },
  {
   "cell_type": "code",
   "execution_count": 58,
   "id": "a899ce83-7e08-4c2c-9009-389a680a2575",
   "metadata": {},
   "outputs": [
    {
     "data": {
      "text/html": [
       "<div>\n",
       "<style scoped>\n",
       "    .dataframe tbody tr th:only-of-type {\n",
       "        vertical-align: middle;\n",
       "    }\n",
       "\n",
       "    .dataframe tbody tr th {\n",
       "        vertical-align: top;\n",
       "    }\n",
       "\n",
       "    .dataframe thead th {\n",
       "        text-align: right;\n",
       "    }\n",
       "</style>\n",
       "<table border=\"1\" class=\"dataframe\">\n",
       "  <thead>\n",
       "    <tr style=\"text-align: right;\">\n",
       "      <th></th>\n",
       "      <th>count</th>\n",
       "      <th>mean</th>\n",
       "    </tr>\n",
       "    <tr>\n",
       "      <th>age_group</th>\n",
       "      <th></th>\n",
       "      <th></th>\n",
       "    </tr>\n",
       "  </thead>\n",
       "  <tbody>\n",
       "    <tr>\n",
       "      <th>(0.0, 31.0]</th>\n",
       "      <td>1896</td>\n",
       "      <td>0.075422</td>\n",
       "    </tr>\n",
       "    <tr>\n",
       "      <th>(31.0, 35.0]</th>\n",
       "      <td>1424</td>\n",
       "      <td>0.091994</td>\n",
       "    </tr>\n",
       "    <tr>\n",
       "      <th>(35.0, 40.0]</th>\n",
       "      <td>1797</td>\n",
       "      <td>0.146912</td>\n",
       "    </tr>\n",
       "    <tr>\n",
       "      <th>(40.0, 46.0]</th>\n",
       "      <td>1376</td>\n",
       "      <td>0.289971</td>\n",
       "    </tr>\n",
       "    <tr>\n",
       "      <th>(46.0, inf]</th>\n",
       "      <td>1507</td>\n",
       "      <td>0.459854</td>\n",
       "    </tr>\n",
       "  </tbody>\n",
       "</table>\n",
       "</div>"
      ],
      "text/plain": [
       "              count      mean\n",
       "age_group                    \n",
       "(0.0, 31.0]    1896  0.075422\n",
       "(31.0, 35.0]   1424  0.091994\n",
       "(35.0, 40.0]   1797  0.146912\n",
       "(40.0, 46.0]   1376  0.289971\n",
       "(46.0, inf]    1507  0.459854"
      ]
     },
     "execution_count": 58,
     "metadata": {},
     "output_type": "execute_result"
    }
   ],
   "source": [
    "train_full.groupby('age_group')['Exited'].agg(['count','mean'])"
   ]
  },
  {
   "cell_type": "code",
   "execution_count": 59,
   "id": "304ea51d-677b-413e-b1d4-aefde72a6058",
   "metadata": {},
   "outputs": [],
   "source": [
    "model = train_full.groupby(['NumOfProducts','age_group'])['Exited'].mean().reset_index() "
   ]
  },
  {
   "cell_type": "code",
   "execution_count": 60,
   "id": "2b66b4d4-935d-417c-b062-5c1a597b8ebc",
   "metadata": {},
   "outputs": [],
   "source": [
    "model = model.rename({'Exited':'score_prod_age'},axis=1)"
   ]
  },
  {
   "cell_type": "code",
   "execution_count": 61,
   "id": "ca180192-67b6-4f92-b3de-ad631258f3e5",
   "metadata": {},
   "outputs": [
    {
     "data": {
      "text/html": [
       "<div>\n",
       "<style scoped>\n",
       "    .dataframe tbody tr th:only-of-type {\n",
       "        vertical-align: middle;\n",
       "    }\n",
       "\n",
       "    .dataframe tbody tr th {\n",
       "        vertical-align: top;\n",
       "    }\n",
       "\n",
       "    .dataframe thead th {\n",
       "        text-align: right;\n",
       "    }\n",
       "</style>\n",
       "<table border=\"1\" class=\"dataframe\">\n",
       "  <thead>\n",
       "    <tr style=\"text-align: right;\">\n",
       "      <th></th>\n",
       "      <th>NumOfProducts</th>\n",
       "      <th>age_group</th>\n",
       "      <th>score_prod_age</th>\n",
       "    </tr>\n",
       "  </thead>\n",
       "  <tbody>\n",
       "    <tr>\n",
       "      <th>0</th>\n",
       "      <td>1</td>\n",
       "      <td>(0.0, 31.0]</td>\n",
       "      <td>0.106774</td>\n",
       "    </tr>\n",
       "    <tr>\n",
       "      <th>1</th>\n",
       "      <td>1</td>\n",
       "      <td>(31.0, 35.0]</td>\n",
       "      <td>0.135908</td>\n",
       "    </tr>\n",
       "    <tr>\n",
       "      <th>2</th>\n",
       "      <td>1</td>\n",
       "      <td>(35.0, 40.0]</td>\n",
       "      <td>0.198646</td>\n",
       "    </tr>\n",
       "    <tr>\n",
       "      <th>3</th>\n",
       "      <td>1</td>\n",
       "      <td>(40.0, 46.0]</td>\n",
       "      <td>0.378873</td>\n",
       "    </tr>\n",
       "    <tr>\n",
       "      <th>4</th>\n",
       "      <td>1</td>\n",
       "      <td>(46.0, inf]</td>\n",
       "      <td>0.542506</td>\n",
       "    </tr>\n",
       "    <tr>\n",
       "      <th>5</th>\n",
       "      <td>2</td>\n",
       "      <td>(0.0, 31.0]</td>\n",
       "      <td>0.029293</td>\n",
       "    </tr>\n",
       "    <tr>\n",
       "      <th>6</th>\n",
       "      <td>2</td>\n",
       "      <td>(31.0, 35.0]</td>\n",
       "      <td>0.031206</td>\n",
       "    </tr>\n",
       "    <tr>\n",
       "      <th>7</th>\n",
       "      <td>2</td>\n",
       "      <td>(35.0, 40.0]</td>\n",
       "      <td>0.059977</td>\n",
       "    </tr>\n",
       "    <tr>\n",
       "      <th>8</th>\n",
       "      <td>2</td>\n",
       "      <td>(40.0, 46.0]</td>\n",
       "      <td>0.106239</td>\n",
       "    </tr>\n",
       "    <tr>\n",
       "      <th>9</th>\n",
       "      <td>2</td>\n",
       "      <td>(46.0, inf]</td>\n",
       "      <td>0.225869</td>\n",
       "    </tr>\n",
       "    <tr>\n",
       "      <th>10</th>\n",
       "      <td>3</td>\n",
       "      <td>(0.0, 31.0]</td>\n",
       "      <td>0.562500</td>\n",
       "    </tr>\n",
       "    <tr>\n",
       "      <th>11</th>\n",
       "      <td>3</td>\n",
       "      <td>(31.0, 35.0]</td>\n",
       "      <td>0.647059</td>\n",
       "    </tr>\n",
       "    <tr>\n",
       "      <th>12</th>\n",
       "      <td>3</td>\n",
       "      <td>(35.0, 40.0]</td>\n",
       "      <td>0.783784</td>\n",
       "    </tr>\n",
       "    <tr>\n",
       "      <th>13</th>\n",
       "      <td>3</td>\n",
       "      <td>(40.0, 46.0]</td>\n",
       "      <td>0.900000</td>\n",
       "    </tr>\n",
       "    <tr>\n",
       "      <th>14</th>\n",
       "      <td>3</td>\n",
       "      <td>(46.0, inf]</td>\n",
       "      <td>0.945205</td>\n",
       "    </tr>\n",
       "    <tr>\n",
       "      <th>15</th>\n",
       "      <td>4</td>\n",
       "      <td>(0.0, 31.0]</td>\n",
       "      <td>1.000000</td>\n",
       "    </tr>\n",
       "    <tr>\n",
       "      <th>16</th>\n",
       "      <td>4</td>\n",
       "      <td>(31.0, 35.0]</td>\n",
       "      <td>1.000000</td>\n",
       "    </tr>\n",
       "    <tr>\n",
       "      <th>17</th>\n",
       "      <td>4</td>\n",
       "      <td>(35.0, 40.0]</td>\n",
       "      <td>1.000000</td>\n",
       "    </tr>\n",
       "    <tr>\n",
       "      <th>18</th>\n",
       "      <td>4</td>\n",
       "      <td>(40.0, 46.0]</td>\n",
       "      <td>1.000000</td>\n",
       "    </tr>\n",
       "    <tr>\n",
       "      <th>19</th>\n",
       "      <td>4</td>\n",
       "      <td>(46.0, inf]</td>\n",
       "      <td>1.000000</td>\n",
       "    </tr>\n",
       "  </tbody>\n",
       "</table>\n",
       "</div>"
      ],
      "text/plain": [
       "    NumOfProducts     age_group  score_prod_age\n",
       "0               1   (0.0, 31.0]        0.106774\n",
       "1               1  (31.0, 35.0]        0.135908\n",
       "2               1  (35.0, 40.0]        0.198646\n",
       "3               1  (40.0, 46.0]        0.378873\n",
       "4               1   (46.0, inf]        0.542506\n",
       "5               2   (0.0, 31.0]        0.029293\n",
       "6               2  (31.0, 35.0]        0.031206\n",
       "7               2  (35.0, 40.0]        0.059977\n",
       "8               2  (40.0, 46.0]        0.106239\n",
       "9               2   (46.0, inf]        0.225869\n",
       "10              3   (0.0, 31.0]        0.562500\n",
       "11              3  (31.0, 35.0]        0.647059\n",
       "12              3  (35.0, 40.0]        0.783784\n",
       "13              3  (40.0, 46.0]        0.900000\n",
       "14              3   (46.0, inf]        0.945205\n",
       "15              4   (0.0, 31.0]        1.000000\n",
       "16              4  (31.0, 35.0]        1.000000\n",
       "17              4  (35.0, 40.0]        1.000000\n",
       "18              4  (40.0, 46.0]        1.000000\n",
       "19              4   (46.0, inf]        1.000000"
      ]
     },
     "execution_count": 61,
     "metadata": {},
     "output_type": "execute_result"
    }
   ],
   "source": [
    "model"
   ]
  },
  {
   "cell_type": "code",
   "execution_count": 62,
   "id": "67895527-acc9-4c2f-8ee5-525286a26dcd",
   "metadata": {},
   "outputs": [],
   "source": [
    "train_full = train_full.merge(model,how='left',on=['NumOfProducts','age_group'])"
   ]
  },
  {
   "cell_type": "code",
   "execution_count": 63,
   "id": "5818f7cf-6cae-4727-a761-5def80d365c9",
   "metadata": {},
   "outputs": [
    {
     "data": {
      "text/html": [
       "<div>\n",
       "<style scoped>\n",
       "    .dataframe tbody tr th:only-of-type {\n",
       "        vertical-align: middle;\n",
       "    }\n",
       "\n",
       "    .dataframe tbody tr th {\n",
       "        vertical-align: top;\n",
       "    }\n",
       "\n",
       "    .dataframe thead th {\n",
       "        text-align: right;\n",
       "    }\n",
       "</style>\n",
       "<table border=\"1\" class=\"dataframe\">\n",
       "  <thead>\n",
       "    <tr style=\"text-align: right;\">\n",
       "      <th></th>\n",
       "      <th>RowNumber</th>\n",
       "      <th>CustomerId</th>\n",
       "      <th>Surname</th>\n",
       "      <th>CreditScore</th>\n",
       "      <th>Geography</th>\n",
       "      <th>Gender</th>\n",
       "      <th>Age</th>\n",
       "      <th>Tenure</th>\n",
       "      <th>Balance</th>\n",
       "      <th>NumOfProducts</th>\n",
       "      <th>HasCrCard</th>\n",
       "      <th>IsActiveMember</th>\n",
       "      <th>EstimatedSalary</th>\n",
       "      <th>Exited</th>\n",
       "      <th>score_prod</th>\n",
       "      <th>score_mean</th>\n",
       "      <th>age_group</th>\n",
       "      <th>score_prod_age</th>\n",
       "    </tr>\n",
       "  </thead>\n",
       "  <tbody>\n",
       "    <tr>\n",
       "      <th>0</th>\n",
       "      <td>4512</td>\n",
       "      <td>15568006</td>\n",
       "      <td>Ukaegbunam</td>\n",
       "      <td>634</td>\n",
       "      <td>France</td>\n",
       "      <td>Female</td>\n",
       "      <td>45</td>\n",
       "      <td>2</td>\n",
       "      <td>0.00</td>\n",
       "      <td>4</td>\n",
       "      <td>1</td>\n",
       "      <td>0</td>\n",
       "      <td>101039.53</td>\n",
       "      <td>1</td>\n",
       "      <td>0.999979</td>\n",
       "      <td>0.20375</td>\n",
       "      <td>(40.0, 46.0]</td>\n",
       "      <td>1.000000</td>\n",
       "    </tr>\n",
       "    <tr>\n",
       "      <th>1</th>\n",
       "      <td>4655</td>\n",
       "      <td>15593976</td>\n",
       "      <td>Swanson</td>\n",
       "      <td>578</td>\n",
       "      <td>Germany</td>\n",
       "      <td>Female</td>\n",
       "      <td>31</td>\n",
       "      <td>5</td>\n",
       "      <td>102088.68</td>\n",
       "      <td>4</td>\n",
       "      <td>0</td>\n",
       "      <td>0</td>\n",
       "      <td>187866.21</td>\n",
       "      <td>1</td>\n",
       "      <td>0.999966</td>\n",
       "      <td>0.20375</td>\n",
       "      <td>(0.0, 31.0]</td>\n",
       "      <td>1.000000</td>\n",
       "    </tr>\n",
       "    <tr>\n",
       "      <th>2</th>\n",
       "      <td>4404</td>\n",
       "      <td>15616859</td>\n",
       "      <td>Bonwick</td>\n",
       "      <td>602</td>\n",
       "      <td>Germany</td>\n",
       "      <td>Female</td>\n",
       "      <td>43</td>\n",
       "      <td>2</td>\n",
       "      <td>113641.49</td>\n",
       "      <td>4</td>\n",
       "      <td>1</td>\n",
       "      <td>0</td>\n",
       "      <td>115116.35</td>\n",
       "      <td>1</td>\n",
       "      <td>0.999954</td>\n",
       "      <td>0.20375</td>\n",
       "      <td>(40.0, 46.0]</td>\n",
       "      <td>1.000000</td>\n",
       "    </tr>\n",
       "    <tr>\n",
       "      <th>3</th>\n",
       "      <td>9412</td>\n",
       "      <td>15796115</td>\n",
       "      <td>Forbes</td>\n",
       "      <td>689</td>\n",
       "      <td>Germany</td>\n",
       "      <td>Female</td>\n",
       "      <td>40</td>\n",
       "      <td>4</td>\n",
       "      <td>78119.59</td>\n",
       "      <td>4</td>\n",
       "      <td>1</td>\n",
       "      <td>0</td>\n",
       "      <td>119259.34</td>\n",
       "      <td>1</td>\n",
       "      <td>0.999942</td>\n",
       "      <td>0.20375</td>\n",
       "      <td>(35.0, 40.0]</td>\n",
       "      <td>1.000000</td>\n",
       "    </tr>\n",
       "    <tr>\n",
       "      <th>4</th>\n",
       "      <td>8</td>\n",
       "      <td>15656148</td>\n",
       "      <td>Obinna</td>\n",
       "      <td>376</td>\n",
       "      <td>Germany</td>\n",
       "      <td>Female</td>\n",
       "      <td>29</td>\n",
       "      <td>4</td>\n",
       "      <td>115046.74</td>\n",
       "      <td>4</td>\n",
       "      <td>1</td>\n",
       "      <td>0</td>\n",
       "      <td>119346.88</td>\n",
       "      <td>1</td>\n",
       "      <td>0.999935</td>\n",
       "      <td>0.20375</td>\n",
       "      <td>(0.0, 31.0]</td>\n",
       "      <td>1.000000</td>\n",
       "    </tr>\n",
       "    <tr>\n",
       "      <th>...</th>\n",
       "      <td>...</td>\n",
       "      <td>...</td>\n",
       "      <td>...</td>\n",
       "      <td>...</td>\n",
       "      <td>...</td>\n",
       "      <td>...</td>\n",
       "      <td>...</td>\n",
       "      <td>...</td>\n",
       "      <td>...</td>\n",
       "      <td>...</td>\n",
       "      <td>...</td>\n",
       "      <td>...</td>\n",
       "      <td>...</td>\n",
       "      <td>...</td>\n",
       "      <td>...</td>\n",
       "      <td>...</td>\n",
       "      <td>...</td>\n",
       "      <td>...</td>\n",
       "    </tr>\n",
       "    <tr>\n",
       "      <th>7995</th>\n",
       "      <td>9749</td>\n",
       "      <td>15680201</td>\n",
       "      <td>Marcelo</td>\n",
       "      <td>627</td>\n",
       "      <td>Germany</td>\n",
       "      <td>Male</td>\n",
       "      <td>24</td>\n",
       "      <td>5</td>\n",
       "      <td>102773.20</td>\n",
       "      <td>2</td>\n",
       "      <td>1</td>\n",
       "      <td>0</td>\n",
       "      <td>56793.02</td>\n",
       "      <td>1</td>\n",
       "      <td>0.076050</td>\n",
       "      <td>0.20375</td>\n",
       "      <td>(0.0, 31.0]</td>\n",
       "      <td>0.029293</td>\n",
       "    </tr>\n",
       "    <tr>\n",
       "      <th>7996</th>\n",
       "      <td>3350</td>\n",
       "      <td>15603465</td>\n",
       "      <td>Dunn</td>\n",
       "      <td>665</td>\n",
       "      <td>Germany</td>\n",
       "      <td>Female</td>\n",
       "      <td>45</td>\n",
       "      <td>5</td>\n",
       "      <td>155447.65</td>\n",
       "      <td>2</td>\n",
       "      <td>1</td>\n",
       "      <td>0</td>\n",
       "      <td>51871.95</td>\n",
       "      <td>1</td>\n",
       "      <td>0.076050</td>\n",
       "      <td>0.20375</td>\n",
       "      <td>(40.0, 46.0]</td>\n",
       "      <td>0.106239</td>\n",
       "    </tr>\n",
       "    <tr>\n",
       "      <th>7997</th>\n",
       "      <td>7652</td>\n",
       "      <td>15776921</td>\n",
       "      <td>Geoghegan</td>\n",
       "      <td>431</td>\n",
       "      <td>Germany</td>\n",
       "      <td>Male</td>\n",
       "      <td>45</td>\n",
       "      <td>5</td>\n",
       "      <td>83624.55</td>\n",
       "      <td>2</td>\n",
       "      <td>0</td>\n",
       "      <td>0</td>\n",
       "      <td>36899.62</td>\n",
       "      <td>0</td>\n",
       "      <td>0.076050</td>\n",
       "      <td>0.20375</td>\n",
       "      <td>(40.0, 46.0]</td>\n",
       "      <td>0.106239</td>\n",
       "    </tr>\n",
       "    <tr>\n",
       "      <th>7998</th>\n",
       "      <td>7453</td>\n",
       "      <td>15636562</td>\n",
       "      <td>Muravyova</td>\n",
       "      <td>573</td>\n",
       "      <td>Spain</td>\n",
       "      <td>Male</td>\n",
       "      <td>44</td>\n",
       "      <td>8</td>\n",
       "      <td>0.00</td>\n",
       "      <td>2</td>\n",
       "      <td>0</td>\n",
       "      <td>0</td>\n",
       "      <td>62424.46</td>\n",
       "      <td>0</td>\n",
       "      <td>0.076049</td>\n",
       "      <td>0.20375</td>\n",
       "      <td>(40.0, 46.0]</td>\n",
       "      <td>0.106239</td>\n",
       "    </tr>\n",
       "    <tr>\n",
       "      <th>7999</th>\n",
       "      <td>7584</td>\n",
       "      <td>15643574</td>\n",
       "      <td>Odinakachukwu</td>\n",
       "      <td>682</td>\n",
       "      <td>France</td>\n",
       "      <td>Male</td>\n",
       "      <td>26</td>\n",
       "      <td>8</td>\n",
       "      <td>0.00</td>\n",
       "      <td>2</td>\n",
       "      <td>1</td>\n",
       "      <td>0</td>\n",
       "      <td>178373.43</td>\n",
       "      <td>0</td>\n",
       "      <td>0.076049</td>\n",
       "      <td>0.20375</td>\n",
       "      <td>(0.0, 31.0]</td>\n",
       "      <td>0.029293</td>\n",
       "    </tr>\n",
       "  </tbody>\n",
       "</table>\n",
       "<p>8000 rows × 18 columns</p>\n",
       "</div>"
      ],
      "text/plain": [
       "      RowNumber  CustomerId        Surname  CreditScore Geography  Gender  \\\n",
       "0          4512    15568006     Ukaegbunam          634    France  Female   \n",
       "1          4655    15593976        Swanson          578   Germany  Female   \n",
       "2          4404    15616859        Bonwick          602   Germany  Female   \n",
       "3          9412    15796115         Forbes          689   Germany  Female   \n",
       "4             8    15656148         Obinna          376   Germany  Female   \n",
       "...         ...         ...            ...          ...       ...     ...   \n",
       "7995       9749    15680201        Marcelo          627   Germany    Male   \n",
       "7996       3350    15603465           Dunn          665   Germany  Female   \n",
       "7997       7652    15776921      Geoghegan          431   Germany    Male   \n",
       "7998       7453    15636562      Muravyova          573     Spain    Male   \n",
       "7999       7584    15643574  Odinakachukwu          682    France    Male   \n",
       "\n",
       "      Age  Tenure    Balance  NumOfProducts  HasCrCard  IsActiveMember  \\\n",
       "0      45       2       0.00              4          1               0   \n",
       "1      31       5  102088.68              4          0               0   \n",
       "2      43       2  113641.49              4          1               0   \n",
       "3      40       4   78119.59              4          1               0   \n",
       "4      29       4  115046.74              4          1               0   \n",
       "...   ...     ...        ...            ...        ...             ...   \n",
       "7995   24       5  102773.20              2          1               0   \n",
       "7996   45       5  155447.65              2          1               0   \n",
       "7997   45       5   83624.55              2          0               0   \n",
       "7998   44       8       0.00              2          0               0   \n",
       "7999   26       8       0.00              2          1               0   \n",
       "\n",
       "      EstimatedSalary  Exited  score_prod  score_mean     age_group  \\\n",
       "0           101039.53       1    0.999979     0.20375  (40.0, 46.0]   \n",
       "1           187866.21       1    0.999966     0.20375   (0.0, 31.0]   \n",
       "2           115116.35       1    0.999954     0.20375  (40.0, 46.0]   \n",
       "3           119259.34       1    0.999942     0.20375  (35.0, 40.0]   \n",
       "4           119346.88       1    0.999935     0.20375   (0.0, 31.0]   \n",
       "...               ...     ...         ...         ...           ...   \n",
       "7995         56793.02       1    0.076050     0.20375   (0.0, 31.0]   \n",
       "7996         51871.95       1    0.076050     0.20375  (40.0, 46.0]   \n",
       "7997         36899.62       0    0.076050     0.20375  (40.0, 46.0]   \n",
       "7998         62424.46       0    0.076049     0.20375  (40.0, 46.0]   \n",
       "7999        178373.43       0    0.076049     0.20375   (0.0, 31.0]   \n",
       "\n",
       "      score_prod_age  \n",
       "0           1.000000  \n",
       "1           1.000000  \n",
       "2           1.000000  \n",
       "3           1.000000  \n",
       "4           1.000000  \n",
       "...              ...  \n",
       "7995        0.029293  \n",
       "7996        0.106239  \n",
       "7997        0.106239  \n",
       "7998        0.106239  \n",
       "7999        0.029293  \n",
       "\n",
       "[8000 rows x 18 columns]"
      ]
     },
     "execution_count": 63,
     "metadata": {},
     "output_type": "execute_result"
    }
   ],
   "source": [
    "train_full"
   ]
  },
  {
   "cell_type": "code",
   "execution_count": 64,
   "id": "9b4ecf77-53a1-442f-8095-b97281f4c7fa",
   "metadata": {},
   "outputs": [
    {
     "data": {
      "text/plain": [
       "0.4359717821616623"
      ]
     },
     "execution_count": 64,
     "metadata": {},
     "output_type": "execute_result"
    }
   ],
   "source": [
    "log_loss(train_full['Exited'],train_full['score_prod'])"
   ]
  },
  {
   "cell_type": "code",
   "execution_count": 65,
   "id": "2b0ef6bc-12ff-45fc-a226-9e2bd213286b",
   "metadata": {},
   "outputs": [
    {
     "data": {
      "text/plain": [
       "1.9079754601226995"
      ]
     },
     "execution_count": 65,
     "metadata": {},
     "output_type": "execute_result"
    }
   ],
   "source": [
    "uplift(train_full,'score_prod',0.2)"
   ]
  },
  {
   "cell_type": "code",
   "execution_count": 66,
   "id": "8825a6ef-9c17-4801-9abf-34d30d12c7fc",
   "metadata": {},
   "outputs": [
    {
     "data": {
      "text/plain": [
       "0.3866695862492173"
      ]
     },
     "execution_count": 66,
     "metadata": {},
     "output_type": "execute_result"
    }
   ],
   "source": [
    "log_loss(train_full['Exited'],train_full['score_prod_age'])"
   ]
  },
  {
   "cell_type": "code",
   "execution_count": 67,
   "id": "14182785-75a6-4c91-a2f8-7a87c6ef20e7",
   "metadata": {},
   "outputs": [
    {
     "data": {
      "text/plain": [
       "2.702453987730061"
      ]
     },
     "execution_count": 67,
     "metadata": {},
     "output_type": "execute_result"
    }
   ],
   "source": [
    "uplift(train_full,'score_prod_age',0.2)"
   ]
  },
  {
   "cell_type": "code",
   "execution_count": 68,
   "id": "8ccdef2a-7452-40d2-b886-145850695601",
   "metadata": {},
   "outputs": [],
   "source": [
    "test['age_group'] = pd.cut(test['Age'],[0,31,35,40,46,float('inf')])"
   ]
  },
  {
   "cell_type": "code",
   "execution_count": 69,
   "id": "242d53ec-121d-4d9a-abc9-cd7a9f8e18f1",
   "metadata": {},
   "outputs": [],
   "source": [
    "test = test.merge(model,how='left',on=['NumOfProducts','age_group'])"
   ]
  },
  {
   "cell_type": "code",
   "execution_count": 70,
   "id": "bb6bef3b-e654-451d-a8da-1c413f27bb74",
   "metadata": {},
   "outputs": [
    {
     "data": {
      "text/plain": [
       "0.4338658337619006"
      ]
     },
     "execution_count": 70,
     "metadata": {},
     "output_type": "execute_result"
    }
   ],
   "source": [
    "log_loss(test['Exited'],test['score_prod'])"
   ]
  },
  {
   "cell_type": "code",
   "execution_count": 71,
   "id": "b67e8c85-0de6-4f3f-8ce9-63ff1375f82d",
   "metadata": {},
   "outputs": [
    {
     "data": {
      "text/plain": [
       "1.8427518427518426"
      ]
     },
     "execution_count": 71,
     "metadata": {},
     "output_type": "execute_result"
    }
   ],
   "source": [
    "uplift(test,'score_prod',0.2)"
   ]
  },
  {
   "cell_type": "code",
   "execution_count": 72,
   "id": "badc960a-b817-435c-a367-31235f03eae8",
   "metadata": {},
   "outputs": [
    {
     "data": {
      "text/plain": [
       "0.3870707514157596"
      ]
     },
     "execution_count": 72,
     "metadata": {},
     "output_type": "execute_result"
    }
   ],
   "source": [
    "log_loss(test['Exited'],test['score_prod_age'])"
   ]
  },
  {
   "cell_type": "code",
   "execution_count": 73,
   "id": "8593728b-fc4c-47f8-aec2-ae957f872961",
   "metadata": {},
   "outputs": [
    {
     "data": {
      "text/plain": [
       "2.7518427518427515"
      ]
     },
     "execution_count": 73,
     "metadata": {},
     "output_type": "execute_result"
    }
   ],
   "source": [
    "uplift(test,'score_prod_age',0.2)"
   ]
  },
  {
   "cell_type": "markdown",
   "id": "fcec43a5-46cb-4af3-b82e-f7de23d044f4",
   "metadata": {},
   "source": [
    "# Добавим IsActiveMember"
   ]
  },
  {
   "cell_type": "code",
   "execution_count": 74,
   "id": "ace00af4-e339-442e-a7fb-5675ae4e1669",
   "metadata": {},
   "outputs": [
    {
     "data": {
      "text/plain": [
       "1    4131\n",
       "0    3869\n",
       "Name: IsActiveMember, dtype: int64"
      ]
     },
     "execution_count": 74,
     "metadata": {},
     "output_type": "execute_result"
    }
   ],
   "source": [
    "train_full['IsActiveMember'].value_counts()"
   ]
  },
  {
   "cell_type": "code",
   "execution_count": 75,
   "id": "d1379e32-7243-4433-95c7-7b4a0552b4a4",
   "metadata": {},
   "outputs": [
    {
     "data": {
      "text/html": [
       "<div>\n",
       "<style scoped>\n",
       "    .dataframe tbody tr th:only-of-type {\n",
       "        vertical-align: middle;\n",
       "    }\n",
       "\n",
       "    .dataframe tbody tr th {\n",
       "        vertical-align: top;\n",
       "    }\n",
       "\n",
       "    .dataframe thead th {\n",
       "        text-align: right;\n",
       "    }\n",
       "</style>\n",
       "<table border=\"1\" class=\"dataframe\">\n",
       "  <thead>\n",
       "    <tr style=\"text-align: right;\">\n",
       "      <th></th>\n",
       "      <th>count</th>\n",
       "      <th>mean</th>\n",
       "    </tr>\n",
       "    <tr>\n",
       "      <th>IsActiveMember</th>\n",
       "      <th></th>\n",
       "      <th></th>\n",
       "    </tr>\n",
       "  </thead>\n",
       "  <tbody>\n",
       "    <tr>\n",
       "      <th>0</th>\n",
       "      <td>3869</td>\n",
       "      <td>0.267511</td>\n",
       "    </tr>\n",
       "    <tr>\n",
       "      <th>1</th>\n",
       "      <td>4131</td>\n",
       "      <td>0.144033</td>\n",
       "    </tr>\n",
       "  </tbody>\n",
       "</table>\n",
       "</div>"
      ],
      "text/plain": [
       "                count      mean\n",
       "IsActiveMember                 \n",
       "0                3869  0.267511\n",
       "1                4131  0.144033"
      ]
     },
     "execution_count": 75,
     "metadata": {},
     "output_type": "execute_result"
    }
   ],
   "source": [
    "train_full.groupby('IsActiveMember')['Exited'].agg(['count','mean'])"
   ]
  },
  {
   "cell_type": "code",
   "execution_count": 76,
   "id": "83e73fa7-870f-4975-8437-f08cf19c6ad4",
   "metadata": {},
   "outputs": [],
   "source": [
    "model = train_full.groupby(['NumOfProducts','age_group','IsActiveMember'])['Exited'].mean().reset_index()"
   ]
  },
  {
   "cell_type": "code",
   "execution_count": 77,
   "id": "4480c281-e3b0-4fd8-905a-cca9d2b4c1a6",
   "metadata": {},
   "outputs": [],
   "source": [
    "model = model.rename({'Exited':'score_prod_age_active'},axis=1)"
   ]
  },
  {
   "cell_type": "code",
   "execution_count": 78,
   "id": "dcbdba17-85f6-4f47-be9e-3597d69df1cf",
   "metadata": {},
   "outputs": [],
   "source": [
    "train_full = train_full.merge(model,how='left',on=['NumOfProducts','age_group','IsActiveMember'])"
   ]
  },
  {
   "cell_type": "code",
   "execution_count": 79,
   "id": "41ce460e-6eff-4f7e-b7f3-5b30dab8fd7b",
   "metadata": {},
   "outputs": [],
   "source": [
    "test = test.merge(model,how='left',on=['NumOfProducts','age_group','IsActiveMember'])"
   ]
  },
  {
   "cell_type": "code",
   "execution_count": 80,
   "id": "bb696822-d0f5-4fe1-a83d-4a362c465f3d",
   "metadata": {},
   "outputs": [],
   "source": [
    "def print_metrics(df,score):\n",
    "  print(log_loss(df['Exited'],df[score]))\n",
    "  print(uplift(df,score,0.2))"
   ]
  },
  {
   "cell_type": "code",
   "execution_count": 81,
   "id": "0b621920-d778-4fd7-9367-6e1366749a5b",
   "metadata": {},
   "outputs": [
    {
     "name": "stdout",
     "output_type": "stream",
     "text": [
      "0.3866695862492173\n",
      "2.702453987730061\n"
     ]
    }
   ],
   "source": [
    "print_metrics(train_full,'score_prod_age')"
   ]
  },
  {
   "cell_type": "code",
   "execution_count": 82,
   "id": "ca217b96-7ba3-4db0-8187-5d7fecddbbb4",
   "metadata": {},
   "outputs": [
    {
     "name": "stdout",
     "output_type": "stream",
     "text": [
      "0.3870707514157596\n",
      "2.7518427518427515\n"
     ]
    }
   ],
   "source": [
    "print_metrics(test,'score_prod_age')"
   ]
  },
  {
   "cell_type": "code",
   "execution_count": 83,
   "id": "96b97710-5897-42cd-a60d-226b7267853f",
   "metadata": {},
   "outputs": [
    {
     "name": "stdout",
     "output_type": "stream",
     "text": [
      "0.3655019751451003\n",
      "2.861963190184049\n"
     ]
    }
   ],
   "source": [
    "print_metrics(train_full,'score_prod_age_active')"
   ]
  },
  {
   "cell_type": "code",
   "execution_count": 84,
   "id": "a95faf7f-c727-4c4a-b7c6-24b0cc8a9b1d",
   "metadata": {},
   "outputs": [
    {
     "name": "stdout",
     "output_type": "stream",
     "text": [
      "0.3638472889481342\n",
      "2.862407862407862\n"
     ]
    }
   ],
   "source": [
    "print_metrics(test,'score_prod_age_active')"
   ]
  },
  {
   "cell_type": "markdown",
   "id": "508ff508-029a-4a50-a944-b98a2dbc5a52",
   "metadata": {},
   "source": [
    "# Машинное обучение"
   ]
  },
  {
   "cell_type": "code",
   "execution_count": 85,
   "id": "cd854163-529d-4b34-a42c-96df2d134924",
   "metadata": {},
   "outputs": [],
   "source": [
    "from catboost import CatBoostClassifier"
   ]
  },
  {
   "cell_type": "code",
   "execution_count": 86,
   "id": "9ee3e305-dbd6-41ae-91e1-9f412175a4c2",
   "metadata": {},
   "outputs": [
    {
     "data": {
      "text/plain": [
       "Index(['RowNumber', 'CustomerId', 'Surname', 'CreditScore', 'Geography',\n",
       "       'Gender', 'Age', 'Tenure', 'Balance', 'NumOfProducts', 'HasCrCard',\n",
       "       'IsActiveMember', 'EstimatedSalary', 'Exited', 'score_prod',\n",
       "       'score_mean', 'age_group', 'score_prod_age', 'score_prod_age_active'],\n",
       "      dtype='object')"
      ]
     },
     "execution_count": 86,
     "metadata": {},
     "output_type": "execute_result"
    }
   ],
   "source": [
    "train_full.columns"
   ]
  },
  {
   "cell_type": "code",
   "execution_count": 87,
   "id": "73983d96-ecc5-4028-9700-571e83a23ee5",
   "metadata": {},
   "outputs": [],
   "source": [
    "X = ['NumOfProducts','Age','IsActiveMember']\n",
    "y = ['Exited']"
   ]
  },
  {
   "cell_type": "code",
   "execution_count": 88,
   "id": "3eecad4c-f0b8-4446-9470-f2f3f648d1d7",
   "metadata": {},
   "outputs": [],
   "source": [
    "params = {'verbose':100,\n",
    "          'random_seed':42,\n",
    "          'learning_rate':0.01}"
   ]
  },
  {
   "cell_type": "code",
   "execution_count": 89,
   "id": "cc7b85f4-3e02-4f5c-b873-49e7dae8e11a",
   "metadata": {},
   "outputs": [],
   "source": [
    "model = CatBoostClassifier(**params)"
   ]
  },
  {
   "cell_type": "code",
   "execution_count": 90,
   "id": "32cc886b-fc6a-4c1b-a071-f1ea134943b9",
   "metadata": {},
   "outputs": [
    {
     "name": "stdout",
     "output_type": "stream",
     "text": [
      "0:\tlearn: 0.6849803\ttest: 0.6849389\tbest: 0.6849389 (0)\ttotal: 49.4ms\tremaining: 49.3s\n",
      "100:\tlearn: 0.3991169\ttest: 0.3930537\tbest: 0.3930537 (100)\ttotal: 213ms\tremaining: 1.89s\n",
      "200:\tlearn: 0.3659581\ttest: 0.3563817\tbest: 0.3563817 (200)\ttotal: 373ms\tremaining: 1.48s\n",
      "300:\tlearn: 0.3589224\ttest: 0.3476566\tbest: 0.3476566 (300)\ttotal: 532ms\tremaining: 1.24s\n",
      "400:\tlearn: 0.3565171\ttest: 0.3446648\tbest: 0.3446648 (400)\ttotal: 687ms\tremaining: 1.03s\n",
      "500:\tlearn: 0.3553274\ttest: 0.3433005\tbest: 0.3432984 (498)\ttotal: 834ms\tremaining: 830ms\n",
      "600:\tlearn: 0.3544987\ttest: 0.3425379\tbest: 0.3425379 (600)\ttotal: 986ms\tremaining: 654ms\n",
      "700:\tlearn: 0.3539638\ttest: 0.3421168\tbest: 0.3421135 (699)\ttotal: 1.13s\tremaining: 483ms\n",
      "800:\tlearn: 0.3532817\ttest: 0.3419139\tbest: 0.3419139 (800)\ttotal: 1.28s\tremaining: 319ms\n",
      "900:\tlearn: 0.3524351\ttest: 0.3416923\tbest: 0.3416923 (900)\ttotal: 1.43s\tremaining: 157ms\n",
      "999:\tlearn: 0.3513546\ttest: 0.3417688\tbest: 0.3416551 (927)\ttotal: 1.58s\tremaining: 0us\n",
      "\n",
      "bestTest = 0.341655091\n",
      "bestIteration = 927\n",
      "\n",
      "Shrink model to first 928 iterations.\n"
     ]
    },
    {
     "data": {
      "text/plain": [
       "<catboost.core.CatBoostClassifier at 0x7f5f468413c0>"
      ]
     },
     "execution_count": 90,
     "metadata": {},
     "output_type": "execute_result"
    }
   ],
   "source": [
    "model.fit(train[X],train[y],eval_set=(val[X],val[y]))"
   ]
  },
  {
   "cell_type": "code",
   "execution_count": 91,
   "id": "2d02d91b-64a4-44ec-b97f-4d120a33e91e",
   "metadata": {},
   "outputs": [],
   "source": [
    "test['score_cat_prod_age_active'] = model.predict_proba(test[X])[:,1]"
   ]
  },
  {
   "cell_type": "code",
   "execution_count": 92,
   "id": "55cbb76f-9ae8-468d-ab33-dfe3267d7b6f",
   "metadata": {},
   "outputs": [
    {
     "data": {
      "text/html": [
       "<div>\n",
       "<style scoped>\n",
       "    .dataframe tbody tr th:only-of-type {\n",
       "        vertical-align: middle;\n",
       "    }\n",
       "\n",
       "    .dataframe tbody tr th {\n",
       "        vertical-align: top;\n",
       "    }\n",
       "\n",
       "    .dataframe thead th {\n",
       "        text-align: right;\n",
       "    }\n",
       "</style>\n",
       "<table border=\"1\" class=\"dataframe\">\n",
       "  <thead>\n",
       "    <tr style=\"text-align: right;\">\n",
       "      <th></th>\n",
       "      <th>RowNumber</th>\n",
       "      <th>CustomerId</th>\n",
       "      <th>Surname</th>\n",
       "      <th>CreditScore</th>\n",
       "      <th>Geography</th>\n",
       "      <th>Gender</th>\n",
       "      <th>Age</th>\n",
       "      <th>Tenure</th>\n",
       "      <th>Balance</th>\n",
       "      <th>NumOfProducts</th>\n",
       "      <th>HasCrCard</th>\n",
       "      <th>IsActiveMember</th>\n",
       "      <th>EstimatedSalary</th>\n",
       "      <th>Exited</th>\n",
       "      <th>score_prod</th>\n",
       "      <th>age_group</th>\n",
       "      <th>score_prod_age</th>\n",
       "      <th>score_prod_age_active</th>\n",
       "      <th>score_cat_prod_age_active</th>\n",
       "    </tr>\n",
       "  </thead>\n",
       "  <tbody>\n",
       "    <tr>\n",
       "      <th>0</th>\n",
       "      <td>9168</td>\n",
       "      <td>15645353</td>\n",
       "      <td>Chubb</td>\n",
       "      <td>607</td>\n",
       "      <td>France</td>\n",
       "      <td>Male</td>\n",
       "      <td>26</td>\n",
       "      <td>1</td>\n",
       "      <td>0.00</td>\n",
       "      <td>1</td>\n",
       "      <td>1</td>\n",
       "      <td>0</td>\n",
       "      <td>29818.20</td>\n",
       "      <td>0</td>\n",
       "      <td>0.274995</td>\n",
       "      <td>(0.0, 31.0]</td>\n",
       "      <td>0.106774</td>\n",
       "      <td>0.143885</td>\n",
       "      <td>0.127267</td>\n",
       "    </tr>\n",
       "    <tr>\n",
       "      <th>1</th>\n",
       "      <td>9388</td>\n",
       "      <td>15594576</td>\n",
       "      <td>Zhdanov</td>\n",
       "      <td>524</td>\n",
       "      <td>France</td>\n",
       "      <td>Male</td>\n",
       "      <td>32</td>\n",
       "      <td>1</td>\n",
       "      <td>144875.71</td>\n",
       "      <td>1</td>\n",
       "      <td>0</td>\n",
       "      <td>0</td>\n",
       "      <td>187740.04</td>\n",
       "      <td>0</td>\n",
       "      <td>0.274419</td>\n",
       "      <td>(31.0, 35.0]</td>\n",
       "      <td>0.135908</td>\n",
       "      <td>0.177650</td>\n",
       "      <td>0.160071</td>\n",
       "    </tr>\n",
       "  </tbody>\n",
       "</table>\n",
       "</div>"
      ],
      "text/plain": [
       "   RowNumber  CustomerId  Surname  CreditScore Geography Gender  Age  Tenure  \\\n",
       "0       9168    15645353    Chubb          607    France   Male   26       1   \n",
       "1       9388    15594576  Zhdanov          524    France   Male   32       1   \n",
       "\n",
       "     Balance  NumOfProducts  HasCrCard  IsActiveMember  EstimatedSalary  \\\n",
       "0       0.00              1          1               0         29818.20   \n",
       "1  144875.71              1          0               0        187740.04   \n",
       "\n",
       "   Exited  score_prod     age_group  score_prod_age  score_prod_age_active  \\\n",
       "0       0    0.274995   (0.0, 31.0]        0.106774               0.143885   \n",
       "1       0    0.274419  (31.0, 35.0]        0.135908               0.177650   \n",
       "\n",
       "   score_cat_prod_age_active  \n",
       "0                   0.127267  \n",
       "1                   0.160071  "
      ]
     },
     "execution_count": 92,
     "metadata": {},
     "output_type": "execute_result"
    }
   ],
   "source": [
    "test.head(2)"
   ]
  },
  {
   "cell_type": "code",
   "execution_count": 93,
   "id": "697ac657-1e98-4dc0-97b5-b63e79174358",
   "metadata": {},
   "outputs": [
    {
     "data": {
      "text/plain": [
       "254"
      ]
     },
     "execution_count": 93,
     "metadata": {},
     "output_type": "execute_result"
    }
   ],
   "source": [
    "test['score_cat_prod_age_active'].nunique()"
   ]
  },
  {
   "cell_type": "code",
   "execution_count": 94,
   "id": "75d485e6-ba38-4496-83d8-7fe258906120",
   "metadata": {},
   "outputs": [
    {
     "data": {
      "text/plain": [
       "2000"
      ]
     },
     "execution_count": 94,
     "metadata": {},
     "output_type": "execute_result"
    }
   ],
   "source": [
    "len(test)"
   ]
  },
  {
   "cell_type": "code",
   "execution_count": 95,
   "id": "0046b672-e617-484e-b10a-cba23e0bae18",
   "metadata": {},
   "outputs": [
    {
     "name": "stdout",
     "output_type": "stream",
     "text": [
      "0.3638472889481342\n",
      "2.862407862407862\n"
     ]
    }
   ],
   "source": [
    "print_metrics(test,'score_prod_age_active')"
   ]
  },
  {
   "cell_type": "code",
   "execution_count": 116,
   "id": "3ea75c34-eb35-4b87-854c-747caef294b4",
   "metadata": {},
   "outputs": [
    {
     "name": "stdout",
     "output_type": "stream",
     "text": [
      "0.35878132799643003\n",
      "2.899262899262899\n"
     ]
    }
   ],
   "source": [
    "print_metrics(test,'score_cat_prod_age_active')"
   ]
  },
  {
   "cell_type": "code",
   "execution_count": 118,
   "id": "ad4c1beb-ed8e-4289-a61f-d6cc70a06bc7",
   "metadata": {},
   "outputs": [],
   "source": [
    "import seaborn as sns"
   ]
  },
  {
   "cell_type": "code",
   "execution_count": 121,
   "id": "82919564-3b3c-44d5-9970-b7c0ed19349c",
   "metadata": {},
   "outputs": [],
   "source": [
    "from sklearn.metrics import confusion_matrix, accuracy_score"
   ]
  },
  {
   "cell_type": "code",
   "execution_count": 122,
   "id": "02b66839-9601-4f8b-a0a5-c448f7b17fbf",
   "metadata": {},
   "outputs": [],
   "source": [
    "y_pred = model.predict_proba(test[X])[:,1]"
   ]
  },
  {
   "cell_type": "code",
   "execution_count": 124,
   "id": "7fe915fd-fdb6-48ef-acd3-4f0ef69f2e24",
   "metadata": {},
   "outputs": [
    {
     "data": {
      "text/html": [
       "<div>\n",
       "<style scoped>\n",
       "    .dataframe tbody tr th:only-of-type {\n",
       "        vertical-align: middle;\n",
       "    }\n",
       "\n",
       "    .dataframe tbody tr th {\n",
       "        vertical-align: top;\n",
       "    }\n",
       "\n",
       "    .dataframe thead th {\n",
       "        text-align: right;\n",
       "    }\n",
       "</style>\n",
       "<table border=\"1\" class=\"dataframe\">\n",
       "  <thead>\n",
       "    <tr style=\"text-align: right;\">\n",
       "      <th></th>\n",
       "      <th>Exited</th>\n",
       "    </tr>\n",
       "  </thead>\n",
       "  <tbody>\n",
       "    <tr>\n",
       "      <th>0</th>\n",
       "      <td>0</td>\n",
       "    </tr>\n",
       "    <tr>\n",
       "      <th>1</th>\n",
       "      <td>0</td>\n",
       "    </tr>\n",
       "    <tr>\n",
       "      <th>2</th>\n",
       "      <td>0</td>\n",
       "    </tr>\n",
       "    <tr>\n",
       "      <th>3</th>\n",
       "      <td>0</td>\n",
       "    </tr>\n",
       "    <tr>\n",
       "      <th>4</th>\n",
       "      <td>0</td>\n",
       "    </tr>\n",
       "    <tr>\n",
       "      <th>...</th>\n",
       "      <td>...</td>\n",
       "    </tr>\n",
       "    <tr>\n",
       "      <th>1995</th>\n",
       "      <td>0</td>\n",
       "    </tr>\n",
       "    <tr>\n",
       "      <th>1996</th>\n",
       "      <td>0</td>\n",
       "    </tr>\n",
       "    <tr>\n",
       "      <th>1997</th>\n",
       "      <td>1</td>\n",
       "    </tr>\n",
       "    <tr>\n",
       "      <th>1998</th>\n",
       "      <td>0</td>\n",
       "    </tr>\n",
       "    <tr>\n",
       "      <th>1999</th>\n",
       "      <td>0</td>\n",
       "    </tr>\n",
       "  </tbody>\n",
       "</table>\n",
       "<p>2000 rows × 1 columns</p>\n",
       "</div>"
      ],
      "text/plain": [
       "      Exited\n",
       "0          0\n",
       "1          0\n",
       "2          0\n",
       "3          0\n",
       "4          0\n",
       "...      ...\n",
       "1995       0\n",
       "1996       0\n",
       "1997       1\n",
       "1998       0\n",
       "1999       0\n",
       "\n",
       "[2000 rows x 1 columns]"
      ]
     },
     "execution_count": 124,
     "metadata": {},
     "output_type": "execute_result"
    }
   ],
   "source": [
    "test[y]"
   ]
  },
  {
   "cell_type": "code",
   "execution_count": null,
   "id": "64645fdf-5419-4000-9029-4795bddb1c8a",
   "metadata": {},
   "outputs": [],
   "source": [
    "cm = confusion_matrix()"
   ]
  },
  {
   "cell_type": "markdown",
   "id": "74fab59e-f342-4700-a037-330e82192f31",
   "metadata": {},
   "source": [
    "# Обучимся на всех фичах"
   ]
  },
  {
   "cell_type": "code",
   "execution_count": 97,
   "id": "8c69dcf3-3849-4d7c-a572-4836e82608c9",
   "metadata": {},
   "outputs": [
    {
     "data": {
      "text/plain": [
       "Index(['RowNumber', 'CustomerId', 'Surname', 'CreditScore', 'Geography',\n",
       "       'Gender', 'Age', 'Tenure', 'Balance', 'NumOfProducts', 'HasCrCard',\n",
       "       'IsActiveMember', 'EstimatedSalary', 'Exited'],\n",
       "      dtype='object')"
      ]
     },
     "execution_count": 97,
     "metadata": {},
     "output_type": "execute_result"
    }
   ],
   "source": [
    "train.columns"
   ]
  },
  {
   "cell_type": "code",
   "execution_count": 98,
   "id": "38dc8a19-e4a8-487c-9d18-82eb611aff6d",
   "metadata": {},
   "outputs": [
    {
     "data": {
      "text/html": [
       "<div>\n",
       "<style scoped>\n",
       "    .dataframe tbody tr th:only-of-type {\n",
       "        vertical-align: middle;\n",
       "    }\n",
       "\n",
       "    .dataframe tbody tr th {\n",
       "        vertical-align: top;\n",
       "    }\n",
       "\n",
       "    .dataframe thead th {\n",
       "        text-align: right;\n",
       "    }\n",
       "</style>\n",
       "<table border=\"1\" class=\"dataframe\">\n",
       "  <thead>\n",
       "    <tr style=\"text-align: right;\">\n",
       "      <th></th>\n",
       "      <th>RowNumber</th>\n",
       "      <th>CustomerId</th>\n",
       "      <th>Surname</th>\n",
       "      <th>CreditScore</th>\n",
       "      <th>Geography</th>\n",
       "      <th>Gender</th>\n",
       "      <th>Age</th>\n",
       "      <th>Tenure</th>\n",
       "      <th>Balance</th>\n",
       "      <th>NumOfProducts</th>\n",
       "      <th>HasCrCard</th>\n",
       "      <th>IsActiveMember</th>\n",
       "      <th>EstimatedSalary</th>\n",
       "      <th>Exited</th>\n",
       "    </tr>\n",
       "  </thead>\n",
       "  <tbody>\n",
       "    <tr>\n",
       "      <th>6851</th>\n",
       "      <td>6852</td>\n",
       "      <td>15779103</td>\n",
       "      <td>Cantamessa</td>\n",
       "      <td>527</td>\n",
       "      <td>Germany</td>\n",
       "      <td>Female</td>\n",
       "      <td>39</td>\n",
       "      <td>9</td>\n",
       "      <td>96748.89</td>\n",
       "      <td>2</td>\n",
       "      <td>1</td>\n",
       "      <td>0</td>\n",
       "      <td>94711.43</td>\n",
       "      <td>0</td>\n",
       "    </tr>\n",
       "    <tr>\n",
       "      <th>7026</th>\n",
       "      <td>7027</td>\n",
       "      <td>15588123</td>\n",
       "      <td>Horton</td>\n",
       "      <td>677</td>\n",
       "      <td>France</td>\n",
       "      <td>Female</td>\n",
       "      <td>27</td>\n",
       "      <td>2</td>\n",
       "      <td>0.00</td>\n",
       "      <td>2</td>\n",
       "      <td>0</td>\n",
       "      <td>1</td>\n",
       "      <td>114685.92</td>\n",
       "      <td>0</td>\n",
       "    </tr>\n",
       "  </tbody>\n",
       "</table>\n",
       "</div>"
      ],
      "text/plain": [
       "      RowNumber  CustomerId     Surname  CreditScore Geography  Gender  Age  \\\n",
       "6851       6852    15779103  Cantamessa          527   Germany  Female   39   \n",
       "7026       7027    15588123      Horton          677    France  Female   27   \n",
       "\n",
       "      Tenure   Balance  NumOfProducts  HasCrCard  IsActiveMember  \\\n",
       "6851       9  96748.89              2          1               0   \n",
       "7026       2      0.00              2          0               1   \n",
       "\n",
       "      EstimatedSalary  Exited  \n",
       "6851         94711.43       0  \n",
       "7026        114685.92       0  "
      ]
     },
     "execution_count": 98,
     "metadata": {},
     "output_type": "execute_result"
    }
   ],
   "source": [
    "train.head(2)"
   ]
  },
  {
   "cell_type": "code",
   "execution_count": 99,
   "id": "03854fd9-4013-45d3-a87d-876d1fadae38",
   "metadata": {},
   "outputs": [
    {
     "data": {
      "text/plain": [
       "RowNumber            int64\n",
       "CustomerId           int64\n",
       "Surname             object\n",
       "CreditScore          int64\n",
       "Geography           object\n",
       "Gender              object\n",
       "Age                  int64\n",
       "Tenure               int64\n",
       "Balance            float64\n",
       "NumOfProducts        int64\n",
       "HasCrCard            int64\n",
       "IsActiveMember       int64\n",
       "EstimatedSalary    float64\n",
       "Exited               int64\n",
       "dtype: object"
      ]
     },
     "execution_count": 99,
     "metadata": {},
     "output_type": "execute_result"
    }
   ],
   "source": [
    "train.dtypes"
   ]
  },
  {
   "cell_type": "code",
   "execution_count": 100,
   "id": "ca6c4c2c-875e-4f2f-a888-bf8c9275671a",
   "metadata": {},
   "outputs": [],
   "source": [
    "X = ['CustomerId', 'CreditScore', 'Geography',\n",
    "       'Gender', 'Age', 'Tenure', 'Balance', 'NumOfProducts', 'HasCrCard',\n",
    "       'IsActiveMember', 'EstimatedSalary']\n",
    "\n",
    "cat_features = ['Geography','Gender']\n",
    "\n",
    "y = ['Exited']\n",
    "     "
   ]
  },
  {
   "cell_type": "code",
   "execution_count": 101,
   "id": "4564c4f8-1f9a-4897-89f8-9161856a54c1",
   "metadata": {},
   "outputs": [],
   "source": [
    "from catboost import Pool\n",
    "\n",
    "train_data = Pool(data=train[X],\n",
    "                  label=train[y],\n",
    "                  cat_features=cat_features\n",
    "                 )\n",
    "\n",
    "valid_data = Pool(data=val[X],\n",
    "                  label=val[y],\n",
    "                  cat_features=cat_features\n",
    "                 )"
   ]
  },
  {
   "cell_type": "code",
   "execution_count": 102,
   "id": "c0517c68-5807-4eaf-adbf-f9559ab3524a",
   "metadata": {},
   "outputs": [],
   "source": [
    "params = {'verbose':100,\n",
    "          'random_seed':42,\n",
    "          'learning_rate':0.01}"
   ]
  },
  {
   "cell_type": "code",
   "execution_count": 103,
   "id": "346951bb-9cef-4af9-aeef-737fbd15d3c7",
   "metadata": {},
   "outputs": [],
   "source": [
    "model = CatBoostClassifier(**params)"
   ]
  },
  {
   "cell_type": "code",
   "execution_count": 104,
   "id": "3c93672d-e9b3-4260-b76a-331e7fce4f46",
   "metadata": {},
   "outputs": [
    {
     "name": "stdout",
     "output_type": "stream",
     "text": [
      "0:\tlearn: 0.6848575\ttest: 0.6849145\tbest: 0.6849145 (0)\ttotal: 10.5ms\tremaining: 10.5s\n",
      "100:\tlearn: 0.3908412\ttest: 0.3894043\tbest: 0.3894043 (100)\ttotal: 514ms\tremaining: 4.57s\n",
      "200:\tlearn: 0.3457312\ttest: 0.3445503\tbest: 0.3445503 (200)\ttotal: 996ms\tremaining: 3.96s\n",
      "300:\tlearn: 0.3288071\ttest: 0.3307084\tbest: 0.3307084 (300)\ttotal: 1.47s\tremaining: 3.42s\n",
      "400:\tlearn: 0.3192987\ttest: 0.3252459\tbest: 0.3252459 (400)\ttotal: 1.92s\tremaining: 2.86s\n",
      "500:\tlearn: 0.3120470\ttest: 0.3221057\tbest: 0.3221057 (500)\ttotal: 2.42s\tremaining: 2.41s\n",
      "600:\tlearn: 0.3054735\ttest: 0.3204300\tbest: 0.3204300 (600)\ttotal: 2.86s\tremaining: 1.9s\n",
      "700:\tlearn: 0.2997053\ttest: 0.3192377\tbest: 0.3192377 (700)\ttotal: 3.33s\tremaining: 1.42s\n",
      "800:\tlearn: 0.2946934\ttest: 0.3188206\tbest: 0.3187917 (794)\ttotal: 3.81s\tremaining: 948ms\n",
      "900:\tlearn: 0.2890177\ttest: 0.3185731\tbest: 0.3185731 (900)\ttotal: 4.26s\tremaining: 468ms\n",
      "999:\tlearn: 0.2831978\ttest: 0.3186396\tbest: 0.3185004 (978)\ttotal: 4.71s\tremaining: 0us\n",
      "\n",
      "bestTest = 0.3185003702\n",
      "bestIteration = 978\n",
      "\n",
      "Shrink model to first 979 iterations.\n"
     ]
    },
    {
     "data": {
      "text/plain": [
       "<catboost.core.CatBoostClassifier at 0x7f5f6587e0e0>"
      ]
     },
     "execution_count": 104,
     "metadata": {},
     "output_type": "execute_result"
    }
   ],
   "source": [
    "model.fit(train_data,eval_set=valid_data)"
   ]
  },
  {
   "cell_type": "code",
   "execution_count": 105,
   "id": "14cf59dc-97a4-4324-9b49-e09b60164627",
   "metadata": {},
   "outputs": [],
   "source": [
    "test['score_cat_prod_age_active_all_features'] = model.predict_proba(test[X])[:,1]"
   ]
  },
  {
   "cell_type": "code",
   "execution_count": 106,
   "id": "ed3b5f8a-2e20-4dc8-90df-e29744e4e9c1",
   "metadata": {},
   "outputs": [
    {
     "name": "stdout",
     "output_type": "stream",
     "text": [
      "0.35878132799643003\n",
      "2.899262899262899\n"
     ]
    }
   ],
   "source": [
    "print_metrics(test,'score_cat_prod_age_active')"
   ]
  },
  {
   "cell_type": "code",
   "execution_count": 107,
   "id": "6d3a1e3d-433b-4f0a-8763-975e8f1d5143",
   "metadata": {},
   "outputs": [
    {
     "name": "stdout",
     "output_type": "stream",
     "text": [
      "0.3296082204006806\n",
      "3.1449631449631448\n"
     ]
    }
   ],
   "source": [
    "print_metrics(test,'score_cat_prod_age_active_all_features')"
   ]
  },
  {
   "cell_type": "markdown",
   "id": "03286b26-5612-411c-b4a6-b9420960d245",
   "metadata": {},
   "source": [
    "# Feature importances"
   ]
  },
  {
   "cell_type": "code",
   "execution_count": 108,
   "id": "a765af17-b257-4f6e-b772-c41fe77d7016",
   "metadata": {},
   "outputs": [
    {
     "data": {
      "text/html": [
       "<div>\n",
       "<style scoped>\n",
       "    .dataframe tbody tr th:only-of-type {\n",
       "        vertical-align: middle;\n",
       "    }\n",
       "\n",
       "    .dataframe tbody tr th {\n",
       "        vertical-align: top;\n",
       "    }\n",
       "\n",
       "    .dataframe thead th {\n",
       "        text-align: right;\n",
       "    }\n",
       "</style>\n",
       "<table border=\"1\" class=\"dataframe\">\n",
       "  <thead>\n",
       "    <tr style=\"text-align: right;\">\n",
       "      <th></th>\n",
       "      <th>Feature Id</th>\n",
       "      <th>Importances</th>\n",
       "    </tr>\n",
       "  </thead>\n",
       "  <tbody>\n",
       "    <tr>\n",
       "      <th>0</th>\n",
       "      <td>NumOfProducts</td>\n",
       "      <td>27.408724</td>\n",
       "    </tr>\n",
       "    <tr>\n",
       "      <th>1</th>\n",
       "      <td>Age</td>\n",
       "      <td>21.567747</td>\n",
       "    </tr>\n",
       "    <tr>\n",
       "      <th>2</th>\n",
       "      <td>Balance</td>\n",
       "      <td>11.455919</td>\n",
       "    </tr>\n",
       "    <tr>\n",
       "      <th>3</th>\n",
       "      <td>Geography</td>\n",
       "      <td>10.011145</td>\n",
       "    </tr>\n",
       "    <tr>\n",
       "      <th>4</th>\n",
       "      <td>IsActiveMember</td>\n",
       "      <td>7.420335</td>\n",
       "    </tr>\n",
       "    <tr>\n",
       "      <th>5</th>\n",
       "      <td>EstimatedSalary</td>\n",
       "      <td>5.163513</td>\n",
       "    </tr>\n",
       "    <tr>\n",
       "      <th>6</th>\n",
       "      <td>CustomerId</td>\n",
       "      <td>4.965796</td>\n",
       "    </tr>\n",
       "    <tr>\n",
       "      <th>7</th>\n",
       "      <td>CreditScore</td>\n",
       "      <td>4.482999</td>\n",
       "    </tr>\n",
       "    <tr>\n",
       "      <th>8</th>\n",
       "      <td>Tenure</td>\n",
       "      <td>3.637201</td>\n",
       "    </tr>\n",
       "    <tr>\n",
       "      <th>9</th>\n",
       "      <td>Gender</td>\n",
       "      <td>3.089379</td>\n",
       "    </tr>\n",
       "    <tr>\n",
       "      <th>10</th>\n",
       "      <td>HasCrCard</td>\n",
       "      <td>0.797242</td>\n",
       "    </tr>\n",
       "  </tbody>\n",
       "</table>\n",
       "</div>"
      ],
      "text/plain": [
       "         Feature Id  Importances\n",
       "0     NumOfProducts    27.408724\n",
       "1               Age    21.567747\n",
       "2           Balance    11.455919\n",
       "3         Geography    10.011145\n",
       "4    IsActiveMember     7.420335\n",
       "5   EstimatedSalary     5.163513\n",
       "6        CustomerId     4.965796\n",
       "7       CreditScore     4.482999\n",
       "8            Tenure     3.637201\n",
       "9            Gender     3.089379\n",
       "10        HasCrCard     0.797242"
      ]
     },
     "execution_count": 108,
     "metadata": {},
     "output_type": "execute_result"
    }
   ],
   "source": [
    "model.get_feature_importance(prettified=True)"
   ]
  },
  {
   "cell_type": "code",
   "execution_count": 109,
   "id": "f27c19ee-a2da-4ac4-8da9-df5bd6d6492f",
   "metadata": {},
   "outputs": [
    {
     "data": {
      "text/plain": [
       "Exited             1.000000\n",
       "NumOfProducts      0.564969\n",
       "Age                0.498768\n",
       "IsActiveMember     0.237244\n",
       "Balance            0.167823\n",
       "Gender             0.165231\n",
       "CreditScore        0.105371\n",
       "Geography          0.104047\n",
       "CustomerId         0.035477\n",
       "Tenure             0.030333\n",
       "RowNumber          0.000000\n",
       "Surname            0.000000\n",
       "HasCrCard          0.000000\n",
       "EstimatedSalary    0.000000\n",
       "Name: Exited, dtype: float64"
      ]
     },
     "execution_count": 109,
     "metadata": {},
     "output_type": "execute_result"
    }
   ],
   "source": [
    "phik_overview['Exited'].sort_values(ascending=False)"
   ]
  },
  {
   "cell_type": "markdown",
   "id": "947950a0-9f29-4aa7-80b8-5cc2c031adfa",
   "metadata": {},
   "source": [
    "# Классификция == Регрессия (технически)"
   ]
  },
  {
   "cell_type": "code",
   "execution_count": 110,
   "id": "4efc9800-51ad-4a07-9914-308556a4264b",
   "metadata": {},
   "outputs": [
    {
     "data": {
      "text/plain": [
       "array([-1.88475323, -2.52652396, -1.47044046, ..., -1.73922605,\n",
       "       -2.68750234, -2.93959577])"
      ]
     },
     "execution_count": 110,
     "metadata": {},
     "output_type": "execute_result"
    }
   ],
   "source": [
    "model.predict(test[X],prediction_type='RawFormulaVal')"
   ]
  },
  {
   "cell_type": "code",
   "execution_count": 111,
   "id": "96838798-d9e5-4b93-a7d2-10b11cf0866b",
   "metadata": {},
   "outputs": [
    {
     "data": {
      "text/plain": [
       "<AxesSubplot: >"
      ]
     },
     "execution_count": 111,
     "metadata": {},
     "output_type": "execute_result"
    },
    {
     "data": {
      "image/png": "[encoded data removed]",
      "text/plain": [
       "<Figure size 640x480 with 1 Axes>"
      ]
     },
     "metadata": {},
     "output_type": "display_data"
    }
   ],
   "source": [
    "pd.Series(model.predict(test[X],prediction_type='RawFormulaVal')).hist()"
   ]
  },
  {
   "cell_type": "code",
   "execution_count": 112,
   "id": "17df57b6-c748-4c51-a370-70281bbcd97e",
   "metadata": {},
   "outputs": [],
   "source": [
    "import math\n",
    "\n",
    "def sigmoid(x):\n",
    "  return 1 / (1 + math.exp(-x))"
   ]
  },
  {
   "cell_type": "code",
   "execution_count": 113,
   "id": "727576f0-3ad8-470c-9e21-cd8b5a3bec06",
   "metadata": {},
   "outputs": [
    {
     "data": {
      "text/plain": [
       "0       0.131844\n",
       "1       0.074020\n",
       "2       0.186876\n",
       "3       0.087403\n",
       "4       0.056658\n",
       "          ...   \n",
       "1995    0.026803\n",
       "1996    0.084712\n",
       "1997    0.149411\n",
       "1998    0.063715\n",
       "1999    0.050231\n",
       "Length: 2000, dtype: float64"
      ]
     },
     "execution_count": 113,
     "metadata": {},
     "output_type": "execute_result"
    }
   ],
   "source": [
    "pd.Series(model.predict(test[X],prediction_type='RawFormulaVal')).apply(sigmoid)"
   ]
  },
  {
   "cell_type": "code",
   "execution_count": 114,
   "id": "8ff91e68-2673-4271-9c04-41c176b92b69",
   "metadata": {},
   "outputs": [
    {
     "data": {
      "text/plain": [
       "array([[0.86815614, 0.13184386],\n",
       "       [0.92598046, 0.07401954],\n",
       "       [0.81312433, 0.18687567],\n",
       "       ...,\n",
       "       [0.85058873, 0.14941127],\n",
       "       [0.93628515, 0.06371485],\n",
       "       [0.94976945, 0.05023055]])"
      ]
     },
     "execution_count": 114,
     "metadata": {},
     "output_type": "execute_result"
    }
   ],
   "source": [
    "model.predict_proba(test[X])"
   ]
  },
  {
   "cell_type": "code",
   "execution_count": 115,
   "id": "d65e3b34-d3a5-429b-ae8a-601069b3de94",
   "metadata": {},
   "outputs": [
    {
     "data": {
      "text/plain": [
       "array([[0.86815614, 0.13184386],\n",
       "       [0.92598046, 0.07401954],\n",
       "       [0.81312433, 0.18687567],\n",
       "       ...,\n",
       "       [0.85058873, 0.14941127],\n",
       "       [0.93628515, 0.06371485],\n",
       "       [0.94976945, 0.05023055]])"
      ]
     },
     "execution_count": 115,
     "metadata": {},
     "output_type": "execute_result"
    }
   ],
   "source": [
    "model.predict(test[X],prediction_type='Probability')"
   ]
  },
  {
   "cell_type": "code",
   "execution_count": null,
   "id": "27537ba4-4c8c-4756-aebf-4c4fbf34f675",
   "metadata": {},
   "outputs": [],
   "source": []
  },
  {
   "cell_type": "code",
   "execution_count": null,
   "id": "c32b653d-c48d-4cfd-96d1-5b3a117cb2fb",
   "metadata": {},
   "outputs": [],
   "source": []
  }
 ],
 "metadata": {
  "kernelspec": {
   "display_name": "Python 3 (ipykernel)",
   "language": "python",
   "name": "python3"
  },
  "language_info": {
   "codemirror_mode": {
    "name": "ipython",
    "version": 3
   },
   "file_extension": ".py",
   "mimetype": "text/x-python",
   "name": "python",
   "nbconvert_exporter": "python",
   "pygments_lexer": "ipython3",
   "version": "3.10.9"
  }
 },
 "nbformat": 4,
 "nbformat_minor": 5
}
