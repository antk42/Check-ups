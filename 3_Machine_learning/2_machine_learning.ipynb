{
 "cells": [
  {
   "cell_type": "code",
   "execution_count": 84,
   "id": "fb7b42c6-bea0-40c1-923d-18d88d76406b",
   "metadata": {},
   "outputs": [],
   "source": [
    "import pandas as pd\n",
    "import numpy as np"
   ]
  },
  {
   "cell_type": "code",
   "execution_count": 85,
   "id": "2a2bfbc2-e9fb-4b82-9554-ef51cb7dcd53",
   "metadata": {},
   "outputs": [],
   "source": [
    "df = pd.read_csv('/home/antonius/Projects/DS_Projects/Check-ups/3_Machine_learning/data/uk-used-cars/bmw.csv')"
   ]
  },
  {
   "cell_type": "code",
   "execution_count": 86,
   "id": "c8b441be-97a1-48a7-a2d1-126f841c5c5a",
   "metadata": {},
   "outputs": [
    {
     "data": {
      "text/html": [
       "<div>\n",
       "<style scoped>\n",
       "    .dataframe tbody tr th:only-of-type {\n",
       "        vertical-align: middle;\n",
       "    }\n",
       "\n",
       "    .dataframe tbody tr th {\n",
       "        vertical-align: top;\n",
       "    }\n",
       "\n",
       "    .dataframe thead th {\n",
       "        text-align: right;\n",
       "    }\n",
       "</style>\n",
       "<table border=\"1\" class=\"dataframe\">\n",
       "  <thead>\n",
       "    <tr style=\"text-align: right;\">\n",
       "      <th></th>\n",
       "      <th>model</th>\n",
       "      <th>year</th>\n",
       "      <th>price</th>\n",
       "      <th>transmission</th>\n",
       "      <th>mileage</th>\n",
       "      <th>fuelType</th>\n",
       "      <th>tax</th>\n",
       "      <th>mpg</th>\n",
       "      <th>engineSize</th>\n",
       "    </tr>\n",
       "  </thead>\n",
       "  <tbody>\n",
       "    <tr>\n",
       "      <th>0</th>\n",
       "      <td>5 Series</td>\n",
       "      <td>2014</td>\n",
       "      <td>11200</td>\n",
       "      <td>Automatic</td>\n",
       "      <td>67068</td>\n",
       "      <td>Diesel</td>\n",
       "      <td>125</td>\n",
       "      <td>57.6</td>\n",
       "      <td>2.0</td>\n",
       "    </tr>\n",
       "    <tr>\n",
       "      <th>1</th>\n",
       "      <td>6 Series</td>\n",
       "      <td>2018</td>\n",
       "      <td>27000</td>\n",
       "      <td>Automatic</td>\n",
       "      <td>14827</td>\n",
       "      <td>Petrol</td>\n",
       "      <td>145</td>\n",
       "      <td>42.8</td>\n",
       "      <td>2.0</td>\n",
       "    </tr>\n",
       "    <tr>\n",
       "      <th>2</th>\n",
       "      <td>5 Series</td>\n",
       "      <td>2016</td>\n",
       "      <td>16000</td>\n",
       "      <td>Automatic</td>\n",
       "      <td>62794</td>\n",
       "      <td>Diesel</td>\n",
       "      <td>160</td>\n",
       "      <td>51.4</td>\n",
       "      <td>3.0</td>\n",
       "    </tr>\n",
       "    <tr>\n",
       "      <th>3</th>\n",
       "      <td>1 Series</td>\n",
       "      <td>2017</td>\n",
       "      <td>12750</td>\n",
       "      <td>Automatic</td>\n",
       "      <td>26676</td>\n",
       "      <td>Diesel</td>\n",
       "      <td>145</td>\n",
       "      <td>72.4</td>\n",
       "      <td>1.5</td>\n",
       "    </tr>\n",
       "    <tr>\n",
       "      <th>4</th>\n",
       "      <td>7 Series</td>\n",
       "      <td>2014</td>\n",
       "      <td>14500</td>\n",
       "      <td>Automatic</td>\n",
       "      <td>39554</td>\n",
       "      <td>Diesel</td>\n",
       "      <td>160</td>\n",
       "      <td>50.4</td>\n",
       "      <td>3.0</td>\n",
       "    </tr>\n",
       "    <tr>\n",
       "      <th>...</th>\n",
       "      <td>...</td>\n",
       "      <td>...</td>\n",
       "      <td>...</td>\n",
       "      <td>...</td>\n",
       "      <td>...</td>\n",
       "      <td>...</td>\n",
       "      <td>...</td>\n",
       "      <td>...</td>\n",
       "      <td>...</td>\n",
       "    </tr>\n",
       "    <tr>\n",
       "      <th>10776</th>\n",
       "      <td>X3</td>\n",
       "      <td>2016</td>\n",
       "      <td>19000</td>\n",
       "      <td>Automatic</td>\n",
       "      <td>40818</td>\n",
       "      <td>Diesel</td>\n",
       "      <td>150</td>\n",
       "      <td>54.3</td>\n",
       "      <td>2.0</td>\n",
       "    </tr>\n",
       "    <tr>\n",
       "      <th>10777</th>\n",
       "      <td>5 Series</td>\n",
       "      <td>2016</td>\n",
       "      <td>14600</td>\n",
       "      <td>Automatic</td>\n",
       "      <td>42947</td>\n",
       "      <td>Diesel</td>\n",
       "      <td>125</td>\n",
       "      <td>60.1</td>\n",
       "      <td>2.0</td>\n",
       "    </tr>\n",
       "    <tr>\n",
       "      <th>10778</th>\n",
       "      <td>3 Series</td>\n",
       "      <td>2017</td>\n",
       "      <td>13100</td>\n",
       "      <td>Manual</td>\n",
       "      <td>25468</td>\n",
       "      <td>Petrol</td>\n",
       "      <td>200</td>\n",
       "      <td>42.8</td>\n",
       "      <td>2.0</td>\n",
       "    </tr>\n",
       "    <tr>\n",
       "      <th>10779</th>\n",
       "      <td>1 Series</td>\n",
       "      <td>2014</td>\n",
       "      <td>9930</td>\n",
       "      <td>Automatic</td>\n",
       "      <td>45000</td>\n",
       "      <td>Diesel</td>\n",
       "      <td>30</td>\n",
       "      <td>64.2</td>\n",
       "      <td>2.0</td>\n",
       "    </tr>\n",
       "    <tr>\n",
       "      <th>10780</th>\n",
       "      <td>X1</td>\n",
       "      <td>2017</td>\n",
       "      <td>15981</td>\n",
       "      <td>Automatic</td>\n",
       "      <td>59432</td>\n",
       "      <td>Diesel</td>\n",
       "      <td>125</td>\n",
       "      <td>57.6</td>\n",
       "      <td>2.0</td>\n",
       "    </tr>\n",
       "  </tbody>\n",
       "</table>\n",
       "<p>10781 rows × 9 columns</p>\n",
       "</div>"
      ],
      "text/plain": [
       "           model  year  price transmission  mileage fuelType  tax   mpg  \\\n",
       "0       5 Series  2014  11200    Automatic    67068   Diesel  125  57.6   \n",
       "1       6 Series  2018  27000    Automatic    14827   Petrol  145  42.8   \n",
       "2       5 Series  2016  16000    Automatic    62794   Diesel  160  51.4   \n",
       "3       1 Series  2017  12750    Automatic    26676   Diesel  145  72.4   \n",
       "4       7 Series  2014  14500    Automatic    39554   Diesel  160  50.4   \n",
       "...          ...   ...    ...          ...      ...      ...  ...   ...   \n",
       "10776         X3  2016  19000    Automatic    40818   Diesel  150  54.3   \n",
       "10777   5 Series  2016  14600    Automatic    42947   Diesel  125  60.1   \n",
       "10778   3 Series  2017  13100       Manual    25468   Petrol  200  42.8   \n",
       "10779   1 Series  2014   9930    Automatic    45000   Diesel   30  64.2   \n",
       "10780         X1  2017  15981    Automatic    59432   Diesel  125  57.6   \n",
       "\n",
       "       engineSize  \n",
       "0             2.0  \n",
       "1             2.0  \n",
       "2             3.0  \n",
       "3             1.5  \n",
       "4             3.0  \n",
       "...           ...  \n",
       "10776         2.0  \n",
       "10777         2.0  \n",
       "10778         2.0  \n",
       "10779         2.0  \n",
       "10780         2.0  \n",
       "\n",
       "[10781 rows x 9 columns]"
      ]
     },
     "execution_count": 86,
     "metadata": {},
     "output_type": "execute_result"
    }
   ],
   "source": [
    "df"
   ]
  },
  {
   "cell_type": "code",
   "execution_count": 87,
   "id": "6a568e66-1ff5-4916-ac35-fbb43318bc92",
   "metadata": {},
   "outputs": [
    {
     "data": {
      "text/plain": [
       "10781"
      ]
     },
     "execution_count": 87,
     "metadata": {},
     "output_type": "execute_result"
    }
   ],
   "source": [
    "len(df)"
   ]
  },
  {
   "cell_type": "markdown",
   "id": "bb5b56ad-2ebe-48cd-a5a3-766c44fc95e3",
   "metadata": {},
   "source": [
    "### train and test"
   ]
  },
  {
   "cell_type": "code",
   "execution_count": 88,
   "id": "36c76447-b61f-4cbb-99a8-0a08f5645c86",
   "metadata": {},
   "outputs": [],
   "source": [
    "from sklearn.model_selection import train_test_split"
   ]
  },
  {
   "cell_type": "code",
   "execution_count": 89,
   "id": "c8bacb30-42b8-4280-ae45-4438b21e0823",
   "metadata": {},
   "outputs": [],
   "source": [
    "train, test = train_test_split(df, train_size=0.6, random_state=42)"
   ]
  },
  {
   "cell_type": "code",
   "execution_count": 90,
   "id": "2d68cdfa-a632-4075-a489-759bdb3d37d1",
   "metadata": {},
   "outputs": [
    {
     "data": {
      "text/plain": [
       "6468"
      ]
     },
     "execution_count": 90,
     "metadata": {},
     "output_type": "execute_result"
    }
   ],
   "source": [
    "len(train)"
   ]
  },
  {
   "cell_type": "code",
   "execution_count": 91,
   "id": "73faf9df-abe8-4ff6-88c3-d1dcd8507775",
   "metadata": {},
   "outputs": [
    {
     "data": {
      "text/plain": [
       "4313"
      ]
     },
     "execution_count": 91,
     "metadata": {},
     "output_type": "execute_result"
    }
   ],
   "source": [
    "len(test)"
   ]
  },
  {
   "cell_type": "markdown",
   "id": "f9749c17-8a25-4ab2-bc62-46bd2e8d70d0",
   "metadata": {},
   "source": [
    "## Validation for catboost"
   ]
  },
  {
   "cell_type": "code",
   "execution_count": 92,
   "id": "e79cbff5-f0a5-4e8d-be87-a71376396ab3",
   "metadata": {},
   "outputs": [
    {
     "data": {
      "text/plain": [
       "0.5999443465355718"
      ]
     },
     "execution_count": 92,
     "metadata": {},
     "output_type": "execute_result"
    }
   ],
   "source": [
    "len(train) / len(df)"
   ]
  },
  {
   "cell_type": "code",
   "execution_count": 93,
   "id": "bffc3aae-211a-4e05-9ca7-a8143abf5666",
   "metadata": {},
   "outputs": [
    {
     "data": {
      "text/plain": [
       "0.4000556534644282"
      ]
     },
     "execution_count": 93,
     "metadata": {},
     "output_type": "execute_result"
    }
   ],
   "source": [
    "len(test) / len (df)"
   ]
  },
  {
   "cell_type": "code",
   "execution_count": 94,
   "id": "c8234414-d045-467b-b64b-07c6db064025",
   "metadata": {},
   "outputs": [],
   "source": [
    "val, test = train_test_split(test, train_size=0.5, random_state=42)"
   ]
  },
  {
   "cell_type": "code",
   "execution_count": 95,
   "id": "8173d2f5-a422-4aad-be7a-5a1f9db8b5b4",
   "metadata": {},
   "outputs": [
    {
     "data": {
      "text/plain": [
       "0.5999443465355718"
      ]
     },
     "execution_count": 95,
     "metadata": {},
     "output_type": "execute_result"
    }
   ],
   "source": [
    "len(train) / len(df)"
   ]
  },
  {
   "cell_type": "code",
   "execution_count": 96,
   "id": "3925f2be-a880-4aef-94ce-fb88d507ec20",
   "metadata": {},
   "outputs": [
    {
     "data": {
      "text/plain": [
       "0.19998144884519062"
      ]
     },
     "execution_count": 96,
     "metadata": {},
     "output_type": "execute_result"
    }
   ],
   "source": [
    "len(val) / len(df)"
   ]
  },
  {
   "cell_type": "code",
   "execution_count": 97,
   "id": "ab7874b8-fc68-4735-bb38-f0674a431413",
   "metadata": {},
   "outputs": [
    {
     "data": {
      "text/plain": [
       "0.20007420461923756"
      ]
     },
     "execution_count": 97,
     "metadata": {},
     "output_type": "execute_result"
    }
   ],
   "source": [
    "len(test) / len(df)"
   ]
  },
  {
   "cell_type": "markdown",
   "id": "61020baf-9283-4ef6-b6cb-4e06e7bb9f02",
   "metadata": {},
   "source": [
    "## list of features"
   ]
  },
  {
   "cell_type": "code",
   "execution_count": 98,
   "id": "3775ce2f-7761-4049-958c-0be8c14b81c1",
   "metadata": {},
   "outputs": [
    {
     "data": {
      "text/plain": [
       "Index(['model', 'year', 'price', 'transmission', 'mileage', 'fuelType', 'tax',\n",
       "       'mpg', 'engineSize'],\n",
       "      dtype='object')"
      ]
     },
     "execution_count": 98,
     "metadata": {},
     "output_type": "execute_result"
    }
   ],
   "source": [
    "train.columns"
   ]
  },
  {
   "cell_type": "code",
   "execution_count": 99,
   "id": "0f335a94-e3eb-4ac3-af6a-2d79aee5a454",
   "metadata": {},
   "outputs": [
    {
     "data": {
      "text/html": [
       "<div>\n",
       "<style scoped>\n",
       "    .dataframe tbody tr th:only-of-type {\n",
       "        vertical-align: middle;\n",
       "    }\n",
       "\n",
       "    .dataframe tbody tr th {\n",
       "        vertical-align: top;\n",
       "    }\n",
       "\n",
       "    .dataframe thead th {\n",
       "        text-align: right;\n",
       "    }\n",
       "</style>\n",
       "<table border=\"1\" class=\"dataframe\">\n",
       "  <thead>\n",
       "    <tr style=\"text-align: right;\">\n",
       "      <th></th>\n",
       "      <th>model</th>\n",
       "      <th>year</th>\n",
       "      <th>price</th>\n",
       "      <th>transmission</th>\n",
       "      <th>mileage</th>\n",
       "      <th>fuelType</th>\n",
       "      <th>tax</th>\n",
       "      <th>mpg</th>\n",
       "      <th>engineSize</th>\n",
       "    </tr>\n",
       "  </thead>\n",
       "  <tbody>\n",
       "    <tr>\n",
       "      <th>5133</th>\n",
       "      <td>X6</td>\n",
       "      <td>2015</td>\n",
       "      <td>25000</td>\n",
       "      <td>Semi-Auto</td>\n",
       "      <td>26100</td>\n",
       "      <td>Diesel</td>\n",
       "      <td>205</td>\n",
       "      <td>45.6</td>\n",
       "      <td>3.0</td>\n",
       "    </tr>\n",
       "    <tr>\n",
       "      <th>2121</th>\n",
       "      <td>X2</td>\n",
       "      <td>2019</td>\n",
       "      <td>31980</td>\n",
       "      <td>Automatic</td>\n",
       "      <td>4804</td>\n",
       "      <td>Petrol</td>\n",
       "      <td>145</td>\n",
       "      <td>34.0</td>\n",
       "      <td>2.0</td>\n",
       "    </tr>\n",
       "    <tr>\n",
       "      <th>6576</th>\n",
       "      <td>X2</td>\n",
       "      <td>2018</td>\n",
       "      <td>22995</td>\n",
       "      <td>Semi-Auto</td>\n",
       "      <td>24136</td>\n",
       "      <td>Petrol</td>\n",
       "      <td>145</td>\n",
       "      <td>38.7</td>\n",
       "      <td>2.0</td>\n",
       "    </tr>\n",
       "    <tr>\n",
       "      <th>8330</th>\n",
       "      <td>3 Series</td>\n",
       "      <td>2016</td>\n",
       "      <td>12999</td>\n",
       "      <td>Manual</td>\n",
       "      <td>52224</td>\n",
       "      <td>Diesel</td>\n",
       "      <td>125</td>\n",
       "      <td>62.8</td>\n",
       "      <td>2.0</td>\n",
       "    </tr>\n",
       "    <tr>\n",
       "      <th>3161</th>\n",
       "      <td>X3</td>\n",
       "      <td>2019</td>\n",
       "      <td>32980</td>\n",
       "      <td>Semi-Auto</td>\n",
       "      <td>1961</td>\n",
       "      <td>Diesel</td>\n",
       "      <td>150</td>\n",
       "      <td>54.3</td>\n",
       "      <td>2.0</td>\n",
       "    </tr>\n",
       "    <tr>\n",
       "      <th>...</th>\n",
       "      <td>...</td>\n",
       "      <td>...</td>\n",
       "      <td>...</td>\n",
       "      <td>...</td>\n",
       "      <td>...</td>\n",
       "      <td>...</td>\n",
       "      <td>...</td>\n",
       "      <td>...</td>\n",
       "      <td>...</td>\n",
       "    </tr>\n",
       "    <tr>\n",
       "      <th>5734</th>\n",
       "      <td>3 Series</td>\n",
       "      <td>2018</td>\n",
       "      <td>17995</td>\n",
       "      <td>Semi-Auto</td>\n",
       "      <td>40456</td>\n",
       "      <td>Diesel</td>\n",
       "      <td>145</td>\n",
       "      <td>64.2</td>\n",
       "      <td>2.0</td>\n",
       "    </tr>\n",
       "    <tr>\n",
       "      <th>5191</th>\n",
       "      <td>1 Series</td>\n",
       "      <td>2016</td>\n",
       "      <td>19950</td>\n",
       "      <td>Semi-Auto</td>\n",
       "      <td>23210</td>\n",
       "      <td>Petrol</td>\n",
       "      <td>200</td>\n",
       "      <td>39.8</td>\n",
       "      <td>3.0</td>\n",
       "    </tr>\n",
       "    <tr>\n",
       "      <th>5390</th>\n",
       "      <td>X2</td>\n",
       "      <td>2019</td>\n",
       "      <td>25450</td>\n",
       "      <td>Semi-Auto</td>\n",
       "      <td>5652</td>\n",
       "      <td>Diesel</td>\n",
       "      <td>145</td>\n",
       "      <td>47.9</td>\n",
       "      <td>2.0</td>\n",
       "    </tr>\n",
       "    <tr>\n",
       "      <th>860</th>\n",
       "      <td>X1</td>\n",
       "      <td>2016</td>\n",
       "      <td>19850</td>\n",
       "      <td>Semi-Auto</td>\n",
       "      <td>14542</td>\n",
       "      <td>Diesel</td>\n",
       "      <td>125</td>\n",
       "      <td>60.1</td>\n",
       "      <td>2.0</td>\n",
       "    </tr>\n",
       "    <tr>\n",
       "      <th>7270</th>\n",
       "      <td>1 Series</td>\n",
       "      <td>2016</td>\n",
       "      <td>15745</td>\n",
       "      <td>Automatic</td>\n",
       "      <td>17237</td>\n",
       "      <td>Petrol</td>\n",
       "      <td>125</td>\n",
       "      <td>54.3</td>\n",
       "      <td>1.5</td>\n",
       "    </tr>\n",
       "  </tbody>\n",
       "</table>\n",
       "<p>6468 rows × 9 columns</p>\n",
       "</div>"
      ],
      "text/plain": [
       "          model  year  price transmission  mileage fuelType  tax   mpg  \\\n",
       "5133         X6  2015  25000    Semi-Auto    26100   Diesel  205  45.6   \n",
       "2121         X2  2019  31980    Automatic     4804   Petrol  145  34.0   \n",
       "6576         X2  2018  22995    Semi-Auto    24136   Petrol  145  38.7   \n",
       "8330   3 Series  2016  12999       Manual    52224   Diesel  125  62.8   \n",
       "3161         X3  2019  32980    Semi-Auto     1961   Diesel  150  54.3   \n",
       "...         ...   ...    ...          ...      ...      ...  ...   ...   \n",
       "5734   3 Series  2018  17995    Semi-Auto    40456   Diesel  145  64.2   \n",
       "5191   1 Series  2016  19950    Semi-Auto    23210   Petrol  200  39.8   \n",
       "5390         X2  2019  25450    Semi-Auto     5652   Diesel  145  47.9   \n",
       "860          X1  2016  19850    Semi-Auto    14542   Diesel  125  60.1   \n",
       "7270   1 Series  2016  15745    Automatic    17237   Petrol  125  54.3   \n",
       "\n",
       "      engineSize  \n",
       "5133         3.0  \n",
       "2121         2.0  \n",
       "6576         2.0  \n",
       "8330         2.0  \n",
       "3161         2.0  \n",
       "...          ...  \n",
       "5734         2.0  \n",
       "5191         3.0  \n",
       "5390         2.0  \n",
       "860          2.0  \n",
       "7270         1.5  \n",
       "\n",
       "[6468 rows x 9 columns]"
      ]
     },
     "execution_count": 99,
     "metadata": {},
     "output_type": "execute_result"
    }
   ],
   "source": [
    "train"
   ]
  },
  {
   "cell_type": "markdown",
   "id": "7fc484c9-e16e-4a98-a13e-292c786faa62",
   "metadata": {},
   "source": [
    "# Catboost"
   ]
  },
  {
   "cell_type": "code",
   "execution_count": 100,
   "id": "19ca3b9a-f094-46fd-af98-a11af760ecbe",
   "metadata": {},
   "outputs": [],
   "source": [
    "from catboost import CatBoostRegressor"
   ]
  },
  {
   "cell_type": "code",
   "execution_count": 101,
   "id": "8342cf49-63cf-4436-808c-2c15f72180fa",
   "metadata": {},
   "outputs": [],
   "source": [
    "X = ['year', 'transmission', 'engineSize']\n",
    "\n",
    "cat_features = ['transmission']\n",
    "\n",
    "y = ['price']"
   ]
  },
  {
   "cell_type": "code",
   "execution_count": 102,
   "id": "e980fb4f-5d06-4940-86cc-2d43925b35d5",
   "metadata": {},
   "outputs": [],
   "source": [
    "parameters = {'cat_features': cat_features,\n",
    "              'eval_metric': 'MAPE',\n",
    "              'random_seed':42,\n",
    "              'verbose':100}"
   ]
  },
  {
   "cell_type": "code",
   "execution_count": 103,
   "id": "123335a7-3597-4025-9923-f8e4bac0cd69",
   "metadata": {},
   "outputs": [],
   "source": [
    "model = CatBoostRegressor(**parameters)"
   ]
  },
  {
   "cell_type": "code",
   "execution_count": 104,
   "id": "cb0ea245-3ca7-4ee4-bb33-c7b7a914508d",
   "metadata": {},
   "outputs": [
    {
     "name": "stdout",
     "output_type": "stream",
     "text": [
      "Learning rate set to 0.068263\n",
      "0:\tlearn: 0.4603375\ttest: 0.4555509\tbest: 0.4555509 (0)\ttotal: 3.49ms\tremaining: 3.48s\n",
      "100:\tlearn: 0.1546393\ttest: 0.1529687\tbest: 0.1529687 (100)\ttotal: 193ms\tremaining: 1.72s\n",
      "200:\tlearn: 0.1528213\ttest: 0.1517332\tbest: 0.1517332 (200)\ttotal: 351ms\tremaining: 1.4s\n",
      "300:\tlearn: 0.1517532\ttest: 0.1514386\tbest: 0.1514000 (288)\ttotal: 514ms\tremaining: 1.19s\n",
      "400:\tlearn: 0.1509722\ttest: 0.1515508\tbest: 0.1514000 (288)\ttotal: 694ms\tremaining: 1.04s\n",
      "500:\tlearn: 0.1502967\ttest: 0.1516166\tbest: 0.1514000 (288)\ttotal: 903ms\tremaining: 899ms\n",
      "600:\tlearn: 0.1499412\ttest: 0.1516849\tbest: 0.1514000 (288)\ttotal: 1.08s\tremaining: 719ms\n",
      "700:\tlearn: 0.1494768\ttest: 0.1516928\tbest: 0.1514000 (288)\ttotal: 1.26s\tremaining: 539ms\n",
      "800:\tlearn: 0.1490851\ttest: 0.1518297\tbest: 0.1514000 (288)\ttotal: 1.43s\tremaining: 356ms\n",
      "900:\tlearn: 0.1487173\ttest: 0.1519119\tbest: 0.1514000 (288)\ttotal: 1.61s\tremaining: 177ms\n",
      "999:\tlearn: 0.1483869\ttest: 0.1519628\tbest: 0.1514000 (288)\ttotal: 1.78s\tremaining: 0us\n",
      "\n",
      "bestTest = 0.1514000297\n",
      "bestIteration = 288\n",
      "\n",
      "Shrink model to first 289 iterations.\n"
     ]
    },
    {
     "data": {
      "text/plain": [
       "<catboost.core.CatBoostRegressor at 0x7f5afcb99510>"
      ]
     },
     "execution_count": 104,
     "metadata": {},
     "output_type": "execute_result"
    }
   ],
   "source": [
    "model.fit(train[X],train[y],eval_set=(val[X],val[y]))"
   ]
  },
  {
   "cell_type": "code",
   "execution_count": 105,
   "id": "76dfd5d2-90b6-4f8f-8e48-7cf014de1fe5",
   "metadata": {},
   "outputs": [
    {
     "data": {
      "text/plain": [
       "array([45436.28801924, 21738.83525716, 16205.32627896, ...,\n",
       "       28444.11570854, 16205.32627896, 27824.78614511])"
      ]
     },
     "execution_count": 105,
     "metadata": {},
     "output_type": "execute_result"
    }
   ],
   "source": [
    "model.predict(test[X])"
   ]
  },
  {
   "cell_type": "code",
   "execution_count": 106,
   "id": "42981a22-3c25-42dd-a2a5-421d7864e9be",
   "metadata": {},
   "outputs": [],
   "source": [
    "test['price_pred'] = model.predict(test[X]) "
   ]
  },
  {
   "cell_type": "code",
   "execution_count": 107,
   "id": "856e1b7e-99a1-4798-be42-15c655581adf",
   "metadata": {},
   "outputs": [
    {
     "data": {
      "text/html": [
       "<div>\n",
       "<style scoped>\n",
       "    .dataframe tbody tr th:only-of-type {\n",
       "        vertical-align: middle;\n",
       "    }\n",
       "\n",
       "    .dataframe tbody tr th {\n",
       "        vertical-align: top;\n",
       "    }\n",
       "\n",
       "    .dataframe thead th {\n",
       "        text-align: right;\n",
       "    }\n",
       "</style>\n",
       "<table border=\"1\" class=\"dataframe\">\n",
       "  <thead>\n",
       "    <tr style=\"text-align: right;\">\n",
       "      <th></th>\n",
       "      <th>model</th>\n",
       "      <th>year</th>\n",
       "      <th>price</th>\n",
       "      <th>transmission</th>\n",
       "      <th>mileage</th>\n",
       "      <th>fuelType</th>\n",
       "      <th>tax</th>\n",
       "      <th>mpg</th>\n",
       "      <th>engineSize</th>\n",
       "      <th>price_pred</th>\n",
       "    </tr>\n",
       "  </thead>\n",
       "  <tbody>\n",
       "    <tr>\n",
       "      <th>4984</th>\n",
       "      <td>X6</td>\n",
       "      <td>2019</td>\n",
       "      <td>52990</td>\n",
       "      <td>Semi-Auto</td>\n",
       "      <td>3086</td>\n",
       "      <td>Diesel</td>\n",
       "      <td>145</td>\n",
       "      <td>34.9</td>\n",
       "      <td>3.0</td>\n",
       "      <td>45436.288019</td>\n",
       "    </tr>\n",
       "    <tr>\n",
       "      <th>4880</th>\n",
       "      <td>X1</td>\n",
       "      <td>2018</td>\n",
       "      <td>24081</td>\n",
       "      <td>Semi-Auto</td>\n",
       "      <td>13245</td>\n",
       "      <td>Diesel</td>\n",
       "      <td>150</td>\n",
       "      <td>60.1</td>\n",
       "      <td>2.0</td>\n",
       "      <td>21738.835257</td>\n",
       "    </tr>\n",
       "    <tr>\n",
       "      <th>9132</th>\n",
       "      <td>1 Series</td>\n",
       "      <td>2016</td>\n",
       "      <td>12999</td>\n",
       "      <td>Automatic</td>\n",
       "      <td>68949</td>\n",
       "      <td>Petrol</td>\n",
       "      <td>200</td>\n",
       "      <td>43.5</td>\n",
       "      <td>2.0</td>\n",
       "      <td>16205.326279</td>\n",
       "    </tr>\n",
       "    <tr>\n",
       "      <th>6451</th>\n",
       "      <td>1 Series</td>\n",
       "      <td>2020</td>\n",
       "      <td>11995</td>\n",
       "      <td>Semi-Auto</td>\n",
       "      <td>10</td>\n",
       "      <td>Petrol</td>\n",
       "      <td>150</td>\n",
       "      <td>34.5</td>\n",
       "      <td>2.0</td>\n",
       "      <td>32088.707415</td>\n",
       "    </tr>\n",
       "    <tr>\n",
       "      <th>7199</th>\n",
       "      <td>3 Series</td>\n",
       "      <td>2020</td>\n",
       "      <td>29875</td>\n",
       "      <td>Semi-Auto</td>\n",
       "      <td>150</td>\n",
       "      <td>Petrol</td>\n",
       "      <td>145</td>\n",
       "      <td>42.2</td>\n",
       "      <td>2.0</td>\n",
       "      <td>32088.707415</td>\n",
       "    </tr>\n",
       "    <tr>\n",
       "      <th>...</th>\n",
       "      <td>...</td>\n",
       "      <td>...</td>\n",
       "      <td>...</td>\n",
       "      <td>...</td>\n",
       "      <td>...</td>\n",
       "      <td>...</td>\n",
       "      <td>...</td>\n",
       "      <td>...</td>\n",
       "      <td>...</td>\n",
       "      <td>...</td>\n",
       "    </tr>\n",
       "    <tr>\n",
       "      <th>9627</th>\n",
       "      <td>3 Series</td>\n",
       "      <td>2015</td>\n",
       "      <td>14999</td>\n",
       "      <td>Automatic</td>\n",
       "      <td>78680</td>\n",
       "      <td>Diesel</td>\n",
       "      <td>160</td>\n",
       "      <td>52.3</td>\n",
       "      <td>3.0</td>\n",
       "      <td>19357.530409</td>\n",
       "    </tr>\n",
       "    <tr>\n",
       "      <th>6096</th>\n",
       "      <td>4 Series</td>\n",
       "      <td>2019</td>\n",
       "      <td>29676</td>\n",
       "      <td>Automatic</td>\n",
       "      <td>7365</td>\n",
       "      <td>Petrol</td>\n",
       "      <td>145</td>\n",
       "      <td>41.5</td>\n",
       "      <td>3.0</td>\n",
       "      <td>44808.449332</td>\n",
       "    </tr>\n",
       "    <tr>\n",
       "      <th>1747</th>\n",
       "      <td>5 Series</td>\n",
       "      <td>2019</td>\n",
       "      <td>30570</td>\n",
       "      <td>Automatic</td>\n",
       "      <td>3067</td>\n",
       "      <td>Hybrid</td>\n",
       "      <td>145</td>\n",
       "      <td>49.6</td>\n",
       "      <td>2.0</td>\n",
       "      <td>28444.115709</td>\n",
       "    </tr>\n",
       "    <tr>\n",
       "      <th>4023</th>\n",
       "      <td>3 Series</td>\n",
       "      <td>2016</td>\n",
       "      <td>14999</td>\n",
       "      <td>Automatic</td>\n",
       "      <td>70054</td>\n",
       "      <td>Hybrid</td>\n",
       "      <td>0</td>\n",
       "      <td>148.7</td>\n",
       "      <td>2.0</td>\n",
       "      <td>16205.326279</td>\n",
       "    </tr>\n",
       "    <tr>\n",
       "      <th>4372</th>\n",
       "      <td>2 Series</td>\n",
       "      <td>2019</td>\n",
       "      <td>24590</td>\n",
       "      <td>Semi-Auto</td>\n",
       "      <td>3300</td>\n",
       "      <td>Diesel</td>\n",
       "      <td>145</td>\n",
       "      <td>48.7</td>\n",
       "      <td>2.0</td>\n",
       "      <td>27824.786145</td>\n",
       "    </tr>\n",
       "  </tbody>\n",
       "</table>\n",
       "<p>2157 rows × 10 columns</p>\n",
       "</div>"
      ],
      "text/plain": [
       "          model  year  price transmission  mileage fuelType  tax    mpg  \\\n",
       "4984         X6  2019  52990    Semi-Auto     3086   Diesel  145   34.9   \n",
       "4880         X1  2018  24081    Semi-Auto    13245   Diesel  150   60.1   \n",
       "9132   1 Series  2016  12999    Automatic    68949   Petrol  200   43.5   \n",
       "6451   1 Series  2020  11995    Semi-Auto       10   Petrol  150   34.5   \n",
       "7199   3 Series  2020  29875    Semi-Auto      150   Petrol  145   42.2   \n",
       "...         ...   ...    ...          ...      ...      ...  ...    ...   \n",
       "9627   3 Series  2015  14999    Automatic    78680   Diesel  160   52.3   \n",
       "6096   4 Series  2019  29676    Automatic     7365   Petrol  145   41.5   \n",
       "1747   5 Series  2019  30570    Automatic     3067   Hybrid  145   49.6   \n",
       "4023   3 Series  2016  14999    Automatic    70054   Hybrid    0  148.7   \n",
       "4372   2 Series  2019  24590    Semi-Auto     3300   Diesel  145   48.7   \n",
       "\n",
       "      engineSize    price_pred  \n",
       "4984         3.0  45436.288019  \n",
       "4880         2.0  21738.835257  \n",
       "9132         2.0  16205.326279  \n",
       "6451         2.0  32088.707415  \n",
       "7199         2.0  32088.707415  \n",
       "...          ...           ...  \n",
       "9627         3.0  19357.530409  \n",
       "6096         3.0  44808.449332  \n",
       "1747         2.0  28444.115709  \n",
       "4023         2.0  16205.326279  \n",
       "4372         2.0  27824.786145  \n",
       "\n",
       "[2157 rows x 10 columns]"
      ]
     },
     "execution_count": 107,
     "metadata": {},
     "output_type": "execute_result"
    }
   ],
   "source": [
    "test"
   ]
  },
  {
   "cell_type": "markdown",
   "id": "c8f62cc4-6718-49cc-8932-4928df41cdba",
   "metadata": {},
   "source": [
    "## Checking model"
   ]
  },
  {
   "cell_type": "code",
   "execution_count": 108,
   "id": "ce385b29-01df-41d0-add0-e53506ea2500",
   "metadata": {
    "id": "RPjbPXvIy3JD"
   },
   "outputs": [],
   "source": [
    "from sklearn.metrics import mean_absolute_error, mean_absolute_percentage_error"
   ]
  },
  {
   "cell_type": "code",
   "execution_count": 109,
   "id": "54fb19dc-42ca-4960-b43b-90e4defef9cb",
   "metadata": {
    "id": "-on6IXGWywMR"
   },
   "outputs": [],
   "source": [
    "def error(y_true,y_pred):\n",
    "  print(mean_absolute_error(y_true,y_pred))\n",
    "  print(mean_absolute_percentage_error(y_true,y_pred))"
   ]
  },
  {
   "cell_type": "code",
   "execution_count": 110,
   "id": "222fb56d-63a9-450b-8cb0-391d340c3700",
   "metadata": {},
   "outputs": [
    {
     "name": "stdout",
     "output_type": "stream",
     "text": [
      "3366.679482256595\n",
      "0.15363582890850797\n"
     ]
    }
   ],
   "source": [
    "error(test['price'], test['price_pred'])"
   ]
  },
  {
   "cell_type": "markdown",
   "id": "dfbade84-d5d0-413d-8ec7-8c59bd40a132",
   "metadata": {},
   "source": [
    "# Learn with all features"
   ]
  },
  {
   "cell_type": "code",
   "execution_count": 111,
   "id": "bfb4c5c1-eef9-45a7-b9f6-c71ed32ea8d5",
   "metadata": {},
   "outputs": [],
   "source": [
    "X = ['model', 'year', 'transmission', 'mileage', 'fuelType', 'tax',\n",
    "       'mpg', 'engineSize']\n",
    "\n",
    "cat_features = ['model', 'transmission', 'fuelType']\n",
    "\n",
    "y = ['price']"
   ]
  },
  {
   "cell_type": "code",
   "execution_count": 112,
   "id": "9d0dd638-3ab8-42ba-981e-c16008569238",
   "metadata": {
    "id": "4Uyy9EBs3RNi"
   },
   "outputs": [],
   "source": [
    "parameters = {'cat_features': cat_features,\n",
    "              'eval_metric': 'MAPE',\n",
    "              'random_seed':42,\n",
    "              'verbose':100}"
   ]
  },
  {
   "cell_type": "code",
   "execution_count": 113,
   "id": "76c320b1-9145-430f-88fc-4b5d4bd9c1fe",
   "metadata": {
    "id": "RiGfFWfK3Nt_"
   },
   "outputs": [],
   "source": [
    "model = CatBoostRegressor(**parameters)"
   ]
  },
  {
   "cell_type": "code",
   "execution_count": 114,
   "id": "e12aaceb-75dd-4757-8a65-cebcfd2c2bb7",
   "metadata": {
    "colab": {
     "base_uri": "https://localhost:8080/"
    },
    "id": "pt8TfXk23kCM",
    "outputId": "5e4174d8-affa-46f7-9f31-2b0105daa80d"
   },
   "outputs": [
    {
     "name": "stdout",
     "output_type": "stream",
     "text": [
      "Learning rate set to 0.068263\n",
      "0:\tlearn: 0.4607438\ttest: 0.4563750\tbest: 0.4563750 (0)\ttotal: 4.47ms\tremaining: 4.47s\n",
      "100:\tlearn: 0.0904302\ttest: 0.0896388\tbest: 0.0896388 (100)\ttotal: 300ms\tremaining: 2.67s\n",
      "200:\tlearn: 0.0781784\ttest: 0.0803125\tbest: 0.0803125 (200)\ttotal: 557ms\tremaining: 2.21s\n",
      "300:\tlearn: 0.0729925\ttest: 0.0764506\tbest: 0.0764506 (300)\ttotal: 826ms\tremaining: 1.92s\n",
      "400:\tlearn: 0.0695552\ttest: 0.0744676\tbest: 0.0744553 (399)\ttotal: 1.11s\tremaining: 1.66s\n",
      "500:\tlearn: 0.0670683\ttest: 0.0732827\tbest: 0.0732827 (500)\ttotal: 1.41s\tremaining: 1.4s\n",
      "600:\tlearn: 0.0652835\ttest: 0.0726170\tbest: 0.0726128 (597)\ttotal: 1.71s\tremaining: 1.13s\n",
      "700:\tlearn: 0.0636320\ttest: 0.0720622\tbest: 0.0720500 (695)\ttotal: 2.06s\tremaining: 877ms\n",
      "800:\tlearn: 0.0623408\ttest: 0.0714586\tbest: 0.0714329 (794)\ttotal: 2.41s\tremaining: 598ms\n",
      "900:\tlearn: 0.0611487\ttest: 0.0711564\tbest: 0.0711321 (898)\ttotal: 2.72s\tremaining: 298ms\n",
      "999:\tlearn: 0.0601407\ttest: 0.0708439\tbest: 0.0708403 (998)\ttotal: 3.08s\tremaining: 0us\n",
      "\n",
      "bestTest = 0.07084025495\n",
      "bestIteration = 998\n",
      "\n",
      "Shrink model to first 999 iterations.\n"
     ]
    },
    {
     "data": {
      "text/plain": [
       "<catboost.core.CatBoostRegressor at 0x7f5afcb9bbe0>"
      ]
     },
     "execution_count": 114,
     "metadata": {},
     "output_type": "execute_result"
    }
   ],
   "source": [
    "model.fit(train[X],train[y],eval_set=(val[X],val[y]))"
   ]
  },
  {
   "cell_type": "markdown",
   "id": "727715be-d73e-4b7e-becc-5df3bd845031",
   "metadata": {},
   "source": [
    "## Checking model"
   ]
  },
  {
   "cell_type": "code",
   "execution_count": 115,
   "id": "837b6f72-abad-4588-b9d5-fc08063b7296",
   "metadata": {},
   "outputs": [],
   "source": [
    "test['price_pred_all'] = model.predict(test[X])"
   ]
  },
  {
   "cell_type": "code",
   "execution_count": 116,
   "id": "ffd0027c-1fff-4f40-a4de-030e6a5e1e4b",
   "metadata": {},
   "outputs": [
    {
     "name": "stdout",
     "output_type": "stream",
     "text": [
      "1556.5378327680894\n",
      "0.07367840910148211\n"
     ]
    }
   ],
   "source": [
    "error(test['price'],test['price_pred_all'])"
   ]
  },
  {
   "cell_type": "markdown",
   "id": "02014fa5-9de3-4680-a49f-260896786440",
   "metadata": {},
   "source": [
    "# Number of iterations and learning rate"
   ]
  },
  {
   "cell_type": "markdown",
   "id": "0934cfde-037a-466a-afda-9fbbf68cc3cd",
   "metadata": {},
   "source": [
    "## Reducing the learning rate"
   ]
  },
  {
   "cell_type": "code",
   "execution_count": 124,
   "id": "4dbd03f7-d31b-422a-bbe1-61be80db448b",
   "metadata": {},
   "outputs": [],
   "source": [
    "X = ['model', 'year', 'transmission', 'mileage', 'fuelType', 'tax',\n",
    "       'mpg', 'engineSize']\n",
    "\n",
    "cat_features = ['model', 'transmission', 'fuelType']\n",
    "\n",
    "y = ['price']"
   ]
  },
  {
   "cell_type": "code",
   "execution_count": 125,
   "id": "173d6608-ab48-4c00-a91a-09406984b414",
   "metadata": {},
   "outputs": [],
   "source": [
    "model = CatBoostRegressor(cat_features=cat_features,\n",
    "                          learning_rate = 0.03,\n",
    "                          eval_metric='MAPE',\n",
    "                          random_seed=42,\n",
    "                          verbose=100)"
   ]
  },
  {
   "cell_type": "code",
   "execution_count": 126,
   "id": "68aed4d4-4c34-4cce-a1d4-9cf18fc3ac5b",
   "metadata": {},
   "outputs": [
    {
     "name": "stdout",
     "output_type": "stream",
     "text": [
      "0:\tlearn: 0.4748747\ttest: 0.4703283\tbest: 0.4703283 (0)\ttotal: 6.04ms\tremaining: 6.04s\n",
      "100:\tlearn: 0.1209943\ttest: 0.1173861\tbest: 0.1173861 (100)\ttotal: 319ms\tremaining: 2.84s\n",
      "200:\tlearn: 0.0917193\ttest: 0.0895708\tbest: 0.0895708 (200)\ttotal: 601ms\tremaining: 2.39s\n",
      "300:\tlearn: 0.0831827\ttest: 0.0819571\tbest: 0.0819571 (300)\ttotal: 883ms\tremaining: 2.05s\n",
      "400:\tlearn: 0.0787966\ttest: 0.0787471\tbest: 0.0787471 (400)\ttotal: 1.21s\tremaining: 1.81s\n",
      "500:\tlearn: 0.0756785\ttest: 0.0766496\tbest: 0.0766496 (500)\ttotal: 1.55s\tremaining: 1.54s\n",
      "600:\tlearn: 0.0734238\ttest: 0.0751882\tbest: 0.0751882 (600)\ttotal: 1.86s\tremaining: 1.23s\n",
      "700:\tlearn: 0.0716668\ttest: 0.0740858\tbest: 0.0740858 (700)\ttotal: 2.13s\tremaining: 911ms\n",
      "800:\tlearn: 0.0702486\ttest: 0.0731632\tbest: 0.0731632 (800)\ttotal: 2.44s\tremaining: 607ms\n",
      "900:\tlearn: 0.0687932\ttest: 0.0723839\tbest: 0.0723839 (900)\ttotal: 2.8s\tremaining: 307ms\n",
      "999:\tlearn: 0.0676111\ttest: 0.0718199\tbest: 0.0718198 (997)\ttotal: 3.14s\tremaining: 0us\n",
      "\n",
      "bestTest = 0.07181984662\n",
      "bestIteration = 997\n",
      "\n",
      "Shrink model to first 998 iterations.\n"
     ]
    },
    {
     "data": {
      "text/plain": [
       "<catboost.core.CatBoostRegressor at 0x7f5afcb45180>"
      ]
     },
     "execution_count": 126,
     "metadata": {},
     "output_type": "execute_result"
    }
   ],
   "source": [
    "model.fit(train[X],train[y],eval_set=(val[X],val[y]))"
   ]
  },
  {
   "cell_type": "markdown",
   "id": "c693e5d1-959d-420d-aae6-502ee2390ff3",
   "metadata": {},
   "source": [
    "## Increasing the learning rate"
   ]
  },
  {
   "cell_type": "code",
   "execution_count": 127,
   "id": "da18ff3d-0793-4306-9a05-34eb23231984",
   "metadata": {
    "tags": []
   },
   "outputs": [],
   "source": [
    "X = ['model', 'year', 'transmission', 'mileage', 'fuelType', 'tax',\n",
    "       'mpg', 'engineSize']\n",
    "\n",
    "cat_features = ['model', 'transmission', 'fuelType']\n",
    "\n",
    "y = ['price']"
   ]
  },
  {
   "cell_type": "code",
   "execution_count": 129,
   "id": "dc61f668-8386-46e0-917f-ecbf2d4a0cfd",
   "metadata": {},
   "outputs": [],
   "source": [
    "parameters = {'cat_features': cat_features,\n",
    "              'eval_metric': 'MAPE',\n",
    "              'learning_rate': 0.08,\n",
    "              'random_seed':42,\n",
    "              'verbose':100}"
   ]
  },
  {
   "cell_type": "code",
   "execution_count": 130,
   "id": "c179e0da-f481-4a0a-a265-4a9242a7648e",
   "metadata": {},
   "outputs": [],
   "source": [
    "model = CatBoostRegressor(**parameters)"
   ]
  },
  {
   "cell_type": "code",
   "execution_count": 131,
   "id": "e5e42f52-1d82-401b-b9e6-5258ec47b481",
   "metadata": {},
   "outputs": [
    {
     "name": "stdout",
     "output_type": "stream",
     "text": [
      "0:\tlearn: 0.4564416\ttest: 0.4521294\tbest: 0.4521294 (0)\ttotal: 7.03ms\tremaining: 7.03s\n",
      "100:\tlearn: 0.0875290\ttest: 0.0867329\tbest: 0.0867329 (100)\ttotal: 353ms\tremaining: 3.15s\n",
      "200:\tlearn: 0.0760834\ttest: 0.0779235\tbest: 0.0779235 (200)\ttotal: 645ms\tremaining: 2.56s\n",
      "300:\tlearn: 0.0708670\ttest: 0.0740290\tbest: 0.0740290 (300)\ttotal: 929ms\tremaining: 2.16s\n",
      "400:\tlearn: 0.0676240\ttest: 0.0718814\tbest: 0.0718814 (400)\ttotal: 1.24s\tremaining: 1.85s\n",
      "500:\tlearn: 0.0654070\ttest: 0.0709221\tbest: 0.0708594 (496)\ttotal: 1.52s\tremaining: 1.51s\n",
      "600:\tlearn: 0.0638577\ttest: 0.0704606\tbest: 0.0704490 (599)\ttotal: 1.81s\tremaining: 1.2s\n",
      "700:\tlearn: 0.0622969\ttest: 0.0698226\tbest: 0.0698226 (700)\ttotal: 2.1s\tremaining: 896ms\n",
      "800:\tlearn: 0.0609583\ttest: 0.0694169\tbest: 0.0694004 (791)\ttotal: 2.42s\tremaining: 600ms\n",
      "900:\tlearn: 0.0596089\ttest: 0.0689968\tbest: 0.0689945 (895)\ttotal: 2.73s\tremaining: 300ms\n",
      "999:\tlearn: 0.0584626\ttest: 0.0686829\tbest: 0.0686377 (993)\ttotal: 3.11s\tremaining: 0us\n",
      "\n",
      "bestTest = 0.06863774536\n",
      "bestIteration = 993\n",
      "\n",
      "Shrink model to first 994 iterations.\n"
     ]
    },
    {
     "data": {
      "text/plain": [
       "<catboost.core.CatBoostRegressor at 0x7f5afcb45c30>"
      ]
     },
     "execution_count": 131,
     "metadata": {},
     "output_type": "execute_result"
    }
   ],
   "source": [
    "model.fit(train[X],train[y],\n",
    "          eval_set=(val[X],val[y]))"
   ]
  },
  {
   "cell_type": "markdown",
   "id": "24689c5a-9c2b-454d-aebe-a91704defba0",
   "metadata": {},
   "source": [
    "# Learn on all data"
   ]
  },
  {
   "cell_type": "code",
   "execution_count": 132,
   "id": "9f84d1f6-e65e-41fd-98fd-7562474663c3",
   "metadata": {},
   "outputs": [
    {
     "data": {
      "text/plain": [
       "6468"
      ]
     },
     "execution_count": 132,
     "metadata": {},
     "output_type": "execute_result"
    }
   ],
   "source": [
    "len(train)"
   ]
  },
  {
   "cell_type": "code",
   "execution_count": 133,
   "id": "82be7b3b-02a2-4c6a-8dcc-853bf95973ff",
   "metadata": {},
   "outputs": [
    {
     "data": {
      "text/plain": [
       "2156"
      ]
     },
     "execution_count": 133,
     "metadata": {},
     "output_type": "execute_result"
    }
   ],
   "source": [
    "len(val)"
   ]
  },
  {
   "cell_type": "code",
   "execution_count": 134,
   "id": "ed691028-c32a-43b7-a068-d322e35c8852",
   "metadata": {},
   "outputs": [
    {
     "data": {
      "text/plain": [
       "8624"
      ]
     },
     "execution_count": 134,
     "metadata": {},
     "output_type": "execute_result"
    }
   ],
   "source": [
    "len(train) + len(val)"
   ]
  },
  {
   "cell_type": "code",
   "execution_count": 135,
   "id": "25099fba-7d5e-45e4-a2dd-7bfa839b2450",
   "metadata": {},
   "outputs": [],
   "source": [
    "train_full = pd.concat([train,val])"
   ]
  },
  {
   "cell_type": "code",
   "execution_count": 136,
   "id": "3bcf99cd-e1ff-40ce-964f-3555671ce0d4",
   "metadata": {},
   "outputs": [],
   "source": [
    "X = ['model', 'year', 'transmission', 'mileage', 'fuelType', 'tax',\n",
    "       'mpg', 'engineSize']\n",
    "\n",
    "cat_features = ['model', 'transmission', 'fuelType']\n",
    "\n",
    "y = ['price']"
   ]
  },
  {
   "cell_type": "code",
   "execution_count": 137,
   "id": "facbd22f-d825-412c-b662-29f6fa0294e4",
   "metadata": {},
   "outputs": [],
   "source": [
    "parameters = {\n",
    "    'cat_features': cat_features,\n",
    "    'eval_metric': 'MAPE',\n",
    "    'learning_rate': 0.08,\n",
    "    'random_seed':42,\n",
    "    'verbose':100\n",
    "}"
   ]
  },
  {
   "cell_type": "code",
   "execution_count": 138,
   "id": "e7442caa-73a9-444f-a2f8-a914e82631a8",
   "metadata": {},
   "outputs": [],
   "source": [
    "model = CatBoostRegressor(**parameters)"
   ]
  },
  {
   "cell_type": "code",
   "execution_count": 139,
   "id": "8472b122-ec3f-4fe0-b463-f57f6d9398f0",
   "metadata": {},
   "outputs": [
    {
     "name": "stdout",
     "output_type": "stream",
     "text": [
      "0:\tlearn: 0.4564416\ttest: 0.4521294\tbest: 0.4521294 (0)\ttotal: 4.31ms\tremaining: 4.3s\n",
      "100:\tlearn: 0.0875290\ttest: 0.0867329\tbest: 0.0867329 (100)\ttotal: 339ms\tremaining: 3.02s\n",
      "200:\tlearn: 0.0760834\ttest: 0.0779235\tbest: 0.0779235 (200)\ttotal: 656ms\tremaining: 2.61s\n",
      "300:\tlearn: 0.0708670\ttest: 0.0740290\tbest: 0.0740290 (300)\ttotal: 998ms\tremaining: 2.32s\n",
      "400:\tlearn: 0.0676240\ttest: 0.0718814\tbest: 0.0718814 (400)\ttotal: 1.35s\tremaining: 2.02s\n",
      "500:\tlearn: 0.0654070\ttest: 0.0709221\tbest: 0.0708594 (496)\ttotal: 1.66s\tremaining: 1.65s\n",
      "600:\tlearn: 0.0638577\ttest: 0.0704606\tbest: 0.0704490 (599)\ttotal: 1.93s\tremaining: 1.28s\n",
      "700:\tlearn: 0.0622969\ttest: 0.0698226\tbest: 0.0698226 (700)\ttotal: 2.22s\tremaining: 947ms\n",
      "800:\tlearn: 0.0609583\ttest: 0.0694169\tbest: 0.0694004 (791)\ttotal: 2.52s\tremaining: 627ms\n",
      "900:\tlearn: 0.0596089\ttest: 0.0689968\tbest: 0.0689945 (895)\ttotal: 2.83s\tremaining: 311ms\n",
      "999:\tlearn: 0.0584626\ttest: 0.0686829\tbest: 0.0686377 (993)\ttotal: 3.12s\tremaining: 0us\n",
      "\n",
      "bestTest = 0.06863774536\n",
      "bestIteration = 993\n",
      "\n",
      "Shrink model to first 994 iterations.\n"
     ]
    },
    {
     "data": {
      "text/plain": [
       "<catboost.core.CatBoostRegressor at 0x7f5afcbae1a0>"
      ]
     },
     "execution_count": 139,
     "metadata": {},
     "output_type": "execute_result"
    }
   ],
   "source": [
    "model.fit(train[X],train[y],eval_set=(val[X],val[y]))"
   ]
  },
  {
   "cell_type": "code",
   "execution_count": 143,
   "id": "3aa8b2f9-becb-4a70-9aa5-3233bf3e9313",
   "metadata": {},
   "outputs": [],
   "source": [
    "model.best_iteration_"
   ]
  },
  {
   "cell_type": "code",
   "execution_count": 144,
   "id": "5aa7c03b-278c-4251-9a71-6c2b43fa3dc3",
   "metadata": {},
   "outputs": [
    {
     "data": {
      "text/plain": [
       "{'cat_features': ['model', 'transmission', 'fuelType'],\n",
       " 'eval_metric': 'MAPE',\n",
       " 'learning_rate': 0.08,\n",
       " 'random_seed': 42,\n",
       " 'verbose': 100}"
      ]
     },
     "execution_count": 144,
     "metadata": {},
     "output_type": "execute_result"
    }
   ],
   "source": [
    "parameters"
   ]
  },
  {
   "cell_type": "code",
   "execution_count": 145,
   "id": "442836b6-68db-489c-9fcf-ecbaa6a02401",
   "metadata": {},
   "outputs": [],
   "source": [
    "model = CatBoostRegressor(**parameters)"
   ]
  },
  {
   "cell_type": "code",
   "execution_count": 146,
   "id": "87dc1fed-861a-44eb-a1d2-6fc0aea0a6c0",
   "metadata": {},
   "outputs": [
    {
     "name": "stdout",
     "output_type": "stream",
     "text": [
      "0:\tlearn: 0.4538016\ttotal: 5.16ms\tremaining: 5.16s\n",
      "100:\tlearn: 0.0854178\ttotal: 322ms\tremaining: 2.86s\n",
      "200:\tlearn: 0.0745022\ttotal: 630ms\tremaining: 2.5s\n",
      "300:\tlearn: 0.0701717\ttotal: 939ms\tremaining: 2.18s\n",
      "400:\tlearn: 0.0676577\ttotal: 1.24s\tremaining: 1.85s\n",
      "500:\tlearn: 0.0656926\ttotal: 1.53s\tremaining: 1.52s\n",
      "600:\tlearn: 0.0638104\ttotal: 1.87s\tremaining: 1.24s\n",
      "700:\tlearn: 0.0624302\ttotal: 2.22s\tremaining: 947ms\n",
      "800:\tlearn: 0.0612275\ttotal: 2.57s\tremaining: 640ms\n",
      "900:\tlearn: 0.0599823\ttotal: 2.9s\tremaining: 319ms\n",
      "999:\tlearn: 0.0589827\ttotal: 3.31s\tremaining: 0us\n"
     ]
    },
    {
     "data": {
      "text/plain": [
       "<catboost.core.CatBoostRegressor at 0x7f5afcbaf970>"
      ]
     },
     "execution_count": 146,
     "metadata": {},
     "output_type": "execute_result"
    }
   ],
   "source": [
    "model.fit(train_full[X],train_full[y])"
   ]
  },
  {
   "cell_type": "code",
   "execution_count": 147,
   "id": "03dbe121-d19a-4d59-95a7-ebba9d1353dc",
   "metadata": {},
   "outputs": [],
   "source": [
    "test['price_pred_all_features_and_data'] = model.predict(test[X])"
   ]
  },
  {
   "cell_type": "code",
   "execution_count": 148,
   "id": "903a7bec-ca6b-46be-acdf-563756a1545d",
   "metadata": {},
   "outputs": [
    {
     "name": "stdout",
     "output_type": "stream",
     "text": [
      "1556.5378327680894\n",
      "0.07367840910148211\n"
     ]
    }
   ],
   "source": [
    "error(test['price'],test['price_pred_all'])"
   ]
  },
  {
   "cell_type": "markdown",
   "id": "1c232919-08d8-472d-90bf-469f04faf865",
   "metadata": {},
   "source": [
    "# Changing the optimization function"
   ]
  },
  {
   "cell_type": "code",
   "execution_count": 149,
   "id": "1eb6bec5-de89-41ef-81af-9e73d72357f6",
   "metadata": {},
   "outputs": [],
   "source": [
    "X = ['model', 'year', 'transmission', 'mileage', 'fuelType', 'tax',\n",
    "       'mpg', 'engineSize']\n",
    "\n",
    "cat_features = ['model', 'transmission', 'fuelType']\n",
    "\n",
    "y = ['price']"
   ]
  },
  {
   "cell_type": "code",
   "execution_count": 150,
   "id": "dbe34ab6-bc33-4e33-8dd6-456bb65b097c",
   "metadata": {},
   "outputs": [],
   "source": [
    "parameters = {'cat_features': cat_features,\n",
    "              'loss_function': 'MAE',\n",
    "              'eval_metric': 'MAPE',\n",
    "              'learning_rate': 0.1,\n",
    "              'random_seed':42,\n",
    "              'verbose':100}"
   ]
  },
  {
   "cell_type": "code",
   "execution_count": 151,
   "id": "91807920-5f21-4e30-ae2d-fca0439e1e75",
   "metadata": {},
   "outputs": [],
   "source": [
    "model = CatBoostRegressor(**parameters)"
   ]
  },
  {
   "cell_type": "code",
   "execution_count": 152,
   "id": "320cafa6-d734-493f-b242-5e5aec1e32c0",
   "metadata": {},
   "outputs": [
    {
     "name": "stdout",
     "output_type": "stream",
     "text": [
      "0:\tlearn: 0.3849345\ttest: 0.3793341\tbest: 0.3793341 (0)\ttotal: 5.2ms\tremaining: 5.19s\n",
      "100:\tlearn: 0.0764009\ttest: 0.0774578\tbest: 0.0774578 (100)\ttotal: 384ms\tremaining: 3.42s\n",
      "200:\tlearn: 0.0666216\ttest: 0.0706498\tbest: 0.0706498 (200)\ttotal: 732ms\tremaining: 2.91s\n",
      "300:\tlearn: 0.0628577\ttest: 0.0695086\tbest: 0.0694924 (298)\ttotal: 1.08s\tremaining: 2.51s\n",
      "400:\tlearn: 0.0605748\ttest: 0.0687890\tbest: 0.0687826 (399)\ttotal: 1.48s\tremaining: 2.21s\n",
      "500:\tlearn: 0.0589764\ttest: 0.0683467\tbest: 0.0683222 (490)\ttotal: 1.81s\tremaining: 1.8s\n",
      "600:\tlearn: 0.0579201\ttest: 0.0680567\tbest: 0.0680567 (600)\ttotal: 2.15s\tremaining: 1.43s\n",
      "700:\tlearn: 0.0570454\ttest: 0.0678671\tbest: 0.0678659 (681)\ttotal: 2.53s\tremaining: 1.08s\n",
      "800:\tlearn: 0.0563072\ttest: 0.0676018\tbest: 0.0676018 (800)\ttotal: 2.86s\tremaining: 710ms\n",
      "900:\tlearn: 0.0555798\ttest: 0.0674500\tbest: 0.0674384 (889)\ttotal: 3.18s\tremaining: 350ms\n",
      "999:\tlearn: 0.0548863\ttest: 0.0673326\tbest: 0.0672972 (972)\ttotal: 3.5s\tremaining: 0us\n",
      "\n",
      "bestTest = 0.0672972276\n",
      "bestIteration = 972\n",
      "\n",
      "Shrink model to first 973 iterations.\n"
     ]
    },
    {
     "data": {
      "text/plain": [
       "<catboost.core.CatBoostRegressor at 0x7f5afcbae170>"
      ]
     },
     "execution_count": 152,
     "metadata": {},
     "output_type": "execute_result"
    }
   ],
   "source": [
    "model.fit(train[X],train[y],eval_set=(val[X],val[y]))"
   ]
  },
  {
   "cell_type": "code",
   "execution_count": null,
   "id": "1e0e2385-191b-40c3-ad18-5ba912b0d6bb",
   "metadata": {},
   "outputs": [],
   "source": []
  }
 ],
 "metadata": {
  "kernelspec": {
   "display_name": "Python 3 (ipykernel)",
   "language": "python",
   "name": "python3"
  },
  "language_info": {
   "codemirror_mode": {
    "name": "ipython",
    "version": 3
   },
   "file_extension": ".py",
   "mimetype": "text/x-python",
   "name": "python",
   "nbconvert_exporter": "python",
   "pygments_lexer": "ipython3",
   "version": "3.10.9"
  }
 },
 "nbformat": 4,
 "nbformat_minor": 5
}
