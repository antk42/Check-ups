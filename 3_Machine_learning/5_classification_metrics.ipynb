{
 "cells": [
  {
   "cell_type": "code",
   "execution_count": 1,
   "id": "8ea24a90-45e3-4221-baed-2ce0c1a85b91",
   "metadata": {},
   "outputs": [],
   "source": [
    "import pandas as pd\n",
    "import numpy as np"
   ]
  },
  {
   "cell_type": "code",
   "execution_count": 2,
   "id": "e1a5d27a-46f8-442f-8ce1-6e1325781290",
   "metadata": {},
   "outputs": [],
   "source": [
    "df = pd.read_csv('/home/antonius/Projects/DS_Projects/Check-ups/3_Machine_learning/data//churn-modeling.zip')"
   ]
  },
  {
   "cell_type": "code",
   "execution_count": 3,
   "id": "378166d3-df70-4833-a4d6-28988deaa2ef",
   "metadata": {},
   "outputs": [
    {
     "data": {
      "text/html": [
       "<div>\n",
       "<style scoped>\n",
       "    .dataframe tbody tr th:only-of-type {\n",
       "        vertical-align: middle;\n",
       "    }\n",
       "\n",
       "    .dataframe tbody tr th {\n",
       "        vertical-align: top;\n",
       "    }\n",
       "\n",
       "    .dataframe thead th {\n",
       "        text-align: right;\n",
       "    }\n",
       "</style>\n",
       "<table border=\"1\" class=\"dataframe\">\n",
       "  <thead>\n",
       "    <tr style=\"text-align: right;\">\n",
       "      <th></th>\n",
       "      <th>RowNumber</th>\n",
       "      <th>CustomerId</th>\n",
       "      <th>Surname</th>\n",
       "      <th>CreditScore</th>\n",
       "      <th>Geography</th>\n",
       "      <th>Gender</th>\n",
       "      <th>Age</th>\n",
       "      <th>Tenure</th>\n",
       "      <th>Balance</th>\n",
       "      <th>NumOfProducts</th>\n",
       "      <th>HasCrCard</th>\n",
       "      <th>IsActiveMember</th>\n",
       "      <th>EstimatedSalary</th>\n",
       "      <th>Exited</th>\n",
       "    </tr>\n",
       "  </thead>\n",
       "  <tbody>\n",
       "    <tr>\n",
       "      <th>0</th>\n",
       "      <td>1</td>\n",
       "      <td>15634602</td>\n",
       "      <td>Hargrave</td>\n",
       "      <td>619</td>\n",
       "      <td>France</td>\n",
       "      <td>Female</td>\n",
       "      <td>42</td>\n",
       "      <td>2</td>\n",
       "      <td>0.00</td>\n",
       "      <td>1</td>\n",
       "      <td>1</td>\n",
       "      <td>1</td>\n",
       "      <td>101348.88</td>\n",
       "      <td>1</td>\n",
       "    </tr>\n",
       "    <tr>\n",
       "      <th>1</th>\n",
       "      <td>2</td>\n",
       "      <td>15647311</td>\n",
       "      <td>Hill</td>\n",
       "      <td>608</td>\n",
       "      <td>Spain</td>\n",
       "      <td>Female</td>\n",
       "      <td>41</td>\n",
       "      <td>1</td>\n",
       "      <td>83807.86</td>\n",
       "      <td>1</td>\n",
       "      <td>0</td>\n",
       "      <td>1</td>\n",
       "      <td>112542.58</td>\n",
       "      <td>0</td>\n",
       "    </tr>\n",
       "    <tr>\n",
       "      <th>2</th>\n",
       "      <td>3</td>\n",
       "      <td>15619304</td>\n",
       "      <td>Onio</td>\n",
       "      <td>502</td>\n",
       "      <td>France</td>\n",
       "      <td>Female</td>\n",
       "      <td>42</td>\n",
       "      <td>8</td>\n",
       "      <td>159660.80</td>\n",
       "      <td>3</td>\n",
       "      <td>1</td>\n",
       "      <td>0</td>\n",
       "      <td>113931.57</td>\n",
       "      <td>1</td>\n",
       "    </tr>\n",
       "  </tbody>\n",
       "</table>\n",
       "</div>"
      ],
      "text/plain": [
       "   RowNumber  CustomerId   Surname  CreditScore Geography  Gender  Age  \\\n",
       "0          1    15634602  Hargrave          619    France  Female   42   \n",
       "1          2    15647311      Hill          608     Spain  Female   41   \n",
       "2          3    15619304      Onio          502    France  Female   42   \n",
       "\n",
       "   Tenure    Balance  NumOfProducts  HasCrCard  IsActiveMember  \\\n",
       "0       2       0.00              1          1               1   \n",
       "1       1   83807.86              1          0               1   \n",
       "2       8  159660.80              3          1               0   \n",
       "\n",
       "   EstimatedSalary  Exited  \n",
       "0        101348.88       1  \n",
       "1        112542.58       0  \n",
       "2        113931.57       1  "
      ]
     },
     "execution_count": 3,
     "metadata": {},
     "output_type": "execute_result"
    }
   ],
   "source": [
    "df.head(3)"
   ]
  },
  {
   "cell_type": "markdown",
   "id": "9c96f5ec-bafa-44ff-b1f5-6bc9ffe470ad",
   "metadata": {},
   "source": [
    "# Обучающая, валидационная и тестовая выборка"
   ]
  },
  {
   "cell_type": "code",
   "execution_count": 4,
   "id": "c784575f-8f40-4ded-bf00-34d817fab76c",
   "metadata": {},
   "outputs": [],
   "source": [
    "from sklearn.model_selection import train_test_split"
   ]
  },
  {
   "cell_type": "code",
   "execution_count": 5,
   "id": "4d22f135-0194-4e9f-88f5-da8dc5ad3b0c",
   "metadata": {},
   "outputs": [],
   "source": [
    "train, test = train_test_split(df,train_size=0.6,\n",
    "                               random_state=42,\n",
    "                               stratify=df['Exited'])"
   ]
  },
  {
   "cell_type": "code",
   "execution_count": 8,
   "id": "0b24d6fa-c0eb-402a-a8ce-e3fb1e97e22a",
   "metadata": {},
   "outputs": [],
   "source": [
    "val, test = train_test_split(test,\n",
    "                             train_size=0.5,\n",
    "                             random_state=42,\n",
    "                             stratify=test['Exited'])"
   ]
  },
  {
   "cell_type": "code",
   "execution_count": 7,
   "id": "57f5bacc-5cb8-42d5-9785-c3c8f8049828",
   "metadata": {},
   "outputs": [],
   "source": [
    "train['age_group'] = pd.cut(train['Age'],[0,31,35,40,46,float('inf')])"
   ]
  },
  {
   "cell_type": "code",
   "execution_count": 9,
   "id": "54879511-f899-4b49-b1c9-c94266f690c6",
   "metadata": {},
   "outputs": [],
   "source": [
    "model = train.groupby(['NumOfProducts','age_group'])['Exited'].mean().reset_index()"
   ]
  },
  {
   "cell_type": "code",
   "execution_count": 10,
   "id": "fa07f2e7-f1c4-4718-85f9-3b8200b38fed",
   "metadata": {},
   "outputs": [],
   "source": [
    "model = model.rename({'Exited':'score_prod_age'},axis=1)"
   ]
  },
  {
   "cell_type": "code",
   "execution_count": 11,
   "id": "5624c5aa-ae9a-4c86-a323-380ca1a83abd",
   "metadata": {},
   "outputs": [],
   "source": [
    "train = train.merge(model,how='left',on=['NumOfProducts','age_group'])"
   ]
  },
  {
   "cell_type": "code",
   "execution_count": 12,
   "id": "8b5ac23a-d014-4509-8348-d8ad29127ed0",
   "metadata": {},
   "outputs": [],
   "source": [
    "test['age_group'] = pd.cut(test['Age'],[0,31,35,40,46,float('inf')])"
   ]
  },
  {
   "cell_type": "code",
   "execution_count": 13,
   "id": "cb8c54f1-3b30-4da5-9a36-9c48368132b8",
   "metadata": {},
   "outputs": [],
   "source": [
    "test = test.merge(model,how='left',on=['NumOfProducts','age_group'])"
   ]
  },
  {
   "cell_type": "code",
   "execution_count": 14,
   "id": "41d7f905-3d12-431c-9644-801cd70c625d",
   "metadata": {},
   "outputs": [
    {
     "data": {
      "text/html": [
       "<div>\n",
       "<style scoped>\n",
       "    .dataframe tbody tr th:only-of-type {\n",
       "        vertical-align: middle;\n",
       "    }\n",
       "\n",
       "    .dataframe tbody tr th {\n",
       "        vertical-align: top;\n",
       "    }\n",
       "\n",
       "    .dataframe thead th {\n",
       "        text-align: right;\n",
       "    }\n",
       "</style>\n",
       "<table border=\"1\" class=\"dataframe\">\n",
       "  <thead>\n",
       "    <tr style=\"text-align: right;\">\n",
       "      <th></th>\n",
       "      <th>RowNumber</th>\n",
       "      <th>CustomerId</th>\n",
       "      <th>Surname</th>\n",
       "      <th>CreditScore</th>\n",
       "      <th>Geography</th>\n",
       "      <th>Gender</th>\n",
       "      <th>Age</th>\n",
       "      <th>Tenure</th>\n",
       "      <th>Balance</th>\n",
       "      <th>NumOfProducts</th>\n",
       "      <th>HasCrCard</th>\n",
       "      <th>IsActiveMember</th>\n",
       "      <th>EstimatedSalary</th>\n",
       "      <th>Exited</th>\n",
       "      <th>age_group</th>\n",
       "      <th>score_prod_age</th>\n",
       "    </tr>\n",
       "  </thead>\n",
       "  <tbody>\n",
       "    <tr>\n",
       "      <th>0</th>\n",
       "      <td>1510</td>\n",
       "      <td>15638149</td>\n",
       "      <td>Rowley</td>\n",
       "      <td>528</td>\n",
       "      <td>France</td>\n",
       "      <td>Male</td>\n",
       "      <td>37</td>\n",
       "      <td>6</td>\n",
       "      <td>103772.45</td>\n",
       "      <td>1</td>\n",
       "      <td>1</td>\n",
       "      <td>0</td>\n",
       "      <td>197111.99</td>\n",
       "      <td>0</td>\n",
       "      <td>(35.0, 40.0]</td>\n",
       "      <td>0.209337</td>\n",
       "    </tr>\n",
       "    <tr>\n",
       "      <th>1</th>\n",
       "      <td>4868</td>\n",
       "      <td>15768124</td>\n",
       "      <td>Liu</td>\n",
       "      <td>648</td>\n",
       "      <td>France</td>\n",
       "      <td>Female</td>\n",
       "      <td>34</td>\n",
       "      <td>3</td>\n",
       "      <td>0.00</td>\n",
       "      <td>1</td>\n",
       "      <td>1</td>\n",
       "      <td>0</td>\n",
       "      <td>54726.43</td>\n",
       "      <td>0</td>\n",
       "      <td>(31.0, 35.0]</td>\n",
       "      <td>0.140449</td>\n",
       "    </tr>\n",
       "  </tbody>\n",
       "</table>\n",
       "</div>"
      ],
      "text/plain": [
       "   RowNumber  CustomerId Surname  CreditScore Geography  Gender  Age  Tenure  \\\n",
       "0       1510    15638149  Rowley          528    France    Male   37       6   \n",
       "1       4868    15768124     Liu          648    France  Female   34       3   \n",
       "\n",
       "     Balance  NumOfProducts  HasCrCard  IsActiveMember  EstimatedSalary  \\\n",
       "0  103772.45              1          1               0        197111.99   \n",
       "1       0.00              1          1               0         54726.43   \n",
       "\n",
       "   Exited     age_group  score_prod_age  \n",
       "0       0  (35.0, 40.0]        0.209337  \n",
       "1       0  (31.0, 35.0]        0.140449  "
      ]
     },
     "execution_count": 14,
     "metadata": {},
     "output_type": "execute_result"
    }
   ],
   "source": [
    "test.head(2)"
   ]
  },
  {
   "cell_type": "code",
   "execution_count": 15,
   "id": "c1e62634-03ab-4edf-a6b5-d7302202375a",
   "metadata": {},
   "outputs": [],
   "source": [
    "from catboost import CatBoostClassifier"
   ]
  },
  {
   "cell_type": "code",
   "execution_count": 16,
   "id": "29bba6ca-e6ce-4229-950d-e9fc507421bd",
   "metadata": {},
   "outputs": [],
   "source": [
    "X = ['CustomerId', 'CreditScore', 'Geography',\n",
    "       'Gender', 'Age', 'Tenure', 'Balance', 'NumOfProducts', 'HasCrCard',\n",
    "       'IsActiveMember', 'EstimatedSalary']\n",
    "\n",
    "cat_features = ['Geography','Gender']\n",
    "\n",
    "y = ['Exited']"
   ]
  },
  {
   "cell_type": "code",
   "execution_count": 17,
   "id": "0d748610-0462-4b6c-a9da-4a78187b7601",
   "metadata": {},
   "outputs": [],
   "source": [
    "from catboost import Pool\n",
    "\n",
    "train_data = Pool(data=train[X],\n",
    "                  label=train[y],\n",
    "                  cat_features=cat_features\n",
    "                 )\n",
    "\n",
    "valid_data = Pool(data=val[X],\n",
    "                  label=val[y],\n",
    "                  cat_features=cat_features\n",
    "                 )"
   ]
  },
  {
   "cell_type": "code",
   "execution_count": 18,
   "id": "7e442871-b59a-49ba-bca7-350ed31dbaba",
   "metadata": {},
   "outputs": [],
   "source": [
    "params = {'verbose':100,\n",
    "          'random_seed':42,\n",
    "          'learning_rate':0.01}"
   ]
  },
  {
   "cell_type": "code",
   "execution_count": 19,
   "id": "f251c7ca-9bde-4db1-9d94-5df8eb4eb83d",
   "metadata": {},
   "outputs": [],
   "source": [
    "model = CatBoostClassifier(**params)"
   ]
  },
  {
   "cell_type": "code",
   "execution_count": 20,
   "id": "c5c01819-c245-47a7-8fd0-d2d954028ce3",
   "metadata": {},
   "outputs": [
    {
     "name": "stdout",
     "output_type": "stream",
     "text": [
      "0:\tlearn: 0.6848575\ttest: 0.6849436\tbest: 0.6849436 (0)\ttotal: 62.8ms\tremaining: 1m 2s\n",
      "100:\tlearn: 0.3908412\ttest: 0.3960174\tbest: 0.3960174 (100)\ttotal: 570ms\tremaining: 5.07s\n",
      "200:\tlearn: 0.3457312\ttest: 0.3550825\tbest: 0.3550825 (200)\ttotal: 1s\tremaining: 3.98s\n",
      "300:\tlearn: 0.3288071\ttest: 0.3427737\tbest: 0.3427737 (300)\ttotal: 1.48s\tremaining: 3.43s\n",
      "400:\tlearn: 0.3192987\ttest: 0.3376845\tbest: 0.3376763 (399)\ttotal: 1.9s\tremaining: 2.83s\n",
      "500:\tlearn: 0.3120470\ttest: 0.3355660\tbest: 0.3355660 (500)\ttotal: 2.36s\tremaining: 2.35s\n",
      "600:\tlearn: 0.3054735\ttest: 0.3340160\tbest: 0.3340160 (600)\ttotal: 2.79s\tremaining: 1.85s\n",
      "700:\tlearn: 0.2997053\ttest: 0.3329229\tbest: 0.3329229 (700)\ttotal: 3.2s\tremaining: 1.37s\n",
      "800:\tlearn: 0.2946934\ttest: 0.3329302\tbest: 0.3326509 (735)\ttotal: 3.62s\tremaining: 899ms\n",
      "900:\tlearn: 0.2890177\ttest: 0.3323449\tbest: 0.3323449 (900)\ttotal: 4.05s\tremaining: 445ms\n",
      "999:\tlearn: 0.2831978\ttest: 0.3322903\tbest: 0.3321800 (964)\ttotal: 4.47s\tremaining: 0us\n",
      "\n",
      "bestTest = 0.332180041\n",
      "bestIteration = 964\n",
      "\n",
      "Shrink model to first 965 iterations.\n"
     ]
    },
    {
     "data": {
      "text/plain": [
       "<catboost.core.CatBoostClassifier at 0x7f7e44704ca0>"
      ]
     },
     "execution_count": 20,
     "metadata": {},
     "output_type": "execute_result"
    }
   ],
   "source": [
    "model.fit(train_data,eval_set=valid_data)"
   ]
  },
  {
   "cell_type": "code",
   "execution_count": 21,
   "id": "2d8d4260-ec7b-4f9b-8092-193545cef30e",
   "metadata": {},
   "outputs": [],
   "source": [
    "test['score_catboost'] = model.predict_proba(test[X])[:,1]"
   ]
  },
  {
   "cell_type": "markdown",
   "id": "3b33b27a-e0d8-45eb-8334-af0dc3451c96",
   "metadata": {},
   "source": [
    "# Скор и пороги"
   ]
  },
  {
   "cell_type": "code",
   "execution_count": 22,
   "id": "9afa99b4-1e5e-456d-8d46-0f7599eb8150",
   "metadata": {},
   "outputs": [
    {
     "data": {
      "text/html": [
       "<div>\n",
       "<style scoped>\n",
       "    .dataframe tbody tr th:only-of-type {\n",
       "        vertical-align: middle;\n",
       "    }\n",
       "\n",
       "    .dataframe tbody tr th {\n",
       "        vertical-align: top;\n",
       "    }\n",
       "\n",
       "    .dataframe thead th {\n",
       "        text-align: right;\n",
       "    }\n",
       "</style>\n",
       "<table border=\"1\" class=\"dataframe\">\n",
       "  <thead>\n",
       "    <tr style=\"text-align: right;\">\n",
       "      <th></th>\n",
       "      <th>RowNumber</th>\n",
       "      <th>CustomerId</th>\n",
       "      <th>Surname</th>\n",
       "      <th>CreditScore</th>\n",
       "      <th>Geography</th>\n",
       "      <th>Gender</th>\n",
       "      <th>Age</th>\n",
       "      <th>Tenure</th>\n",
       "      <th>Balance</th>\n",
       "      <th>NumOfProducts</th>\n",
       "      <th>HasCrCard</th>\n",
       "      <th>IsActiveMember</th>\n",
       "      <th>EstimatedSalary</th>\n",
       "      <th>Exited</th>\n",
       "      <th>age_group</th>\n",
       "      <th>score_prod_age</th>\n",
       "      <th>score_catboost</th>\n",
       "    </tr>\n",
       "  </thead>\n",
       "  <tbody>\n",
       "    <tr>\n",
       "      <th>0</th>\n",
       "      <td>1510</td>\n",
       "      <td>15638149</td>\n",
       "      <td>Rowley</td>\n",
       "      <td>528</td>\n",
       "      <td>France</td>\n",
       "      <td>Male</td>\n",
       "      <td>37</td>\n",
       "      <td>6</td>\n",
       "      <td>103772.45</td>\n",
       "      <td>1</td>\n",
       "      <td>1</td>\n",
       "      <td>0</td>\n",
       "      <td>197111.99</td>\n",
       "      <td>0</td>\n",
       "      <td>(35.0, 40.0]</td>\n",
       "      <td>0.209337</td>\n",
       "      <td>0.119504</td>\n",
       "    </tr>\n",
       "    <tr>\n",
       "      <th>1</th>\n",
       "      <td>4868</td>\n",
       "      <td>15768124</td>\n",
       "      <td>Liu</td>\n",
       "      <td>648</td>\n",
       "      <td>France</td>\n",
       "      <td>Female</td>\n",
       "      <td>34</td>\n",
       "      <td>3</td>\n",
       "      <td>0.00</td>\n",
       "      <td>1</td>\n",
       "      <td>1</td>\n",
       "      <td>0</td>\n",
       "      <td>54726.43</td>\n",
       "      <td>0</td>\n",
       "      <td>(31.0, 35.0]</td>\n",
       "      <td>0.140449</td>\n",
       "      <td>0.236840</td>\n",
       "    </tr>\n",
       "  </tbody>\n",
       "</table>\n",
       "</div>"
      ],
      "text/plain": [
       "   RowNumber  CustomerId Surname  CreditScore Geography  Gender  Age  Tenure  \\\n",
       "0       1510    15638149  Rowley          528    France    Male   37       6   \n",
       "1       4868    15768124     Liu          648    France  Female   34       3   \n",
       "\n",
       "     Balance  NumOfProducts  HasCrCard  IsActiveMember  EstimatedSalary  \\\n",
       "0  103772.45              1          1               0        197111.99   \n",
       "1       0.00              1          1               0         54726.43   \n",
       "\n",
       "   Exited     age_group  score_prod_age  score_catboost  \n",
       "0       0  (35.0, 40.0]        0.209337        0.119504  \n",
       "1       0  (31.0, 35.0]        0.140449        0.236840  "
      ]
     },
     "execution_count": 22,
     "metadata": {},
     "output_type": "execute_result"
    }
   ],
   "source": [
    "test.head(2)"
   ]
  },
  {
   "cell_type": "code",
   "execution_count": 23,
   "id": "476a85b7-fbe3-4a40-b0d1-d3434dc13b59",
   "metadata": {},
   "outputs": [],
   "source": [
    "import matplotlib.pyplot as plt\n",
    "plt.style.use('dark_background')"
   ]
  },
  {
   "cell_type": "code",
   "execution_count": 24,
   "id": "11664e2c-eb86-42ec-b72f-d3200436c8b2",
   "metadata": {},
   "outputs": [
    {
     "data": {
      "text/plain": [
       "<AxesSubplot: >"
      ]
     },
     "execution_count": 24,
     "metadata": {},
     "output_type": "execute_result"
    },
    {
     "data": {
      "image/png": "[encoded data removed]",
      "text/plain": [
       "<Figure size 640x480 with 1 Axes>"
      ]
     },
     "metadata": {},
     "output_type": "display_data"
    }
   ],
   "source": [
    "test['score_catboost'].hist()"
   ]
  },
  {
   "cell_type": "code",
   "execution_count": 25,
   "id": "aa15990b-1499-4ec0-9802-36cfc5823398",
   "metadata": {},
   "outputs": [
    {
     "data": {
      "text/plain": [
       "0.20366666666666666"
      ]
     },
     "execution_count": 25,
     "metadata": {},
     "output_type": "execute_result"
    }
   ],
   "source": [
    "train['Exited'].mean()"
   ]
  },
  {
   "cell_type": "code",
   "execution_count": 26,
   "id": "f540468b-f9bb-4086-a043-1a592ace61a2",
   "metadata": {},
   "outputs": [],
   "source": [
    "test['y_pred'] = (test['score_catboost'] > 0.5) * 1"
   ]
  },
  {
   "cell_type": "code",
   "execution_count": 27,
   "id": "83617264-4cfb-4698-b366-1686f9498ec9",
   "metadata": {},
   "outputs": [
    {
     "data": {
      "text/html": [
       "<div>\n",
       "<style scoped>\n",
       "    .dataframe tbody tr th:only-of-type {\n",
       "        vertical-align: middle;\n",
       "    }\n",
       "\n",
       "    .dataframe tbody tr th {\n",
       "        vertical-align: top;\n",
       "    }\n",
       "\n",
       "    .dataframe thead th {\n",
       "        text-align: right;\n",
       "    }\n",
       "</style>\n",
       "<table border=\"1\" class=\"dataframe\">\n",
       "  <thead>\n",
       "    <tr style=\"text-align: right;\">\n",
       "      <th></th>\n",
       "      <th>RowNumber</th>\n",
       "      <th>CustomerId</th>\n",
       "      <th>Surname</th>\n",
       "      <th>CreditScore</th>\n",
       "      <th>Geography</th>\n",
       "      <th>Gender</th>\n",
       "      <th>Age</th>\n",
       "      <th>Tenure</th>\n",
       "      <th>Balance</th>\n",
       "      <th>NumOfProducts</th>\n",
       "      <th>HasCrCard</th>\n",
       "      <th>IsActiveMember</th>\n",
       "      <th>EstimatedSalary</th>\n",
       "      <th>Exited</th>\n",
       "      <th>age_group</th>\n",
       "      <th>score_prod_age</th>\n",
       "      <th>score_catboost</th>\n",
       "      <th>y_pred</th>\n",
       "    </tr>\n",
       "  </thead>\n",
       "  <tbody>\n",
       "    <tr>\n",
       "      <th>0</th>\n",
       "      <td>1510</td>\n",
       "      <td>15638149</td>\n",
       "      <td>Rowley</td>\n",
       "      <td>528</td>\n",
       "      <td>France</td>\n",
       "      <td>Male</td>\n",
       "      <td>37</td>\n",
       "      <td>6</td>\n",
       "      <td>103772.45</td>\n",
       "      <td>1</td>\n",
       "      <td>1</td>\n",
       "      <td>0</td>\n",
       "      <td>197111.99</td>\n",
       "      <td>0</td>\n",
       "      <td>(35.0, 40.0]</td>\n",
       "      <td>0.209337</td>\n",
       "      <td>0.119504</td>\n",
       "      <td>0</td>\n",
       "    </tr>\n",
       "    <tr>\n",
       "      <th>1</th>\n",
       "      <td>4868</td>\n",
       "      <td>15768124</td>\n",
       "      <td>Liu</td>\n",
       "      <td>648</td>\n",
       "      <td>France</td>\n",
       "      <td>Female</td>\n",
       "      <td>34</td>\n",
       "      <td>3</td>\n",
       "      <td>0.00</td>\n",
       "      <td>1</td>\n",
       "      <td>1</td>\n",
       "      <td>0</td>\n",
       "      <td>54726.43</td>\n",
       "      <td>0</td>\n",
       "      <td>(31.0, 35.0]</td>\n",
       "      <td>0.140449</td>\n",
       "      <td>0.236840</td>\n",
       "      <td>0</td>\n",
       "    </tr>\n",
       "  </tbody>\n",
       "</table>\n",
       "</div>"
      ],
      "text/plain": [
       "   RowNumber  CustomerId Surname  CreditScore Geography  Gender  Age  Tenure  \\\n",
       "0       1510    15638149  Rowley          528    France    Male   37       6   \n",
       "1       4868    15768124     Liu          648    France  Female   34       3   \n",
       "\n",
       "     Balance  NumOfProducts  HasCrCard  IsActiveMember  EstimatedSalary  \\\n",
       "0  103772.45              1          1               0        197111.99   \n",
       "1       0.00              1          1               0         54726.43   \n",
       "\n",
       "   Exited     age_group  score_prod_age  score_catboost  y_pred  \n",
       "0       0  (35.0, 40.0]        0.209337        0.119504       0  \n",
       "1       0  (31.0, 35.0]        0.140449        0.236840       0  "
      ]
     },
     "execution_count": 27,
     "metadata": {},
     "output_type": "execute_result"
    }
   ],
   "source": [
    "test.head(2)"
   ]
  },
  {
   "cell_type": "code",
   "execution_count": 28,
   "id": "319eb832-2900-4d73-ba44-d011417253ad",
   "metadata": {},
   "outputs": [
    {
     "data": {
      "text/plain": [
       "0.125"
      ]
     },
     "execution_count": 28,
     "metadata": {},
     "output_type": "execute_result"
    }
   ],
   "source": [
    "test['y_pred'].mean()"
   ]
  },
  {
   "cell_type": "markdown",
   "id": "91894566-4f6d-43cd-8964-512963ab3ad2",
   "metadata": {},
   "source": [
    "# Матрица ошибок"
   ]
  },
  {
   "cell_type": "code",
   "execution_count": 30,
   "id": "bedfcac8-114c-4e3c-9f29-00bd7fbcf2f2",
   "metadata": {},
   "outputs": [],
   "source": [
    "from sklearn.metrics import confusion_matrix"
   ]
  },
  {
   "cell_type": "code",
   "execution_count": 31,
   "id": "9693604a-19ca-47fa-9944-29f6d7819b9c",
   "metadata": {},
   "outputs": [
    {
     "data": {
      "text/plain": [
       "array([[769,  28],\n",
       "       [106,  97]])"
      ]
     },
     "execution_count": 31,
     "metadata": {},
     "output_type": "execute_result"
    }
   ],
   "source": [
    "confusion_matrix(test['Exited'],test['y_pred'])"
   ]
  },
  {
   "cell_type": "code",
   "execution_count": 32,
   "id": "64d4e463-f1c1-4685-aa47-1ac4871e9714",
   "metadata": {},
   "outputs": [
    {
     "data": {
      "text/plain": [
       "array([[769,  28],\n",
       "       [106,  97]])"
      ]
     },
     "execution_count": 32,
     "metadata": {},
     "output_type": "execute_result"
    }
   ],
   "source": [
    "confusion_matrix(test['Exited'],test['y_pred'])"
   ]
  },
  {
   "cell_type": "code",
   "execution_count": 33,
   "id": "cda15d78-e8e4-41eb-a64b-1ff73e59c190",
   "metadata": {},
   "outputs": [],
   "source": [
    "tn, fp, fn, tp = confusion_matrix(test['Exited'],test['y_pred']).ravel()"
   ]
  },
  {
   "cell_type": "code",
   "execution_count": 34,
   "id": "c47f0d1f-9cdb-4fd4-9469-e3c14aa0dc99",
   "metadata": {},
   "outputs": [
    {
     "data": {
      "text/plain": [
       "(769, 28, 106, 97)"
      ]
     },
     "execution_count": 34,
     "metadata": {},
     "output_type": "execute_result"
    }
   ],
   "source": [
    "tn, fp, fn, tp"
   ]
  },
  {
   "cell_type": "markdown",
   "id": "6dc32483-f99d-4455-8846-9b6ad93fe7d5",
   "metadata": {},
   "source": [
    "# Recall (полнота)"
   ]
  },
  {
   "cell_type": "code",
   "execution_count": 35,
   "id": "d77eebb2-89cc-4d40-96b1-6db94dbde56f",
   "metadata": {},
   "outputs": [],
   "source": [
    "recall = tp / (tp + fn)"
   ]
  },
  {
   "cell_type": "code",
   "execution_count": 36,
   "id": "34e20279-4f07-4ab0-8fdc-6ad2da3cab23",
   "metadata": {},
   "outputs": [
    {
     "data": {
      "text/plain": [
       "0.47783251231527096"
      ]
     },
     "execution_count": 36,
     "metadata": {},
     "output_type": "execute_result"
    }
   ],
   "source": [
    "recall"
   ]
  },
  {
   "cell_type": "code",
   "execution_count": 37,
   "id": "179a916b-dd19-4a7c-b1d7-fb42b3db6491",
   "metadata": {},
   "outputs": [],
   "source": [
    "from sklearn.metrics import recall_score"
   ]
  },
  {
   "cell_type": "code",
   "execution_count": 38,
   "id": "24a5cb13-7aa8-4c11-801d-a643abb17a64",
   "metadata": {},
   "outputs": [
    {
     "data": {
      "text/plain": [
       "0.47783251231527096"
      ]
     },
     "execution_count": 38,
     "metadata": {},
     "output_type": "execute_result"
    }
   ],
   "source": [
    "recall_score(test['Exited'],test['y_pred'])"
   ]
  },
  {
   "cell_type": "code",
   "execution_count": 39,
   "id": "7c01e19e-1b19-46d8-9a54-22b4d2eb6f71",
   "metadata": {},
   "outputs": [],
   "source": [
    "test['y_pred_1'] = 1"
   ]
  },
  {
   "cell_type": "code",
   "execution_count": 40,
   "id": "113611f3-46f9-4ebc-a416-a0b51440e8f0",
   "metadata": {},
   "outputs": [
    {
     "data": {
      "text/plain": [
       "1.0"
      ]
     },
     "execution_count": 40,
     "metadata": {},
     "output_type": "execute_result"
    }
   ],
   "source": [
    "recall_score(test['Exited'],test['y_pred_1'])"
   ]
  },
  {
   "cell_type": "markdown",
   "id": "189d2314-952b-414c-949b-e5cd89fd2347",
   "metadata": {
    "id": "9YZV7NegX_fw",
    "tags": []
   },
   "source": [
    "# Precision (точность)"
   ]
  },
  {
   "cell_type": "code",
   "execution_count": 41,
   "id": "287e83d2-0d4e-4614-97a5-3fc563405c7a",
   "metadata": {
    "id": "dxnBNshWY1SG"
   },
   "outputs": [],
   "source": [
    "precision = tp / (tp + fp)"
   ]
  },
  {
   "cell_type": "code",
   "execution_count": 42,
   "id": "d03c5e0a-787e-4a14-8998-5f9d37494034",
   "metadata": {
    "colab": {
     "base_uri": "https://localhost:8080/"
    },
    "id": "eHXX8D3haX7v",
    "outputId": "1ffc2721-ce5f-4d4e-e0e5-ef2e3d55690a"
   },
   "outputs": [
    {
     "data": {
      "text/plain": [
       "0.776"
      ]
     },
     "execution_count": 42,
     "metadata": {},
     "output_type": "execute_result"
    }
   ],
   "source": [
    "precision"
   ]
  },
  {
   "cell_type": "code",
   "execution_count": 43,
   "id": "94cb892b-09fc-442a-9405-bd91bb291532",
   "metadata": {
    "id": "AzmhvQqDaY4y"
   },
   "outputs": [],
   "source": [
    "from sklearn.metrics import precision_score"
   ]
  },
  {
   "cell_type": "code",
   "execution_count": 44,
   "id": "6a1eae56-d071-4d79-8565-0e4c31ae9bbb",
   "metadata": {
    "colab": {
     "base_uri": "https://localhost:8080/"
    },
    "id": "1x7oTwr5aqKr",
    "outputId": "ae149056-62fa-44ef-e3be-734b2f420919"
   },
   "outputs": [
    {
     "data": {
      "text/plain": [
       "0.776"
      ]
     },
     "execution_count": 44,
     "metadata": {},
     "output_type": "execute_result"
    }
   ],
   "source": [
    "precision_score(test['Exited'],test['y_pred'])"
   ]
  },
  {
   "cell_type": "code",
   "execution_count": 45,
   "id": "bebf47bf-e1f6-4542-9fc9-9f58c4e45523",
   "metadata": {
    "colab": {
     "base_uri": "https://localhost:8080/"
    },
    "id": "dthIn-pmauQy",
    "outputId": "1d488627-408b-48bb-8469-adf523a124fb"
   },
   "outputs": [
    {
     "data": {
      "text/plain": [
       "0.203"
      ]
     },
     "execution_count": 45,
     "metadata": {},
     "output_type": "execute_result"
    }
   ],
   "source": [
    "precision_score(test['Exited'],test['y_pred_1'])"
   ]
  },
  {
   "cell_type": "code",
   "execution_count": 46,
   "id": "76806a3d-cfa9-4b49-aad9-27448e029212",
   "metadata": {
    "colab": {
     "base_uri": "https://localhost:8080/"
    },
    "id": "Hjzs1u5kaz0c",
    "outputId": "1f02ddc1-8cc4-4ad7-cb8f-082d334e349b"
   },
   "outputs": [
    {
     "data": {
      "text/plain": [
       "0.203"
      ]
     },
     "execution_count": 46,
     "metadata": {},
     "output_type": "execute_result"
    }
   ],
   "source": [
    "test['Exited'].mean()"
   ]
  },
  {
   "cell_type": "markdown",
   "id": "9601d10e-21fd-4918-a6e9-d2d2b5e4ff1d",
   "metadata": {
    "id": "9dC_FEoJh-Av"
   },
   "source": [
    "# F1"
   ]
  },
  {
   "cell_type": "code",
   "execution_count": 47,
   "id": "363d668c-19c8-4e1d-bdd8-d7382b6fa92d",
   "metadata": {
    "id": "GW6jP13KiiUL"
   },
   "outputs": [],
   "source": [
    "f1 = (2 * recall * precision) / (recall + precision)"
   ]
  },
  {
   "cell_type": "code",
   "execution_count": 48,
   "id": "ee88a837-bed1-48ee-8711-3431317fa419",
   "metadata": {
    "colab": {
     "base_uri": "https://localhost:8080/"
    },
    "id": "Du6dwOpPinEM",
    "outputId": "90523e72-fc1a-4962-ff42-f21f7cd6a577"
   },
   "outputs": [
    {
     "data": {
      "text/plain": [
       "0.5914634146341463"
      ]
     },
     "execution_count": 48,
     "metadata": {},
     "output_type": "execute_result"
    }
   ],
   "source": [
    "f1"
   ]
  },
  {
   "cell_type": "code",
   "execution_count": 49,
   "id": "77d47e14-0e0b-43f0-b188-dd1e803b2361",
   "metadata": {
    "id": "7_bpG5Rjinmm"
   },
   "outputs": [],
   "source": [
    "from sklearn.metrics import f1_score"
   ]
  },
  {
   "cell_type": "code",
   "execution_count": 50,
   "id": "1e43c539-207e-47ba-89d3-9f90e11c3dc6",
   "metadata": {
    "colab": {
     "base_uri": "https://localhost:8080/"
    },
    "id": "ZVWKKuQPiuhk",
    "outputId": "fc6e1e02-b8e2-40b8-f904-96e0b7dd52be"
   },
   "outputs": [
    {
     "data": {
      "text/plain": [
       "0.5914634146341463"
      ]
     },
     "execution_count": 50,
     "metadata": {},
     "output_type": "execute_result"
    }
   ],
   "source": [
    "f1_score(test['Exited'],test['y_pred'])"
   ]
  },
  {
   "cell_type": "markdown",
   "id": "6c608847-309b-4790-bfb3-f575c3b4bbe9",
   "metadata": {
    "id": "OVPQnezKmajA"
   },
   "source": [
    "# Accuracy"
   ]
  },
  {
   "cell_type": "code",
   "execution_count": 51,
   "id": "8de52662-0708-4d67-9c91-cc38b33bf58f",
   "metadata": {
    "colab": {
     "base_uri": "https://localhost:8080/"
    },
    "id": "IMzv0ul9mdxb",
    "outputId": "316ba950-15b2-4a54-d8b7-19dc7616e90b"
   },
   "outputs": [
    {
     "data": {
      "text/plain": [
       "0.866"
      ]
     },
     "execution_count": 51,
     "metadata": {},
     "output_type": "execute_result"
    }
   ],
   "source": [
    "(test['Exited'] == test['y_pred']).mean()"
   ]
  },
  {
   "cell_type": "code",
   "execution_count": 52,
   "id": "3257b197-00e1-401f-bace-4b37e90a3280",
   "metadata": {
    "colab": {
     "base_uri": "https://localhost:8080/"
    },
    "id": "KlclsnDumztv",
    "outputId": "226f8fb3-1bb3-4bda-e3b6-d041a1c76ebd"
   },
   "outputs": [
    {
     "data": {
      "text/plain": [
       "0.866"
      ]
     },
     "execution_count": 52,
     "metadata": {},
     "output_type": "execute_result"
    }
   ],
   "source": [
    "(tp + tn) / (tp + tn + fp + fn)"
   ]
  },
  {
   "cell_type": "code",
   "execution_count": 53,
   "id": "14c635a3-ee38-49f5-b48e-9c1ad546f595",
   "metadata": {
    "id": "3S-nwxMvnBwR",
    "tags": []
   },
   "outputs": [],
   "source": [
    "from sklearn.metrics import accuracy_score"
   ]
  },
  {
   "cell_type": "code",
   "execution_count": 54,
   "id": "0c8040c7-193c-4c11-bebc-ddcab9745fb7",
   "metadata": {
    "colab": {
     "base_uri": "https://localhost:8080/"
    },
    "id": "DsYmPD9XnHhm",
    "outputId": "3bd1d4f8-a24d-4664-a55e-61cb342fee42"
   },
   "outputs": [
    {
     "data": {
      "text/plain": [
       "0.866"
      ]
     },
     "execution_count": 54,
     "metadata": {},
     "output_type": "execute_result"
    }
   ],
   "source": [
    "accuracy_score(test['Exited'],test['y_pred'])"
   ]
  },
  {
   "cell_type": "code",
   "execution_count": 55,
   "id": "c4d049d6-5289-4459-a696-0c97389eb542",
   "metadata": {
    "colab": {
     "base_uri": "https://localhost:8080/"
    },
    "id": "rjf1rQ4RnKsj",
    "outputId": "e0172a62-6880-4b45-da6f-5cdc2d5fb96d"
   },
   "outputs": [
    {
     "data": {
      "text/plain": [
       "0.203"
      ]
     },
     "execution_count": 55,
     "metadata": {},
     "output_type": "execute_result"
    }
   ],
   "source": [
    "test['Exited'].mean()"
   ]
  },
  {
   "cell_type": "code",
   "execution_count": 56,
   "id": "db5f2c7f-730d-4742-aed4-5fcdb8aafe72",
   "metadata": {
    "id": "sK7sRgXjnRL2"
   },
   "outputs": [],
   "source": [
    "test['y_pred_0'] = 0"
   ]
  },
  {
   "cell_type": "code",
   "execution_count": 57,
   "id": "703d75c6-064a-4798-879c-8b0115a036a0",
   "metadata": {
    "colab": {
     "base_uri": "https://localhost:8080/"
    },
    "id": "LVHyuEC7nZCT",
    "outputId": "f29aacda-7aff-4b01-9fe7-e87ef8400148"
   },
   "outputs": [
    {
     "data": {
      "text/plain": [
       "0.797"
      ]
     },
     "execution_count": 57,
     "metadata": {},
     "output_type": "execute_result"
    }
   ],
   "source": [
    "accuracy_score(test['Exited'],test['y_pred_0'])"
   ]
  },
  {
   "cell_type": "code",
   "execution_count": 58,
   "id": "f56b83be-b56d-4b96-9968-a44b9b31b46c",
   "metadata": {
    "colab": {
     "base_uri": "https://localhost:8080/"
    },
    "id": "F6bPG7zznbBl",
    "outputId": "f6ca0435-72e0-4a03-bc0a-9881893ac274"
   },
   "outputs": [
    {
     "data": {
      "text/plain": [
       "0.7969999999999999"
      ]
     },
     "execution_count": 58,
     "metadata": {},
     "output_type": "execute_result"
    }
   ],
   "source": [
    "1 - test['Exited'].mean()"
   ]
  },
  {
   "cell_type": "markdown",
   "id": "f56c7f87-30e7-4da1-a9e2-a5f80d344636",
   "metadata": {
    "id": "j-4o0fxrnen4"
   },
   "source": [
    "# Classification report"
   ]
  },
  {
   "cell_type": "code",
   "execution_count": 59,
   "id": "3b25ab52-2b9c-41e0-8e83-662509a6d64d",
   "metadata": {
    "id": "mVSvRYiuoBEx"
   },
   "outputs": [],
   "source": [
    "from sklearn.metrics import classification_report"
   ]
  },
  {
   "cell_type": "code",
   "execution_count": 60,
   "id": "e91286e9-b85c-4014-83a3-92d17d9d1adf",
   "metadata": {
    "colab": {
     "base_uri": "https://localhost:8080/"
    },
    "id": "oBhBKTKDoMpb",
    "outputId": "df5bf247-5079-47b8-a180-163fcca2cbb1"
   },
   "outputs": [
    {
     "name": "stdout",
     "output_type": "stream",
     "text": [
      "              precision    recall  f1-score   support\n",
      "\n",
      "           0       0.88      0.96      0.92       797\n",
      "           1       0.78      0.48      0.59       203\n",
      "\n",
      "    accuracy                           0.87      1000\n",
      "   macro avg       0.83      0.72      0.76      1000\n",
      "weighted avg       0.86      0.87      0.85      1000\n",
      "\n"
     ]
    }
   ],
   "source": [
    "print(classification_report(test['Exited'],test['y_pred']))"
   ]
  },
  {
   "cell_type": "code",
   "execution_count": 61,
   "id": "bd4dbe7b-1f60-42ee-b6b7-48b2b1eb80fa",
   "metadata": {
    "colab": {
     "base_uri": "https://localhost:8080/"
    },
    "id": "oenmueC8oQRL",
    "outputId": "2d09a18d-e0db-47cf-9598-c42f30eba4ac"
   },
   "outputs": [
    {
     "data": {
      "text/plain": [
       "0.776"
      ]
     },
     "execution_count": 61,
     "metadata": {},
     "output_type": "execute_result"
    }
   ],
   "source": [
    "precision"
   ]
  },
  {
   "cell_type": "code",
   "execution_count": 62,
   "id": "24c4c094-655c-4bd9-9064-b36bddbcfd2e",
   "metadata": {
    "colab": {
     "base_uri": "https://localhost:8080/"
    },
    "id": "iSVkj5rsohyu",
    "outputId": "d9f9306a-8763-483e-d9e5-448d264a92b4"
   },
   "outputs": [
    {
     "data": {
      "text/plain": [
       "0.47783251231527096"
      ]
     },
     "execution_count": 62,
     "metadata": {},
     "output_type": "execute_result"
    }
   ],
   "source": [
    "recall"
   ]
  },
  {
   "cell_type": "code",
   "execution_count": 63,
   "id": "04d83bc5-c4e7-4f33-9006-53913e5cc3a4",
   "metadata": {
    "colab": {
     "base_uri": "https://localhost:8080/"
    },
    "id": "vjsn2Fd6ojIw",
    "outputId": "f52eb5cf-3764-4602-dd34-f04c1f2b7ccd"
   },
   "outputs": [
    {
     "data": {
      "text/plain": [
       "0.5914634146341463"
      ]
     },
     "execution_count": 63,
     "metadata": {},
     "output_type": "execute_result"
    }
   ],
   "source": [
    "f1"
   ]
  },
  {
   "cell_type": "markdown",
   "id": "9de1676c-8b27-4bb5-8cec-08eae4f09558",
   "metadata": {
    "id": "yl0P46kWokST"
   },
   "source": [
    "# Предикт с другим порогом"
   ]
  },
  {
   "cell_type": "code",
   "execution_count": 64,
   "id": "4b7b7f79-0518-4cea-9eb8-b7c2008f8271",
   "metadata": {
    "id": "u0scN4juhFJ1"
   },
   "outputs": [],
   "source": [
    "test['y_pred_new'] = (test['score_catboost'] > 0.4) * 1"
   ]
  },
  {
   "cell_type": "code",
   "execution_count": 65,
   "id": "2811fdd4-efc2-4416-be16-18f5d4799860",
   "metadata": {
    "colab": {
     "base_uri": "https://localhost:8080/"
    },
    "id": "b6zm_MN0hqKs",
    "outputId": "cdc09092-0a80-419d-e7bb-ce757fd09a17"
   },
   "outputs": [
    {
     "data": {
      "text/plain": [
       "0.5914634146341463"
      ]
     },
     "execution_count": 65,
     "metadata": {},
     "output_type": "execute_result"
    }
   ],
   "source": [
    "f1_score(test['Exited'],test['y_pred'])"
   ]
  },
  {
   "cell_type": "code",
   "execution_count": 66,
   "id": "4fad78ed-0183-4033-9090-dbbdfd3692ff",
   "metadata": {
    "colab": {
     "base_uri": "https://localhost:8080/"
    },
    "id": "GcH5ybHehtZz",
    "outputId": "9e04bd36-2639-46f6-9c94-6e4a67e7baf9"
   },
   "outputs": [
    {
     "data": {
      "text/plain": [
       "0.6304347826086957"
      ]
     },
     "execution_count": 66,
     "metadata": {},
     "output_type": "execute_result"
    }
   ],
   "source": [
    "f1_score(test['Exited'],test['y_pred_new'])"
   ]
  },
  {
   "cell_type": "code",
   "execution_count": 67,
   "id": "2eb391bc-17e6-4d5c-9af6-6813ab987905",
   "metadata": {
    "colab": {
     "base_uri": "https://localhost:8080/",
     "height": 487
    },
    "id": "XKqMNo1AhvIS",
    "outputId": "9005051f-62a0-4899-b9ad-f8da5a6f8af0"
   },
   "outputs": [
    {
     "data": {
      "text/html": [
       "<div>\n",
       "<style scoped>\n",
       "    .dataframe tbody tr th:only-of-type {\n",
       "        vertical-align: middle;\n",
       "    }\n",
       "\n",
       "    .dataframe tbody tr th {\n",
       "        vertical-align: top;\n",
       "    }\n",
       "\n",
       "    .dataframe thead th {\n",
       "        text-align: right;\n",
       "    }\n",
       "</style>\n",
       "<table border=\"1\" class=\"dataframe\">\n",
       "  <thead>\n",
       "    <tr style=\"text-align: right;\">\n",
       "      <th></th>\n",
       "      <th>RowNumber</th>\n",
       "      <th>CustomerId</th>\n",
       "      <th>Surname</th>\n",
       "      <th>CreditScore</th>\n",
       "      <th>Geography</th>\n",
       "      <th>Gender</th>\n",
       "      <th>Age</th>\n",
       "      <th>Tenure</th>\n",
       "      <th>Balance</th>\n",
       "      <th>NumOfProducts</th>\n",
       "      <th>...</th>\n",
       "      <th>IsActiveMember</th>\n",
       "      <th>EstimatedSalary</th>\n",
       "      <th>Exited</th>\n",
       "      <th>age_group</th>\n",
       "      <th>score_prod_age</th>\n",
       "      <th>score_catboost</th>\n",
       "      <th>y_pred</th>\n",
       "      <th>y_pred_1</th>\n",
       "      <th>y_pred_0</th>\n",
       "      <th>y_pred_new</th>\n",
       "    </tr>\n",
       "  </thead>\n",
       "  <tbody>\n",
       "    <tr>\n",
       "      <th>0</th>\n",
       "      <td>1510</td>\n",
       "      <td>15638149</td>\n",
       "      <td>Rowley</td>\n",
       "      <td>528</td>\n",
       "      <td>France</td>\n",
       "      <td>Male</td>\n",
       "      <td>37</td>\n",
       "      <td>6</td>\n",
       "      <td>103772.45</td>\n",
       "      <td>1</td>\n",
       "      <td>...</td>\n",
       "      <td>0</td>\n",
       "      <td>197111.99</td>\n",
       "      <td>0</td>\n",
       "      <td>(35.0, 40.0]</td>\n",
       "      <td>0.209337</td>\n",
       "      <td>0.119504</td>\n",
       "      <td>0</td>\n",
       "      <td>1</td>\n",
       "      <td>0</td>\n",
       "      <td>0</td>\n",
       "    </tr>\n",
       "    <tr>\n",
       "      <th>1</th>\n",
       "      <td>4868</td>\n",
       "      <td>15768124</td>\n",
       "      <td>Liu</td>\n",
       "      <td>648</td>\n",
       "      <td>France</td>\n",
       "      <td>Female</td>\n",
       "      <td>34</td>\n",
       "      <td>3</td>\n",
       "      <td>0.00</td>\n",
       "      <td>1</td>\n",
       "      <td>...</td>\n",
       "      <td>0</td>\n",
       "      <td>54726.43</td>\n",
       "      <td>0</td>\n",
       "      <td>(31.0, 35.0]</td>\n",
       "      <td>0.140449</td>\n",
       "      <td>0.236840</td>\n",
       "      <td>0</td>\n",
       "      <td>1</td>\n",
       "      <td>0</td>\n",
       "      <td>0</td>\n",
       "    </tr>\n",
       "    <tr>\n",
       "      <th>2</th>\n",
       "      <td>5360</td>\n",
       "      <td>15801832</td>\n",
       "      <td>Lombardo</td>\n",
       "      <td>684</td>\n",
       "      <td>Germany</td>\n",
       "      <td>Male</td>\n",
       "      <td>42</td>\n",
       "      <td>1</td>\n",
       "      <td>117691.00</td>\n",
       "      <td>1</td>\n",
       "      <td>...</td>\n",
       "      <td>1</td>\n",
       "      <td>23135.65</td>\n",
       "      <td>1</td>\n",
       "      <td>(40.0, 46.0]</td>\n",
       "      <td>0.370441</td>\n",
       "      <td>0.483659</td>\n",
       "      <td>0</td>\n",
       "      <td>1</td>\n",
       "      <td>0</td>\n",
       "      <td>1</td>\n",
       "    </tr>\n",
       "    <tr>\n",
       "      <th>3</th>\n",
       "      <td>7777</td>\n",
       "      <td>15685243</td>\n",
       "      <td>Jamieson</td>\n",
       "      <td>736</td>\n",
       "      <td>France</td>\n",
       "      <td>Female</td>\n",
       "      <td>63</td>\n",
       "      <td>10</td>\n",
       "      <td>0.00</td>\n",
       "      <td>2</td>\n",
       "      <td>...</td>\n",
       "      <td>1</td>\n",
       "      <td>502.70</td>\n",
       "      <td>0</td>\n",
       "      <td>(46.0, inf]</td>\n",
       "      <td>0.236364</td>\n",
       "      <td>0.061533</td>\n",
       "      <td>0</td>\n",
       "      <td>1</td>\n",
       "      <td>0</td>\n",
       "      <td>0</td>\n",
       "    </tr>\n",
       "    <tr>\n",
       "      <th>4</th>\n",
       "      <td>4231</td>\n",
       "      <td>15566660</td>\n",
       "      <td>Cole</td>\n",
       "      <td>670</td>\n",
       "      <td>France</td>\n",
       "      <td>Female</td>\n",
       "      <td>41</td>\n",
       "      <td>10</td>\n",
       "      <td>0.00</td>\n",
       "      <td>3</td>\n",
       "      <td>...</td>\n",
       "      <td>0</td>\n",
       "      <td>81602.02</td>\n",
       "      <td>0</td>\n",
       "      <td>(40.0, 46.0]</td>\n",
       "      <td>0.895833</td>\n",
       "      <td>0.813196</td>\n",
       "      <td>1</td>\n",
       "      <td>1</td>\n",
       "      <td>0</td>\n",
       "      <td>1</td>\n",
       "    </tr>\n",
       "    <tr>\n",
       "      <th>...</th>\n",
       "      <td>...</td>\n",
       "      <td>...</td>\n",
       "      <td>...</td>\n",
       "      <td>...</td>\n",
       "      <td>...</td>\n",
       "      <td>...</td>\n",
       "      <td>...</td>\n",
       "      <td>...</td>\n",
       "      <td>...</td>\n",
       "      <td>...</td>\n",
       "      <td>...</td>\n",
       "      <td>...</td>\n",
       "      <td>...</td>\n",
       "      <td>...</td>\n",
       "      <td>...</td>\n",
       "      <td>...</td>\n",
       "      <td>...</td>\n",
       "      <td>...</td>\n",
       "      <td>...</td>\n",
       "      <td>...</td>\n",
       "      <td>...</td>\n",
       "    </tr>\n",
       "    <tr>\n",
       "      <th>995</th>\n",
       "      <td>745</td>\n",
       "      <td>15670755</td>\n",
       "      <td>Shaw</td>\n",
       "      <td>650</td>\n",
       "      <td>France</td>\n",
       "      <td>Male</td>\n",
       "      <td>60</td>\n",
       "      <td>8</td>\n",
       "      <td>0.00</td>\n",
       "      <td>2</td>\n",
       "      <td>...</td>\n",
       "      <td>1</td>\n",
       "      <td>102925.76</td>\n",
       "      <td>0</td>\n",
       "      <td>(46.0, inf]</td>\n",
       "      <td>0.236364</td>\n",
       "      <td>0.050089</td>\n",
       "      <td>0</td>\n",
       "      <td>1</td>\n",
       "      <td>0</td>\n",
       "      <td>0</td>\n",
       "    </tr>\n",
       "    <tr>\n",
       "      <th>996</th>\n",
       "      <td>5620</td>\n",
       "      <td>15648951</td>\n",
       "      <td>Kao</td>\n",
       "      <td>785</td>\n",
       "      <td>Spain</td>\n",
       "      <td>Male</td>\n",
       "      <td>41</td>\n",
       "      <td>7</td>\n",
       "      <td>0.00</td>\n",
       "      <td>2</td>\n",
       "      <td>...</td>\n",
       "      <td>1</td>\n",
       "      <td>199108.88</td>\n",
       "      <td>0</td>\n",
       "      <td>(40.0, 46.0]</td>\n",
       "      <td>0.108647</td>\n",
       "      <td>0.023766</td>\n",
       "      <td>0</td>\n",
       "      <td>1</td>\n",
       "      <td>0</td>\n",
       "      <td>0</td>\n",
       "    </tr>\n",
       "    <tr>\n",
       "      <th>997</th>\n",
       "      <td>8478</td>\n",
       "      <td>15685947</td>\n",
       "      <td>Henderson</td>\n",
       "      <td>556</td>\n",
       "      <td>Germany</td>\n",
       "      <td>Male</td>\n",
       "      <td>42</td>\n",
       "      <td>0</td>\n",
       "      <td>115915.53</td>\n",
       "      <td>2</td>\n",
       "      <td>...</td>\n",
       "      <td>1</td>\n",
       "      <td>125435.47</td>\n",
       "      <td>1</td>\n",
       "      <td>(40.0, 46.0]</td>\n",
       "      <td>0.108647</td>\n",
       "      <td>0.184892</td>\n",
       "      <td>0</td>\n",
       "      <td>1</td>\n",
       "      <td>0</td>\n",
       "      <td>0</td>\n",
       "    </tr>\n",
       "    <tr>\n",
       "      <th>998</th>\n",
       "      <td>8674</td>\n",
       "      <td>15707637</td>\n",
       "      <td>Zikoranachukwudimma</td>\n",
       "      <td>765</td>\n",
       "      <td>France</td>\n",
       "      <td>Female</td>\n",
       "      <td>56</td>\n",
       "      <td>1</td>\n",
       "      <td>0.00</td>\n",
       "      <td>1</td>\n",
       "      <td>...</td>\n",
       "      <td>0</td>\n",
       "      <td>13228.93</td>\n",
       "      <td>1</td>\n",
       "      <td>(46.0, inf]</td>\n",
       "      <td>0.527607</td>\n",
       "      <td>0.900887</td>\n",
       "      <td>1</td>\n",
       "      <td>1</td>\n",
       "      <td>0</td>\n",
       "      <td>1</td>\n",
       "    </tr>\n",
       "    <tr>\n",
       "      <th>999</th>\n",
       "      <td>3226</td>\n",
       "      <td>15785170</td>\n",
       "      <td>Neal</td>\n",
       "      <td>850</td>\n",
       "      <td>Germany</td>\n",
       "      <td>Female</td>\n",
       "      <td>32</td>\n",
       "      <td>0</td>\n",
       "      <td>116968.91</td>\n",
       "      <td>1</td>\n",
       "      <td>...</td>\n",
       "      <td>0</td>\n",
       "      <td>175094.62</td>\n",
       "      <td>0</td>\n",
       "      <td>(31.0, 35.0]</td>\n",
       "      <td>0.140449</td>\n",
       "      <td>0.305096</td>\n",
       "      <td>0</td>\n",
       "      <td>1</td>\n",
       "      <td>0</td>\n",
       "      <td>0</td>\n",
       "    </tr>\n",
       "  </tbody>\n",
       "</table>\n",
       "<p>1000 rows × 21 columns</p>\n",
       "</div>"
      ],
      "text/plain": [
       "     RowNumber  CustomerId              Surname  CreditScore Geography  \\\n",
       "0         1510    15638149               Rowley          528    France   \n",
       "1         4868    15768124                  Liu          648    France   \n",
       "2         5360    15801832             Lombardo          684   Germany   \n",
       "3         7777    15685243             Jamieson          736    France   \n",
       "4         4231    15566660                 Cole          670    France   \n",
       "..         ...         ...                  ...          ...       ...   \n",
       "995        745    15670755                 Shaw          650    France   \n",
       "996       5620    15648951                  Kao          785     Spain   \n",
       "997       8478    15685947            Henderson          556   Germany   \n",
       "998       8674    15707637  Zikoranachukwudimma          765    France   \n",
       "999       3226    15785170                 Neal          850   Germany   \n",
       "\n",
       "     Gender  Age  Tenure    Balance  NumOfProducts  ...  IsActiveMember  \\\n",
       "0      Male   37       6  103772.45              1  ...               0   \n",
       "1    Female   34       3       0.00              1  ...               0   \n",
       "2      Male   42       1  117691.00              1  ...               1   \n",
       "3    Female   63      10       0.00              2  ...               1   \n",
       "4    Female   41      10       0.00              3  ...               0   \n",
       "..      ...  ...     ...        ...            ...  ...             ...   \n",
       "995    Male   60       8       0.00              2  ...               1   \n",
       "996    Male   41       7       0.00              2  ...               1   \n",
       "997    Male   42       0  115915.53              2  ...               1   \n",
       "998  Female   56       1       0.00              1  ...               0   \n",
       "999  Female   32       0  116968.91              1  ...               0   \n",
       "\n",
       "     EstimatedSalary  Exited     age_group score_prod_age  score_catboost  \\\n",
       "0          197111.99       0  (35.0, 40.0]       0.209337        0.119504   \n",
       "1           54726.43       0  (31.0, 35.0]       0.140449        0.236840   \n",
       "2           23135.65       1  (40.0, 46.0]       0.370441        0.483659   \n",
       "3             502.70       0   (46.0, inf]       0.236364        0.061533   \n",
       "4           81602.02       0  (40.0, 46.0]       0.895833        0.813196   \n",
       "..               ...     ...           ...            ...             ...   \n",
       "995        102925.76       0   (46.0, inf]       0.236364        0.050089   \n",
       "996        199108.88       0  (40.0, 46.0]       0.108647        0.023766   \n",
       "997        125435.47       1  (40.0, 46.0]       0.108647        0.184892   \n",
       "998         13228.93       1   (46.0, inf]       0.527607        0.900887   \n",
       "999        175094.62       0  (31.0, 35.0]       0.140449        0.305096   \n",
       "\n",
       "     y_pred  y_pred_1  y_pred_0  y_pred_new  \n",
       "0         0         1         0           0  \n",
       "1         0         1         0           0  \n",
       "2         0         1         0           1  \n",
       "3         0         1         0           0  \n",
       "4         1         1         0           1  \n",
       "..      ...       ...       ...         ...  \n",
       "995       0         1         0           0  \n",
       "996       0         1         0           0  \n",
       "997       0         1         0           0  \n",
       "998       1         1         0           1  \n",
       "999       0         1         0           0  \n",
       "\n",
       "[1000 rows x 21 columns]"
      ]
     },
     "execution_count": 67,
     "metadata": {},
     "output_type": "execute_result"
    }
   ],
   "source": [
    "test"
   ]
  },
  {
   "cell_type": "code",
   "execution_count": 68,
   "id": "47dc8010-adb0-41a8-bada-243d292700b4",
   "metadata": {
    "colab": {
     "base_uri": "https://localhost:8080/"
    },
    "id": "YCX482cWl7Sa",
    "outputId": "36c12a55-2afa-40f0-eb2a-45ab7941ec75"
   },
   "outputs": [
    {
     "data": {
      "text/plain": [
       "1000"
      ]
     },
     "execution_count": 68,
     "metadata": {},
     "output_type": "execute_result"
    }
   ],
   "source": [
    "len(test['score_catboost'])"
   ]
  },
  {
   "cell_type": "code",
   "execution_count": 69,
   "id": "822f6e5a-f7d3-433b-a3e6-f7d7ff575c3d",
   "metadata": {
    "colab": {
     "base_uri": "https://localhost:8080/"
    },
    "id": "T0zEZCiblYx7",
    "outputId": "a502a6ee-9f63-4cfa-8e81-653e6f53095f"
   },
   "outputs": [
    {
     "data": {
      "text/plain": [
       "1000"
      ]
     },
     "execution_count": 69,
     "metadata": {},
     "output_type": "execute_result"
    }
   ],
   "source": [
    "test['score_catboost'].nunique()"
   ]
  },
  {
   "cell_type": "code",
   "execution_count": 70,
   "id": "356a464f-0539-40bb-a56b-ad9233c22662",
   "metadata": {
    "id": "vogYubqPl2k7"
   },
   "outputs": [],
   "source": [
    "thrs = [0] + list(test['score_catboost'].unique())"
   ]
  },
  {
   "cell_type": "code",
   "execution_count": 71,
   "id": "c5ae782d-6dcc-4312-a764-191dae2eea0c",
   "metadata": {
    "id": "KBr4aTFpmq6U"
   },
   "outputs": [],
   "source": [
    "from tqdm.notebook import tqdm"
   ]
  },
  {
   "cell_type": "code",
   "execution_count": 72,
   "id": "54acc8d0-2a3a-4001-a781-5ce2c4f9a57c",
   "metadata": {
    "colab": {
     "base_uri": "https://localhost:8080/",
     "height": 49,
     "referenced_widgets": [
      "81054d76bd434f7a9072a82a6d1f1f93",
      "d5a8c826756446bb818e658a15ce15df",
      "988315618afc4059a0c9f09558ecb62d",
      "ee15286dfa5c42cdb95ba884f0e9f4ae",
      "5b7b9ca070d649b9b4ec95cafad3b01d",
      "52bdf64a96d044b986657edb7e475929",
      "fd9ec851fd44467f97b837bac90ca7dd",
      "19c26beecd49465e81018e4f4a08d425",
      "4b92c06505124f5d9819071b852589e0",
      "a578ffba734d40c289929bd532c831c2",
      "af11cf46b77d4b469186c63addd433cb"
     ]
    },
    "id": "DeTbWyeUmJj-",
    "outputId": "ca65479e-48a7-44e3-f47a-22bdbd3c7797"
   },
   "outputs": [
    {
     "data": {
      "application/vnd.jupyter.widget-view+json": {
       "model_id": "bb30f1a939fd4292a189c7a57f8aac0a",
       "version_major": 2,
       "version_minor": 0
      },
      "text/plain": [
       "  0%|          | 0/1001 [00:00<?, ?it/s]"
      ]
     },
     "metadata": {},
     "output_type": "display_data"
    }
   ],
   "source": [
    "result = []\n",
    "for thr in tqdm(thrs):\n",
    "  test['y_pred_new'] = (test['score_catboost'] > thr) * 1\n",
    "  result.append((thr,\n",
    "                 f1_score(test['Exited'],test['y_pred_new'])))"
   ]
  },
  {
   "cell_type": "code",
   "execution_count": 73,
   "id": "19af8500-14cc-495b-9bbd-f2374dbd9f9f",
   "metadata": {
    "colab": {
     "base_uri": "https://localhost:8080/"
    },
    "id": "zLJP8D1znKaO",
    "outputId": "3d526317-5c51-4337-9eb7-2bcb40cce9a1"
   },
   "outputs": [
    {
     "data": {
      "text/plain": [
       "[(0, 0.33748960931005817),\n",
       " (0.1195041169886762, 0.5393939393939394),\n",
       " (0.2368402591997456, 0.6113360323886641),\n",
       " (0.4836587955414092, 0.6089552238805971),\n",
       " (0.06153334665794554, 0.44368600682593856),\n",
       " (0.8131962091361549, 0.3467741935483871),\n",
       " (0.12017845344336656, 0.5402124430955995),\n",
       " (0.12908649154582214, 0.5496894409937888),\n",
       " (0.08450569966077999, 0.4825806451612903),\n",
       " (0.020193774083758935, 0.35594713656387666)]"
      ]
     },
     "execution_count": 73,
     "metadata": {},
     "output_type": "execute_result"
    }
   ],
   "source": [
    "result[:10]"
   ]
  },
  {
   "cell_type": "code",
   "execution_count": 74,
   "id": "e5085638-5679-4662-a89d-7428b3160616",
   "metadata": {
    "id": "uuVs9q_gmwrH"
   },
   "outputs": [],
   "source": [
    "t = pd.DataFrame(result,columns=['thr','f1'])"
   ]
  },
  {
   "cell_type": "code",
   "execution_count": 75,
   "id": "351aa300-d295-49dc-9af1-2e7ddcae2b65",
   "metadata": {
    "colab": {
     "base_uri": "https://localhost:8080/",
     "height": 423
    },
    "id": "d1OkJ_bFm1JB",
    "outputId": "e52037e4-d848-42d7-b19c-288f73e02210"
   },
   "outputs": [
    {
     "data": {
      "text/html": [
       "<div>\n",
       "<style scoped>\n",
       "    .dataframe tbody tr th:only-of-type {\n",
       "        vertical-align: middle;\n",
       "    }\n",
       "\n",
       "    .dataframe tbody tr th {\n",
       "        vertical-align: top;\n",
       "    }\n",
       "\n",
       "    .dataframe thead th {\n",
       "        text-align: right;\n",
       "    }\n",
       "</style>\n",
       "<table border=\"1\" class=\"dataframe\">\n",
       "  <thead>\n",
       "    <tr style=\"text-align: right;\">\n",
       "      <th></th>\n",
       "      <th>thr</th>\n",
       "      <th>f1</th>\n",
       "    </tr>\n",
       "  </thead>\n",
       "  <tbody>\n",
       "    <tr>\n",
       "      <th>101</th>\n",
       "      <td>0.345073</td>\n",
       "      <td>0.646465</td>\n",
       "    </tr>\n",
       "    <tr>\n",
       "      <th>977</th>\n",
       "      <td>0.348413</td>\n",
       "      <td>0.646310</td>\n",
       "    </tr>\n",
       "    <tr>\n",
       "      <th>87</th>\n",
       "      <td>0.357780</td>\n",
       "      <td>0.646154</td>\n",
       "    </tr>\n",
       "    <tr>\n",
       "      <th>169</th>\n",
       "      <td>0.331833</td>\n",
       "      <td>0.645320</td>\n",
       "    </tr>\n",
       "    <tr>\n",
       "      <th>605</th>\n",
       "      <td>0.335707</td>\n",
       "      <td>0.645161</td>\n",
       "    </tr>\n",
       "    <tr>\n",
       "      <th>...</th>\n",
       "      <td>...</td>\n",
       "      <td>...</td>\n",
       "    </tr>\n",
       "    <tr>\n",
       "      <th>427</th>\n",
       "      <td>0.992274</td>\n",
       "      <td>0.038647</td>\n",
       "    </tr>\n",
       "    <tr>\n",
       "      <th>797</th>\n",
       "      <td>0.992898</td>\n",
       "      <td>0.029126</td>\n",
       "    </tr>\n",
       "    <tr>\n",
       "      <th>936</th>\n",
       "      <td>0.992912</td>\n",
       "      <td>0.019512</td>\n",
       "    </tr>\n",
       "    <tr>\n",
       "      <th>527</th>\n",
       "      <td>0.993323</td>\n",
       "      <td>0.009804</td>\n",
       "    </tr>\n",
       "    <tr>\n",
       "      <th>138</th>\n",
       "      <td>0.997237</td>\n",
       "      <td>0.000000</td>\n",
       "    </tr>\n",
       "  </tbody>\n",
       "</table>\n",
       "<p>1001 rows × 2 columns</p>\n",
       "</div>"
      ],
      "text/plain": [
       "          thr        f1\n",
       "101  0.345073  0.646465\n",
       "977  0.348413  0.646310\n",
       "87   0.357780  0.646154\n",
       "169  0.331833  0.645320\n",
       "605  0.335707  0.645161\n",
       "..        ...       ...\n",
       "427  0.992274  0.038647\n",
       "797  0.992898  0.029126\n",
       "936  0.992912  0.019512\n",
       "527  0.993323  0.009804\n",
       "138  0.997237  0.000000\n",
       "\n",
       "[1001 rows x 2 columns]"
      ]
     },
     "execution_count": 75,
     "metadata": {},
     "output_type": "execute_result"
    }
   ],
   "source": [
    "t.sort_values('f1',ascending=False)"
   ]
  },
  {
   "cell_type": "code",
   "execution_count": 76,
   "id": "3f3ed282-f546-4815-b9df-f0d7debf15c7",
   "metadata": {
    "colab": {
     "base_uri": "https://localhost:8080/",
     "height": 80
    },
    "id": "72MZS2Ypn7DW",
    "outputId": "9ad15d23-9bbd-40fb-e150-729428396f25"
   },
   "outputs": [
    {
     "data": {
      "text/html": [
       "<div>\n",
       "<style scoped>\n",
       "    .dataframe tbody tr th:only-of-type {\n",
       "        vertical-align: middle;\n",
       "    }\n",
       "\n",
       "    .dataframe tbody tr th {\n",
       "        vertical-align: top;\n",
       "    }\n",
       "\n",
       "    .dataframe thead th {\n",
       "        text-align: right;\n",
       "    }\n",
       "</style>\n",
       "<table border=\"1\" class=\"dataframe\">\n",
       "  <thead>\n",
       "    <tr style=\"text-align: right;\">\n",
       "      <th></th>\n",
       "      <th>thr</th>\n",
       "      <th>f1</th>\n",
       "    </tr>\n",
       "  </thead>\n",
       "  <tbody>\n",
       "    <tr>\n",
       "      <th>101</th>\n",
       "      <td>0.345073</td>\n",
       "      <td>0.646465</td>\n",
       "    </tr>\n",
       "  </tbody>\n",
       "</table>\n",
       "</div>"
      ],
      "text/plain": [
       "          thr        f1\n",
       "101  0.345073  0.646465"
      ]
     },
     "execution_count": 76,
     "metadata": {},
     "output_type": "execute_result"
    }
   ],
   "source": [
    "t[t['f1'] == t['f1'].max()]"
   ]
  },
  {
   "cell_type": "code",
   "execution_count": 77,
   "id": "040977bd-3eba-4f4d-b2c2-0769d95d12c4",
   "metadata": {
    "colab": {
     "base_uri": "https://localhost:8080/",
     "height": 487
    },
    "id": "zgPwpL93q0RZ",
    "outputId": "f571075e-29ac-4e31-fb59-f4e421766f97"
   },
   "outputs": [
    {
     "data": {
      "text/html": [
       "<div>\n",
       "<style scoped>\n",
       "    .dataframe tbody tr th:only-of-type {\n",
       "        vertical-align: middle;\n",
       "    }\n",
       "\n",
       "    .dataframe tbody tr th {\n",
       "        vertical-align: top;\n",
       "    }\n",
       "\n",
       "    .dataframe thead th {\n",
       "        text-align: right;\n",
       "    }\n",
       "</style>\n",
       "<table border=\"1\" class=\"dataframe\">\n",
       "  <thead>\n",
       "    <tr style=\"text-align: right;\">\n",
       "      <th></th>\n",
       "      <th>RowNumber</th>\n",
       "      <th>CustomerId</th>\n",
       "      <th>Surname</th>\n",
       "      <th>CreditScore</th>\n",
       "      <th>Geography</th>\n",
       "      <th>Gender</th>\n",
       "      <th>Age</th>\n",
       "      <th>Tenure</th>\n",
       "      <th>Balance</th>\n",
       "      <th>NumOfProducts</th>\n",
       "      <th>...</th>\n",
       "      <th>IsActiveMember</th>\n",
       "      <th>EstimatedSalary</th>\n",
       "      <th>Exited</th>\n",
       "      <th>age_group</th>\n",
       "      <th>score_prod_age</th>\n",
       "      <th>score_catboost</th>\n",
       "      <th>y_pred</th>\n",
       "      <th>y_pred_1</th>\n",
       "      <th>y_pred_0</th>\n",
       "      <th>y_pred_new</th>\n",
       "    </tr>\n",
       "  </thead>\n",
       "  <tbody>\n",
       "    <tr>\n",
       "      <th>0</th>\n",
       "      <td>1510</td>\n",
       "      <td>15638149</td>\n",
       "      <td>Rowley</td>\n",
       "      <td>528</td>\n",
       "      <td>France</td>\n",
       "      <td>Male</td>\n",
       "      <td>37</td>\n",
       "      <td>6</td>\n",
       "      <td>103772.45</td>\n",
       "      <td>1</td>\n",
       "      <td>...</td>\n",
       "      <td>0</td>\n",
       "      <td>197111.99</td>\n",
       "      <td>0</td>\n",
       "      <td>(35.0, 40.0]</td>\n",
       "      <td>0.209337</td>\n",
       "      <td>0.119504</td>\n",
       "      <td>0</td>\n",
       "      <td>1</td>\n",
       "      <td>0</td>\n",
       "      <td>0</td>\n",
       "    </tr>\n",
       "    <tr>\n",
       "      <th>1</th>\n",
       "      <td>4868</td>\n",
       "      <td>15768124</td>\n",
       "      <td>Liu</td>\n",
       "      <td>648</td>\n",
       "      <td>France</td>\n",
       "      <td>Female</td>\n",
       "      <td>34</td>\n",
       "      <td>3</td>\n",
       "      <td>0.00</td>\n",
       "      <td>1</td>\n",
       "      <td>...</td>\n",
       "      <td>0</td>\n",
       "      <td>54726.43</td>\n",
       "      <td>0</td>\n",
       "      <td>(31.0, 35.0]</td>\n",
       "      <td>0.140449</td>\n",
       "      <td>0.236840</td>\n",
       "      <td>0</td>\n",
       "      <td>1</td>\n",
       "      <td>0</td>\n",
       "      <td>0</td>\n",
       "    </tr>\n",
       "    <tr>\n",
       "      <th>2</th>\n",
       "      <td>5360</td>\n",
       "      <td>15801832</td>\n",
       "      <td>Lombardo</td>\n",
       "      <td>684</td>\n",
       "      <td>Germany</td>\n",
       "      <td>Male</td>\n",
       "      <td>42</td>\n",
       "      <td>1</td>\n",
       "      <td>117691.00</td>\n",
       "      <td>1</td>\n",
       "      <td>...</td>\n",
       "      <td>1</td>\n",
       "      <td>23135.65</td>\n",
       "      <td>1</td>\n",
       "      <td>(40.0, 46.0]</td>\n",
       "      <td>0.370441</td>\n",
       "      <td>0.483659</td>\n",
       "      <td>0</td>\n",
       "      <td>1</td>\n",
       "      <td>0</td>\n",
       "      <td>1</td>\n",
       "    </tr>\n",
       "    <tr>\n",
       "      <th>3</th>\n",
       "      <td>7777</td>\n",
       "      <td>15685243</td>\n",
       "      <td>Jamieson</td>\n",
       "      <td>736</td>\n",
       "      <td>France</td>\n",
       "      <td>Female</td>\n",
       "      <td>63</td>\n",
       "      <td>10</td>\n",
       "      <td>0.00</td>\n",
       "      <td>2</td>\n",
       "      <td>...</td>\n",
       "      <td>1</td>\n",
       "      <td>502.70</td>\n",
       "      <td>0</td>\n",
       "      <td>(46.0, inf]</td>\n",
       "      <td>0.236364</td>\n",
       "      <td>0.061533</td>\n",
       "      <td>0</td>\n",
       "      <td>1</td>\n",
       "      <td>0</td>\n",
       "      <td>0</td>\n",
       "    </tr>\n",
       "    <tr>\n",
       "      <th>4</th>\n",
       "      <td>4231</td>\n",
       "      <td>15566660</td>\n",
       "      <td>Cole</td>\n",
       "      <td>670</td>\n",
       "      <td>France</td>\n",
       "      <td>Female</td>\n",
       "      <td>41</td>\n",
       "      <td>10</td>\n",
       "      <td>0.00</td>\n",
       "      <td>3</td>\n",
       "      <td>...</td>\n",
       "      <td>0</td>\n",
       "      <td>81602.02</td>\n",
       "      <td>0</td>\n",
       "      <td>(40.0, 46.0]</td>\n",
       "      <td>0.895833</td>\n",
       "      <td>0.813196</td>\n",
       "      <td>1</td>\n",
       "      <td>1</td>\n",
       "      <td>0</td>\n",
       "      <td>1</td>\n",
       "    </tr>\n",
       "    <tr>\n",
       "      <th>...</th>\n",
       "      <td>...</td>\n",
       "      <td>...</td>\n",
       "      <td>...</td>\n",
       "      <td>...</td>\n",
       "      <td>...</td>\n",
       "      <td>...</td>\n",
       "      <td>...</td>\n",
       "      <td>...</td>\n",
       "      <td>...</td>\n",
       "      <td>...</td>\n",
       "      <td>...</td>\n",
       "      <td>...</td>\n",
       "      <td>...</td>\n",
       "      <td>...</td>\n",
       "      <td>...</td>\n",
       "      <td>...</td>\n",
       "      <td>...</td>\n",
       "      <td>...</td>\n",
       "      <td>...</td>\n",
       "      <td>...</td>\n",
       "      <td>...</td>\n",
       "    </tr>\n",
       "    <tr>\n",
       "      <th>995</th>\n",
       "      <td>745</td>\n",
       "      <td>15670755</td>\n",
       "      <td>Shaw</td>\n",
       "      <td>650</td>\n",
       "      <td>France</td>\n",
       "      <td>Male</td>\n",
       "      <td>60</td>\n",
       "      <td>8</td>\n",
       "      <td>0.00</td>\n",
       "      <td>2</td>\n",
       "      <td>...</td>\n",
       "      <td>1</td>\n",
       "      <td>102925.76</td>\n",
       "      <td>0</td>\n",
       "      <td>(46.0, inf]</td>\n",
       "      <td>0.236364</td>\n",
       "      <td>0.050089</td>\n",
       "      <td>0</td>\n",
       "      <td>1</td>\n",
       "      <td>0</td>\n",
       "      <td>0</td>\n",
       "    </tr>\n",
       "    <tr>\n",
       "      <th>996</th>\n",
       "      <td>5620</td>\n",
       "      <td>15648951</td>\n",
       "      <td>Kao</td>\n",
       "      <td>785</td>\n",
       "      <td>Spain</td>\n",
       "      <td>Male</td>\n",
       "      <td>41</td>\n",
       "      <td>7</td>\n",
       "      <td>0.00</td>\n",
       "      <td>2</td>\n",
       "      <td>...</td>\n",
       "      <td>1</td>\n",
       "      <td>199108.88</td>\n",
       "      <td>0</td>\n",
       "      <td>(40.0, 46.0]</td>\n",
       "      <td>0.108647</td>\n",
       "      <td>0.023766</td>\n",
       "      <td>0</td>\n",
       "      <td>1</td>\n",
       "      <td>0</td>\n",
       "      <td>0</td>\n",
       "    </tr>\n",
       "    <tr>\n",
       "      <th>997</th>\n",
       "      <td>8478</td>\n",
       "      <td>15685947</td>\n",
       "      <td>Henderson</td>\n",
       "      <td>556</td>\n",
       "      <td>Germany</td>\n",
       "      <td>Male</td>\n",
       "      <td>42</td>\n",
       "      <td>0</td>\n",
       "      <td>115915.53</td>\n",
       "      <td>2</td>\n",
       "      <td>...</td>\n",
       "      <td>1</td>\n",
       "      <td>125435.47</td>\n",
       "      <td>1</td>\n",
       "      <td>(40.0, 46.0]</td>\n",
       "      <td>0.108647</td>\n",
       "      <td>0.184892</td>\n",
       "      <td>0</td>\n",
       "      <td>1</td>\n",
       "      <td>0</td>\n",
       "      <td>0</td>\n",
       "    </tr>\n",
       "    <tr>\n",
       "      <th>998</th>\n",
       "      <td>8674</td>\n",
       "      <td>15707637</td>\n",
       "      <td>Zikoranachukwudimma</td>\n",
       "      <td>765</td>\n",
       "      <td>France</td>\n",
       "      <td>Female</td>\n",
       "      <td>56</td>\n",
       "      <td>1</td>\n",
       "      <td>0.00</td>\n",
       "      <td>1</td>\n",
       "      <td>...</td>\n",
       "      <td>0</td>\n",
       "      <td>13228.93</td>\n",
       "      <td>1</td>\n",
       "      <td>(46.0, inf]</td>\n",
       "      <td>0.527607</td>\n",
       "      <td>0.900887</td>\n",
       "      <td>1</td>\n",
       "      <td>1</td>\n",
       "      <td>0</td>\n",
       "      <td>1</td>\n",
       "    </tr>\n",
       "    <tr>\n",
       "      <th>999</th>\n",
       "      <td>3226</td>\n",
       "      <td>15785170</td>\n",
       "      <td>Neal</td>\n",
       "      <td>850</td>\n",
       "      <td>Germany</td>\n",
       "      <td>Female</td>\n",
       "      <td>32</td>\n",
       "      <td>0</td>\n",
       "      <td>116968.91</td>\n",
       "      <td>1</td>\n",
       "      <td>...</td>\n",
       "      <td>0</td>\n",
       "      <td>175094.62</td>\n",
       "      <td>0</td>\n",
       "      <td>(31.0, 35.0]</td>\n",
       "      <td>0.140449</td>\n",
       "      <td>0.305096</td>\n",
       "      <td>0</td>\n",
       "      <td>1</td>\n",
       "      <td>0</td>\n",
       "      <td>0</td>\n",
       "    </tr>\n",
       "  </tbody>\n",
       "</table>\n",
       "<p>1000 rows × 21 columns</p>\n",
       "</div>"
      ],
      "text/plain": [
       "     RowNumber  CustomerId              Surname  CreditScore Geography  \\\n",
       "0         1510    15638149               Rowley          528    France   \n",
       "1         4868    15768124                  Liu          648    France   \n",
       "2         5360    15801832             Lombardo          684   Germany   \n",
       "3         7777    15685243             Jamieson          736    France   \n",
       "4         4231    15566660                 Cole          670    France   \n",
       "..         ...         ...                  ...          ...       ...   \n",
       "995        745    15670755                 Shaw          650    France   \n",
       "996       5620    15648951                  Kao          785     Spain   \n",
       "997       8478    15685947            Henderson          556   Germany   \n",
       "998       8674    15707637  Zikoranachukwudimma          765    France   \n",
       "999       3226    15785170                 Neal          850   Germany   \n",
       "\n",
       "     Gender  Age  Tenure    Balance  NumOfProducts  ...  IsActiveMember  \\\n",
       "0      Male   37       6  103772.45              1  ...               0   \n",
       "1    Female   34       3       0.00              1  ...               0   \n",
       "2      Male   42       1  117691.00              1  ...               1   \n",
       "3    Female   63      10       0.00              2  ...               1   \n",
       "4    Female   41      10       0.00              3  ...               0   \n",
       "..      ...  ...     ...        ...            ...  ...             ...   \n",
       "995    Male   60       8       0.00              2  ...               1   \n",
       "996    Male   41       7       0.00              2  ...               1   \n",
       "997    Male   42       0  115915.53              2  ...               1   \n",
       "998  Female   56       1       0.00              1  ...               0   \n",
       "999  Female   32       0  116968.91              1  ...               0   \n",
       "\n",
       "     EstimatedSalary  Exited     age_group score_prod_age  score_catboost  \\\n",
       "0          197111.99       0  (35.0, 40.0]       0.209337        0.119504   \n",
       "1           54726.43       0  (31.0, 35.0]       0.140449        0.236840   \n",
       "2           23135.65       1  (40.0, 46.0]       0.370441        0.483659   \n",
       "3             502.70       0   (46.0, inf]       0.236364        0.061533   \n",
       "4           81602.02       0  (40.0, 46.0]       0.895833        0.813196   \n",
       "..               ...     ...           ...            ...             ...   \n",
       "995        102925.76       0   (46.0, inf]       0.236364        0.050089   \n",
       "996        199108.88       0  (40.0, 46.0]       0.108647        0.023766   \n",
       "997        125435.47       1  (40.0, 46.0]       0.108647        0.184892   \n",
       "998         13228.93       1   (46.0, inf]       0.527607        0.900887   \n",
       "999        175094.62       0  (31.0, 35.0]       0.140449        0.305096   \n",
       "\n",
       "     y_pred  y_pred_1  y_pred_0  y_pred_new  \n",
       "0         0         1         0           0  \n",
       "1         0         1         0           0  \n",
       "2         0         1         0           1  \n",
       "3         0         1         0           0  \n",
       "4         1         1         0           1  \n",
       "..      ...       ...       ...         ...  \n",
       "995       0         1         0           0  \n",
       "996       0         1         0           0  \n",
       "997       0         1         0           0  \n",
       "998       1         1         0           1  \n",
       "999       0         1         0           0  \n",
       "\n",
       "[1000 rows x 21 columns]"
      ]
     },
     "execution_count": 77,
     "metadata": {},
     "output_type": "execute_result"
    }
   ],
   "source": [
    "test"
   ]
  },
  {
   "cell_type": "code",
   "execution_count": 78,
   "id": "27d630d4-63fd-45b2-8f38-4bffa8472019",
   "metadata": {
    "id": "nMb0ttpqrVUr"
   },
   "outputs": [],
   "source": [
    "thrs = [0] + list(test['score_prod_age'].unique())"
   ]
  },
  {
   "cell_type": "code",
   "execution_count": 79,
   "id": "a8b2ec7d-c4dc-4160-891d-5c243d1599b4",
   "metadata": {
    "colab": {
     "base_uri": "https://localhost:8080/"
    },
    "id": "jo4ULEClrbnS",
    "outputId": "6ebd4c7c-0478-431a-d265-3db36477e333"
   },
   "outputs": [
    {
     "data": {
      "text/plain": [
       "17"
      ]
     },
     "execution_count": 79,
     "metadata": {},
     "output_type": "execute_result"
    }
   ],
   "source": [
    "len(thrs)"
   ]
  },
  {
   "cell_type": "code",
   "execution_count": 80,
   "id": "ff56c38b-fcc9-4ffe-8785-04dc72a4c09e",
   "metadata": {
    "colab": {
     "base_uri": "https://localhost:8080/",
     "height": 49,
     "referenced_widgets": [
      "b90a200d39f5449085007d4332b417ce",
      "25c44e7822bc40f9b84fef74aeee4c0c",
      "b954eb7d8fc34024b12cc7d2758af497",
      "63f4eeecc3b843fabce74b138345b1af",
      "bb1dc60385814d6f83263a3ad43edd4c",
      "5f391adad4a94cb88e7a8fbc78777f9f",
      "a3ba4afc9c65489bb22ec202a48dccdf",
      "94c490793d95437fb69f49646452f82c",
      "54e9512274684060862e59131e5fcc78",
      "4b9198e43ce2403f8846989ba41a502e",
      "bdcc85c0cb6040c49b68264377cf4a99"
     ]
    },
    "id": "GoQqdX-4rVU4",
    "outputId": "821678e5-ff2a-482b-fccf-09b6ec1d8523"
   },
   "outputs": [
    {
     "data": {
      "application/vnd.jupyter.widget-view+json": {
       "model_id": "7559a6f8c87640a2abc8c5acf39790ec",
       "version_major": 2,
       "version_minor": 0
      },
      "text/plain": [
       "  0%|          | 0/17 [00:00<?, ?it/s]"
      ]
     },
     "metadata": {},
     "output_type": "display_data"
    }
   ],
   "source": [
    "result = []\n",
    "for thr in tqdm(thrs):\n",
    "  test['y_pred_new'] = (test['score_prod_age'] > thr) * 1\n",
    "  result.append((thr,\n",
    "                 f1_score(test['Exited'],test['y_pred_new'])))"
   ]
  },
  {
   "cell_type": "code",
   "execution_count": 81,
   "id": "6994b85a-3a44-4dca-b282-bbf12041b06b",
   "metadata": {
    "colab": {
     "base_uri": "https://localhost:8080/"
    },
    "id": "cpbf1K46rVU5",
    "outputId": "da048144-5fd1-43ba-90b3-a9ed87837bcb"
   },
   "outputs": [
    {
     "data": {
      "text/plain": [
       "[(0, 0.33748960931005817),\n",
       " (0.20933734939759036, 0.5392354124748491),\n",
       " (0.1404494382022472, 0.5132450331125827),\n",
       " (0.3704414587332054, 0.5391304347826087),\n",
       " (0.23636363636363636, 0.5668934240362812),\n",
       " (0.8958333333333334, 0.13698630136986303),\n",
       " (0.11076443057722309, 0.47931526390870177),\n",
       " (0.5276073619631901, 0.22978723404255322),\n",
       " (0.033288948069241014, 0.3964143426294821),\n",
       " (0.028037383177570093, 0.35989256938227393)]"
      ]
     },
     "execution_count": 81,
     "metadata": {},
     "output_type": "execute_result"
    }
   ],
   "source": [
    "result[:10]"
   ]
  },
  {
   "cell_type": "code",
   "execution_count": 82,
   "id": "bb9a75bf-2d2d-411f-ba35-c4522d10ac1d",
   "metadata": {
    "id": "DNfWvmrnrVU5"
   },
   "outputs": [],
   "source": [
    "t = pd.DataFrame(result,columns=['thr','f1'])"
   ]
  },
  {
   "cell_type": "code",
   "execution_count": 83,
   "id": "cd48a7ee-1b94-471f-a9a4-3a7377c5fde3",
   "metadata": {
    "colab": {
     "base_uri": "https://localhost:8080/",
     "height": 80
    },
    "id": "-L21AAHyrVU5",
    "outputId": "94564ba4-c8fa-4b25-a95c-df6b3a3a6fe0"
   },
   "outputs": [
    {
     "data": {
      "text/html": [
       "<div>\n",
       "<style scoped>\n",
       "    .dataframe tbody tr th:only-of-type {\n",
       "        vertical-align: middle;\n",
       "    }\n",
       "\n",
       "    .dataframe tbody tr th {\n",
       "        vertical-align: top;\n",
       "    }\n",
       "\n",
       "    .dataframe thead th {\n",
       "        text-align: right;\n",
       "    }\n",
       "</style>\n",
       "<table border=\"1\" class=\"dataframe\">\n",
       "  <thead>\n",
       "    <tr style=\"text-align: right;\">\n",
       "      <th></th>\n",
       "      <th>thr</th>\n",
       "      <th>f1</th>\n",
       "    </tr>\n",
       "  </thead>\n",
       "  <tbody>\n",
       "    <tr>\n",
       "      <th>4</th>\n",
       "      <td>0.236364</td>\n",
       "      <td>0.566893</td>\n",
       "    </tr>\n",
       "  </tbody>\n",
       "</table>\n",
       "</div>"
      ],
      "text/plain": [
       "        thr        f1\n",
       "4  0.236364  0.566893"
      ]
     },
     "execution_count": 83,
     "metadata": {},
     "output_type": "execute_result"
    }
   ],
   "source": [
    "t[t['f1'] == t['f1'].max()]"
   ]
  },
  {
   "cell_type": "markdown",
   "id": "b4177f66-bdab-45c1-81b5-f8058e8db7e8",
   "metadata": {
    "id": "uFi2KZPzrll4"
   },
   "source": [
    "# ROC"
   ]
  },
  {
   "cell_type": "code",
   "execution_count": 84,
   "id": "8b50008c-453d-460d-a823-9af31dc3ff45",
   "metadata": {
    "id": "3k_tz-ZDeuAC"
   },
   "outputs": [],
   "source": [
    "from sklearn.metrics import roc_curve"
   ]
  },
  {
   "cell_type": "code",
   "execution_count": 85,
   "id": "94d7d72a-0ff9-4f8f-ace8-1513bf20296b",
   "metadata": {
    "id": "6Cdb399ukhzw"
   },
   "outputs": [],
   "source": [
    "fprs, tprs, thrs = roc_curve(test['Exited'],test['score_catboost'])"
   ]
  },
  {
   "cell_type": "code",
   "execution_count": 86,
   "id": "f36a56b7-e1e3-4614-9f0d-e74b1fcdb13f",
   "metadata": {
    "id": "p2M6zRmXk6Py"
   },
   "outputs": [],
   "source": [
    "roc = pd.DataFrame({'fpr':fprs,'tpr':tprs,'thr':thrs})"
   ]
  },
  {
   "cell_type": "code",
   "execution_count": 87,
   "id": "6239a973-b5e9-4737-8c45-0a63b542f378",
   "metadata": {
    "colab": {
     "base_uri": "https://localhost:8080/",
     "height": 423
    },
    "id": "AlUKXg3mk7Yh",
    "outputId": "ff0bbffe-bfb6-417a-cf7a-ac2e3ce42f68"
   },
   "outputs": [
    {
     "data": {
      "text/html": [
       "<div>\n",
       "<style scoped>\n",
       "    .dataframe tbody tr th:only-of-type {\n",
       "        vertical-align: middle;\n",
       "    }\n",
       "\n",
       "    .dataframe tbody tr th {\n",
       "        vertical-align: top;\n",
       "    }\n",
       "\n",
       "    .dataframe thead th {\n",
       "        text-align: right;\n",
       "    }\n",
       "</style>\n",
       "<table border=\"1\" class=\"dataframe\">\n",
       "  <thead>\n",
       "    <tr style=\"text-align: right;\">\n",
       "      <th></th>\n",
       "      <th>fpr</th>\n",
       "      <th>tpr</th>\n",
       "      <th>thr</th>\n",
       "    </tr>\n",
       "  </thead>\n",
       "  <tbody>\n",
       "    <tr>\n",
       "      <th>0</th>\n",
       "      <td>0.000000</td>\n",
       "      <td>0.000000</td>\n",
       "      <td>1.997237</td>\n",
       "    </tr>\n",
       "    <tr>\n",
       "      <th>1</th>\n",
       "      <td>0.000000</td>\n",
       "      <td>0.004926</td>\n",
       "      <td>0.997237</td>\n",
       "    </tr>\n",
       "    <tr>\n",
       "      <th>2</th>\n",
       "      <td>0.000000</td>\n",
       "      <td>0.083744</td>\n",
       "      <td>0.931489</td>\n",
       "    </tr>\n",
       "    <tr>\n",
       "      <th>3</th>\n",
       "      <td>0.001255</td>\n",
       "      <td>0.083744</td>\n",
       "      <td>0.931480</td>\n",
       "    </tr>\n",
       "    <tr>\n",
       "      <th>4</th>\n",
       "      <td>0.001255</td>\n",
       "      <td>0.197044</td>\n",
       "      <td>0.836864</td>\n",
       "    </tr>\n",
       "    <tr>\n",
       "      <th>...</th>\n",
       "      <td>...</td>\n",
       "      <td>...</td>\n",
       "      <td>...</td>\n",
       "    </tr>\n",
       "    <tr>\n",
       "      <th>205</th>\n",
       "      <td>0.810540</td>\n",
       "      <td>0.990148</td>\n",
       "      <td>0.033532</td>\n",
       "    </tr>\n",
       "    <tr>\n",
       "      <th>206</th>\n",
       "      <td>0.810540</td>\n",
       "      <td>0.995074</td>\n",
       "      <td>0.033249</td>\n",
       "    </tr>\n",
       "    <tr>\n",
       "      <th>207</th>\n",
       "      <td>0.998745</td>\n",
       "      <td>0.995074</td>\n",
       "      <td>0.009967</td>\n",
       "    </tr>\n",
       "    <tr>\n",
       "      <th>208</th>\n",
       "      <td>0.998745</td>\n",
       "      <td>1.000000</td>\n",
       "      <td>0.009905</td>\n",
       "    </tr>\n",
       "    <tr>\n",
       "      <th>209</th>\n",
       "      <td>1.000000</td>\n",
       "      <td>1.000000</td>\n",
       "      <td>0.009566</td>\n",
       "    </tr>\n",
       "  </tbody>\n",
       "</table>\n",
       "<p>210 rows × 3 columns</p>\n",
       "</div>"
      ],
      "text/plain": [
       "          fpr       tpr       thr\n",
       "0    0.000000  0.000000  1.997237\n",
       "1    0.000000  0.004926  0.997237\n",
       "2    0.000000  0.083744  0.931489\n",
       "3    0.001255  0.083744  0.931480\n",
       "4    0.001255  0.197044  0.836864\n",
       "..        ...       ...       ...\n",
       "205  0.810540  0.990148  0.033532\n",
       "206  0.810540  0.995074  0.033249\n",
       "207  0.998745  0.995074  0.009967\n",
       "208  0.998745  1.000000  0.009905\n",
       "209  1.000000  1.000000  0.009566\n",
       "\n",
       "[210 rows x 3 columns]"
      ]
     },
     "execution_count": 87,
     "metadata": {},
     "output_type": "execute_result"
    }
   ],
   "source": [
    "roc"
   ]
  },
  {
   "cell_type": "code",
   "execution_count": 88,
   "id": "a0f1f2ec-86cc-4419-b8ee-7f98be2d9fef",
   "metadata": {
    "colab": {
     "base_uri": "https://localhost:8080/",
     "height": 405
    },
    "id": "iY5Pwlt-lGe_",
    "outputId": "eff7011b-c9b1-496f-ff4e-490a250fd9fe"
   },
   "outputs": [
    {
     "data": {
      "text/plain": [
       "<AxesSubplot: xlabel='fpr'>"
      ]
     },
     "execution_count": 88,
     "metadata": {},
     "output_type": "execute_result"
    },
    {
     "data": {
      "image/png": "[encoded data removed]",
      "text/plain": [
       "<Figure size 600x600 with 1 Axes>"
      ]
     },
     "metadata": {},
     "output_type": "display_data"
    }
   ],
   "source": [
    "roc.set_index('fpr')['tpr'].plot(figsize=(6,6))"
   ]
  },
  {
   "cell_type": "code",
   "execution_count": 89,
   "id": "652f4c5b-d601-4e12-8f9f-be2617df41b6",
   "metadata": {
    "id": "Ew_c7IIclxp0"
   },
   "outputs": [],
   "source": [
    "roc['random'] = roc['fpr']"
   ]
  },
  {
   "cell_type": "code",
   "execution_count": 90,
   "id": "9e5b9f40-fa81-4665-979a-ee52b25bc9db",
   "metadata": {
    "id": "EsUaGpgVmEiG"
   },
   "outputs": [],
   "source": [
    "roc['ideal'] = 1"
   ]
  },
  {
   "cell_type": "code",
   "execution_count": 91,
   "id": "e8ccc7ea-d148-4834-9f1f-53cad2e2301e",
   "metadata": {
    "colab": {
     "base_uri": "https://localhost:8080/",
     "height": 405
    },
    "id": "evyhlPqxldZD",
    "outputId": "c3c1757d-7173-438c-b0da-05a45012aace"
   },
   "outputs": [
    {
     "data": {
      "text/plain": [
       "<AxesSubplot: xlabel='fpr'>"
      ]
     },
     "execution_count": 91,
     "metadata": {},
     "output_type": "execute_result"
    },
    {
     "data": {
      "image/png": "[encoded data removed]",
      "text/plain": [
       "<Figure size 600x600 with 1 Axes>"
      ]
     },
     "metadata": {},
     "output_type": "display_data"
    }
   ],
   "source": [
    "roc.plot(x='fpr',y=['tpr','random','ideal'],figsize=(6,6),grid=True)"
   ]
  },
  {
   "cell_type": "code",
   "execution_count": 92,
   "id": "cfb551ed-da01-4788-9999-f66f862570c4",
   "metadata": {
    "colab": {
     "base_uri": "https://localhost:8080/",
     "height": 295
    },
    "id": "5PihUNRFn9yE",
    "outputId": "3db8ec7f-171e-4f5c-801a-bd2b0d94b8ed"
   },
   "outputs": [
    {
     "data": {
      "image/png": "[encoded data removed]",
      "text/plain": [
       "<Figure size 640x480 with 1 Axes>"
      ]
     },
     "metadata": {},
     "output_type": "display_data"
    }
   ],
   "source": [
    "import sklearn.metrics as metrics\n",
    "# calculate the fpr and tpr for all thresholds of the classification\n",
    "\n",
    "fpr, tpr, threshold = metrics.roc_curve(test['Exited'], test['score_catboost'])\n",
    "roc_auc = metrics.auc(fpr, tpr)\n",
    "\n",
    "# method I: plt\n",
    "import matplotlib.pyplot as plt\n",
    "plt.title('Receiver Operating Characteristic')\n",
    "plt.plot(fpr, tpr, 'b', label = 'AUC = %0.2f' % roc_auc)\n",
    "plt.legend(loc = 'lower right')\n",
    "plt.plot([0, 1], [0, 1],'r--')\n",
    "plt.xlim([0, 1])\n",
    "plt.ylim([0, 1])\n",
    "plt.ylabel('True Positive Rate')\n",
    "plt.xlabel('False Positive Rate')\n",
    "plt.show()"
   ]
  },
  {
   "cell_type": "code",
   "execution_count": 93,
   "id": "d73281cd-562c-46ee-9c4a-ad9758c2cd33",
   "metadata": {
    "id": "bieveK43oaem"
   },
   "outputs": [],
   "source": [
    "from catboost.utils import get_roc_curve"
   ]
  },
  {
   "cell_type": "code",
   "execution_count": 94,
   "id": "27ab3f56-2ecc-4bac-89cd-6366d52ec2b2",
   "metadata": {
    "id": "fxNkIbjJowmO"
   },
   "outputs": [],
   "source": [
    "test_data = Pool(data=test[X],\n",
    "                  label=test[y],\n",
    "                  cat_features=cat_features\n",
    "                 )"
   ]
  },
  {
   "cell_type": "code",
   "execution_count": 95,
   "id": "ed112a06-3f52-4ed7-8ba5-efa419e5d56a",
   "metadata": {
    "colab": {
     "base_uri": "https://localhost:8080/",
     "height": 528
    },
    "id": "8QGUB23UokgE",
    "outputId": "30c80533-b099-490a-9d71-330911555412"
   },
   "outputs": [
    {
     "data": {
      "image/png": "[encoded data removed]",
      "text/plain": [
       "<Figure size 1600x800 with 1 Axes>"
      ]
     },
     "metadata": {},
     "output_type": "display_data"
    }
   ],
   "source": [
    "get_roc_curve(model,test_data,plot=True);"
   ]
  },
  {
   "cell_type": "markdown",
   "id": "acd1949b-70db-4915-a050-45494132448a",
   "metadata": {
    "id": "dfNu5flCo0u8"
   },
   "source": [
    "# AUC"
   ]
  },
  {
   "cell_type": "code",
   "execution_count": 96,
   "id": "8f4d31df-2330-4cd0-a437-4ade1c5ca690",
   "metadata": {
    "id": "4-DXYmExteOT"
   },
   "outputs": [],
   "source": [
    "from sklearn.metrics import roc_auc_score"
   ]
  },
  {
   "cell_type": "code",
   "execution_count": 97,
   "id": "2a8ef4c6-623e-4ff9-b477-8210e262bf4d",
   "metadata": {
    "colab": {
     "base_uri": "https://localhost:8080/"
    },
    "id": "A5cA2Zlcugij",
    "outputId": "d85c1569-b526-4ee9-ceb5-fb09aa559b14"
   },
   "outputs": [
    {
     "data": {
      "text/plain": [
       "0.8736641716782763"
      ]
     },
     "execution_count": 97,
     "metadata": {},
     "output_type": "execute_result"
    }
   ],
   "source": [
    "roc_auc_score(test['Exited'],test['score_catboost'])"
   ]
  },
  {
   "cell_type": "code",
   "execution_count": 98,
   "id": "cf398612-0072-4747-90ff-f886c1a1053a",
   "metadata": {
    "id": "F-hhtRaWuzBA"
   },
   "outputs": [],
   "source": [
    "params = {'verbose':100,\n",
    "          'eval_metric':'AUC',\n",
    "          'random_seed':42,\n",
    "          'learning_rate':0.01}"
   ]
  },
  {
   "cell_type": "code",
   "execution_count": 99,
   "id": "a096e7b8-abc0-472b-bc58-ae41804e9f1c",
   "metadata": {
    "id": "v-JV-hxMuzBI"
   },
   "outputs": [],
   "source": [
    "model = CatBoostClassifier(**params)"
   ]
  },
  {
   "cell_type": "code",
   "execution_count": 100,
   "id": "bf435d94-35f6-4771-8ac9-f928bac8d116",
   "metadata": {
    "colab": {
     "base_uri": "https://localhost:8080/"
    },
    "id": "7k9CmpacuzBJ",
    "outputId": "0fe09f3e-a54b-405f-c3dd-f92c34d814ba"
   },
   "outputs": [
    {
     "name": "stdout",
     "output_type": "stream",
     "text": [
      "0:\ttest: 0.8068744\tbest: 0.8068744 (0)\ttotal: 11.1ms\tremaining: 11.1s\n",
      "100:\ttest: 0.8532306\tbest: 0.8532306 (93)\ttotal: 655ms\tremaining: 5.83s\n",
      "200:\ttest: 0.8625665\tbest: 0.8625665 (200)\ttotal: 1.2s\tremaining: 4.78s\n",
      "300:\ttest: 0.8663908\tbest: 0.8663908 (300)\ttotal: 1.76s\tremaining: 4.09s\n",
      "400:\ttest: 0.8682075\tbest: 0.8683737 (384)\ttotal: 2.35s\tremaining: 3.52s\n",
      "500:\ttest: 0.8682998\tbest: 0.8684784 (413)\ttotal: 2.99s\tremaining: 2.98s\n",
      "600:\ttest: 0.8684969\tbest: 0.8686632 (542)\ttotal: 3.54s\tremaining: 2.35s\n",
      "700:\ttest: 0.8688849\tbest: 0.8690265 (676)\ttotal: 4.19s\tremaining: 1.79s\n",
      "800:\ttest: 0.8679119\tbest: 0.8690265 (676)\ttotal: 4.86s\tremaining: 1.21s\n",
      "900:\ttest: 0.8677949\tbest: 0.8690265 (676)\ttotal: 5.46s\tremaining: 600ms\n",
      "999:\ttest: 0.8670374\tbest: 0.8690265 (676)\ttotal: 6.1s\tremaining: 0us\n",
      "\n",
      "bestTest = 0.8690265051\n",
      "bestIteration = 676\n",
      "\n",
      "Shrink model to first 677 iterations.\n"
     ]
    },
    {
     "data": {
      "text/plain": [
       "<catboost.core.CatBoostClassifier at 0x7f7e06e229b0>"
      ]
     },
     "execution_count": 100,
     "metadata": {},
     "output_type": "execute_result"
    }
   ],
   "source": [
    "model.fit(train_data,eval_set=valid_data)"
   ]
  },
  {
   "cell_type": "markdown",
   "id": "df052dc7-23ed-42c2-b357-95abac60420b",
   "metadata": {
    "id": "CsFcYP3Yu410"
   },
   "source": [
    "# ROC AUC при сильно несбалансированных классах"
   ]
  },
  {
   "cell_type": "code",
   "execution_count": 101,
   "id": "6d3fe290-062c-4c8a-9c7f-206671525765",
   "metadata": {
    "id": "TP801ljoblfX"
   },
   "outputs": [],
   "source": [
    "t = pd.DataFrame({'y_true':[0]*990 + [1]*10})"
   ]
  },
  {
   "cell_type": "code",
   "execution_count": 102,
   "id": "5b2e9d95-d29b-417e-b4c5-0ebd438a6273",
   "metadata": {
    "colab": {
     "base_uri": "https://localhost:8080/"
    },
    "id": "bbw3PmcofNqO",
    "outputId": "61f1e285-bf90-44c8-d96f-7020e9fc3cc3"
   },
   "outputs": [
    {
     "data": {
      "text/plain": [
       "0.01"
      ]
     },
     "execution_count": 102,
     "metadata": {},
     "output_type": "execute_result"
    }
   ],
   "source": [
    "t['y_true'].mean()"
   ]
  },
  {
   "cell_type": "code",
   "execution_count": 103,
   "id": "44c45583-158f-4a7b-9332-ccec241aa73c",
   "metadata": {
    "id": "hwJ3K07DfQZH"
   },
   "outputs": [],
   "source": [
    "import numpy as np"
   ]
  },
  {
   "cell_type": "code",
   "execution_count": 104,
   "id": "5847c8a5-7917-4a8d-8b53-ca475571c3b8",
   "metadata": {
    "colab": {
     "base_uri": "https://localhost:8080/"
    },
    "id": "9hOsT9l8fVjn",
    "outputId": "02a18b52-b78f-46cd-e3ac-d2637ee7f6aa"
   },
   "outputs": [
    {
     "data": {
      "text/plain": [
       "0.10257156857103092"
      ]
     },
     "execution_count": 104,
     "metadata": {},
     "output_type": "execute_result"
    }
   ],
   "source": [
    "np.random.uniform(0,0.2)"
   ]
  },
  {
   "cell_type": "code",
   "execution_count": 105,
   "id": "f7698e9e-b091-432a-a719-a192d9cccea7",
   "metadata": {
    "colab": {
     "base_uri": "https://localhost:8080/"
    },
    "id": "e1DijT1efXIo",
    "outputId": "eca4c6c5-11fe-4da5-fb23-ad90d6b61a3b"
   },
   "outputs": [
    {
     "data": {
      "text/plain": [
       "0.966623177693717"
      ]
     },
     "execution_count": 105,
     "metadata": {},
     "output_type": "execute_result"
    }
   ],
   "source": [
    "np.random.uniform(0.8,1)"
   ]
  },
  {
   "cell_type": "code",
   "execution_count": 106,
   "id": "09f2ed1b-66a0-4cb9-af4c-ea3738066c32",
   "metadata": {
    "colab": {
     "base_uri": "https://localhost:8080/"
    },
    "id": "fCPgW3OufhY3",
    "outputId": "99473dd0-2d7b-4db1-b392-6cfdfde7667f"
   },
   "outputs": [
    {
     "data": {
      "text/plain": [
       "array([0.19584076, 0.18184837, 0.98979349, 0.84793569, 0.87955027])"
      ]
     },
     "execution_count": 106,
     "metadata": {},
     "output_type": "execute_result"
    }
   ],
   "source": [
    "np.concatenate([np.random.uniform(0,0.2,size=2),np.random.uniform(0.8,1,size=3)])"
   ]
  },
  {
   "cell_type": "code",
   "execution_count": 107,
   "id": "397f5ebd-5ef8-4227-ad87-41b66a7d0def",
   "metadata": {
    "id": "k9jSAg7GfpjQ"
   },
   "outputs": [],
   "source": [
    "t = pd.DataFrame({'y_true':[0]*990 + [1]*10})"
   ]
  },
  {
   "cell_type": "code",
   "execution_count": 108,
   "id": "2c6fa046-e9e7-4b13-b553-09e25cb28fe0",
   "metadata": {
    "id": "RKxuOoMXfs9S"
   },
   "outputs": [],
   "source": [
    "np.random.seed(42)\n",
    "t['y_score1'] = np.concatenate([np.random.uniform(0,0.2,size=970), # TN\n",
    "                                np.random.uniform(0.8,1,size=20), # FP\n",
    "                                np.random.uniform(0,0.2,size=5), # FN\n",
    "                                np.random.uniform(0.8,1,size=5)]) # TP"
   ]
  },
  {
   "cell_type": "code",
   "execution_count": 109,
   "id": "49a3ca89-b500-4975-8b58-ccac0534bac3",
   "metadata": {
    "colab": {
     "base_uri": "https://localhost:8080/"
    },
    "id": "lGmoxtMWf82Y",
    "outputId": "fd1a8536-b288-439f-c73e-230b656fdb03"
   },
   "outputs": [
    {
     "data": {
      "text/plain": [
       "0.7664646464646465"
      ]
     },
     "execution_count": 109,
     "metadata": {},
     "output_type": "execute_result"
    }
   ],
   "source": [
    "roc_auc_score(t['y_true'],t['y_score1'])"
   ]
  },
  {
   "cell_type": "code",
   "execution_count": 110,
   "id": "e850d2bd-fd4d-4a6f-9f7f-e8c89e73de43",
   "metadata": {
    "id": "3CUNuZAYf9sj"
   },
   "outputs": [],
   "source": [
    "np.random.seed(42)\n",
    "t['y_score2'] = np.concatenate([np.random.uniform(0,0.2,size=850), # TN\n",
    "                                np.random.uniform(0.8,1,size=140), # FP\n",
    "                                np.random.uniform(0,0.2,size=2), # FN\n",
    "                                np.random.uniform(0.8,1,size=8)]) # TP"
   ]
  },
  {
   "cell_type": "code",
   "execution_count": 111,
   "id": "04561b3a-009d-4c11-930e-f45a1df75cb4",
   "metadata": {
    "colab": {
     "base_uri": "https://localhost:8080/"
    },
    "id": "8-Zg5ndTgbWF",
    "outputId": "261c72af-2b6a-4442-efae-9fa18ea5763c"
   },
   "outputs": [
    {
     "data": {
      "text/plain": [
       "0.873939393939394"
      ]
     },
     "execution_count": 111,
     "metadata": {},
     "output_type": "execute_result"
    }
   ],
   "source": [
    "roc_auc_score(t['y_true'],t['y_score2'])"
   ]
  },
  {
   "cell_type": "markdown",
   "id": "5f50efa5-6c4d-4bbf-9b7a-ae1a887ab418",
   "metadata": {
    "id": "EeH0cWhYgdS_"
   },
   "source": [
    "# Precision recall curve"
   ]
  },
  {
   "cell_type": "code",
   "execution_count": 112,
   "id": "259d5666-a069-41c4-ac2b-5a2959dabcb6",
   "metadata": {
    "colab": {
     "base_uri": "https://localhost:8080/",
     "height": 279
    },
    "id": "yTCPKHrlhsJf",
    "outputId": "278d7f46-bed7-4129-f2ba-ae9496202440"
   },
   "outputs": [
    {
     "data": {
      "image/png": "[encoded data removed]",
      "text/plain": [
       "<Figure size 640x480 with 1 Axes>"
      ]
     },
     "metadata": {},
     "output_type": "display_data"
    }
   ],
   "source": [
    "from sklearn.datasets import make_classification\n",
    "from sklearn.linear_model import LogisticRegression\n",
    "from sklearn.model_selection import train_test_split\n",
    "from sklearn.metrics import precision_recall_curve\n",
    "from sklearn.metrics import f1_score\n",
    "from sklearn.metrics import auc\n",
    "from matplotlib import pyplot\n",
    "\n",
    "precision1, recall1, _ = precision_recall_curve(t['y_true'], t['y_score1'])\n",
    "precision2, recall2, _ = precision_recall_curve(t['y_true'], t['y_score2'])\n",
    "\n",
    "\n",
    "# plot the precision-recall curves\n",
    "pyplot.plot(recall1, precision1, marker='.', label='score1')\n",
    "pyplot.plot(recall2, precision2, marker='.', label='score2')\n",
    "# axis labels\n",
    "pyplot.xlabel('Recall')\n",
    "pyplot.ylabel('Precision')\n",
    "# show the legend\n",
    "pyplot.legend()\n",
    "# show the plot\n",
    "pyplot.show()"
   ]
  },
  {
   "cell_type": "code",
   "execution_count": 113,
   "id": "281dae3e-407e-4f4d-ab35-5702a1750c7a",
   "metadata": {
    "id": "98beYoNIjEfV"
   },
   "outputs": [],
   "source": [
    "from sklearn.metrics import average_precision_score"
   ]
  },
  {
   "cell_type": "code",
   "execution_count": 114,
   "id": "0d7dd697-5f10-4986-b2f8-c4ccf681a188",
   "metadata": {
    "colab": {
     "base_uri": "https://localhost:8080/"
    },
    "id": "1l_iLZxmkoAG",
    "outputId": "0d0b8df4-201f-4744-cecb-451af20b2c84"
   },
   "outputs": [
    {
     "data": {
      "text/plain": [
       "0.2404742335681647"
      ]
     },
     "execution_count": 114,
     "metadata": {},
     "output_type": "execute_result"
    }
   ],
   "source": [
    "average_precision_score(t['y_true'],t['y_score1'])"
   ]
  },
  {
   "cell_type": "code",
   "execution_count": 115,
   "id": "c44e4288-c194-4cfe-925e-80cbef8ad749",
   "metadata": {
    "colab": {
     "base_uri": "https://localhost:8080/"
    },
    "id": "dvjYldjwkrEa",
    "outputId": "732d7f53-9ad4-451a-c56e-84ce602febd7"
   },
   "outputs": [
    {
     "data": {
      "text/plain": [
       "0.1238771786028366"
      ]
     },
     "execution_count": 115,
     "metadata": {},
     "output_type": "execute_result"
    }
   ],
   "source": [
    "average_precision_score(t['y_true'],t['y_score2'])"
   ]
  },
  {
   "cell_type": "markdown",
   "id": "268a42b3-5058-4121-b110-e49668443a9a",
   "metadata": {
    "id": "b_PtcTwVktHN"
   },
   "source": [
    "# Сравним человеческое и машинное обучение\n",
    "\n"
   ]
  },
  {
   "cell_type": "code",
   "execution_count": 116,
   "id": "2bca6765-e122-4bcc-b295-cd3c1f9a6bad",
   "metadata": {
    "colab": {
     "base_uri": "https://localhost:8080/",
     "height": 279
    },
    "id": "78bmxEAAts5c",
    "outputId": "871ee625-ef13-44d7-9a14-6b65bd4ff407"
   },
   "outputs": [
    {
     "data": {
      "image/png": "[encoded data removed]",
      "text/plain": [
       "<Figure size 640x480 with 1 Axes>"
      ]
     },
     "metadata": {},
     "output_type": "display_data"
    }
   ],
   "source": [
    "fpr1, tpr1, _ = roc_curve(test['Exited'], test['score_prod_age'])\n",
    "fpr2, tpr2, _ = roc_curve(test['Exited'], test['score_catboost'])\n",
    "\n",
    "\n",
    "# plot the precision-recall curves\n",
    "pyplot.plot(fpr1, tpr1, label='human')\n",
    "pyplot.plot(fpr2, tpr2, label='machine')\n",
    "# axis labels\n",
    "pyplot.xlabel('FPR')\n",
    "pyplot.ylabel('TPR')\n",
    "# show the legend\n",
    "pyplot.legend()\n",
    "# show the plot\n",
    "pyplot.show()"
   ]
  },
  {
   "cell_type": "code",
   "execution_count": 117,
   "id": "4b147f71-c3d8-4933-8939-56308f184fc5",
   "metadata": {
    "colab": {
     "base_uri": "https://localhost:8080/"
    },
    "id": "4cNhfPY4uPsR",
    "outputId": "0a0c55ce-ba74-40e1-be6c-0e2316169900"
   },
   "outputs": [
    {
     "data": {
      "text/plain": [
       "0.8130860183817394"
      ]
     },
     "execution_count": 117,
     "metadata": {},
     "output_type": "execute_result"
    }
   ],
   "source": [
    "roc_auc_score(test['Exited'], test['score_prod_age'])"
   ]
  },
  {
   "cell_type": "code",
   "execution_count": 118,
   "id": "9d9d0fb3-1207-4be4-9500-1da6af03724a",
   "metadata": {
    "colab": {
     "base_uri": "https://localhost:8080/"
    },
    "id": "aUXb5PDTufAl",
    "outputId": "5c2e73b9-53bc-4176-b5e3-992d9fddd024"
   },
   "outputs": [
    {
     "data": {
      "text/plain": [
       "0.8736641716782763"
      ]
     },
     "execution_count": 118,
     "metadata": {},
     "output_type": "execute_result"
    }
   ],
   "source": [
    "roc_auc_score(test['Exited'], test['score_catboost'])"
   ]
  },
  {
   "cell_type": "code",
   "execution_count": 119,
   "id": "d5aa5f4b-e2ca-4457-b005-e24bad122628",
   "metadata": {
    "colab": {
     "base_uri": "https://localhost:8080/",
     "height": 279
    },
    "id": "xz3py34OuiWR",
    "outputId": "5ed2655a-bb28-473f-ab48-0e616acb74db"
   },
   "outputs": [
    {
     "data": {
      "image/png": "[encoded data removed]",
      "text/plain": [
       "<Figure size 640x480 with 1 Axes>"
      ]
     },
     "metadata": {},
     "output_type": "display_data"
    }
   ],
   "source": [
    "precision1, recall1, _ = precision_recall_curve(test['Exited'], test['score_prod_age'])\n",
    "precision2, recall2, _ = precision_recall_curve(test['Exited'], test['score_catboost'])\n",
    "\n",
    "\n",
    "# plot the precision-recall curves\n",
    "pyplot.plot(recall1, precision1, label='human')\n",
    "pyplot.plot(recall2, precision2, label='machine')\n",
    "# axis labels\n",
    "pyplot.xlabel('Recall')\n",
    "pyplot.ylabel('Precision')\n",
    "# show the legend\n",
    "pyplot.legend()\n",
    "# show the plot\n",
    "pyplot.show()"
   ]
  },
  {
   "cell_type": "code",
   "execution_count": 120,
   "id": "1b55a8ae-d27d-400f-97be-49b76c37befe",
   "metadata": {
    "colab": {
     "base_uri": "https://localhost:8080/"
    },
    "id": "4MrFk1scu-gt",
    "outputId": "ac3befac-c99a-4183-cf08-1f5ebee31304"
   },
   "outputs": [
    {
     "data": {
      "text/plain": [
       "0.5493470555091149"
      ]
     },
     "execution_count": 120,
     "metadata": {},
     "output_type": "execute_result"
    }
   ],
   "source": [
    "average_precision_score(test['Exited'], test['score_prod_age'])"
   ]
  },
  {
   "cell_type": "code",
   "execution_count": 121,
   "id": "0d878390-65d7-4eff-ae2c-b59aff4c5dac",
   "metadata": {
    "colab": {
     "base_uri": "https://localhost:8080/"
    },
    "id": "pL-mSD8Ou-gt",
    "outputId": "97cccd59-deef-4ba8-ae31-454eb51d197a"
   },
   "outputs": [
    {
     "data": {
      "text/plain": [
       "0.7169823507412415"
      ]
     },
     "execution_count": 121,
     "metadata": {},
     "output_type": "execute_result"
    }
   ],
   "source": [
    "average_precision_score(test['Exited'], test['score_catboost'])"
   ]
  },
  {
   "cell_type": "markdown",
   "id": "f416d615-ab2c-4699-b315-d359870713c2",
   "metadata": {
    "id": "BRe-Crm2vCCj"
   },
   "source": [
    "# Дисбаланс классов не проблема"
   ]
  },
  {
   "cell_type": "code",
   "execution_count": 122,
   "id": "c5a991fa-aa8c-42c0-ad83-04a93a70c01d",
   "metadata": {
    "colab": {
     "base_uri": "https://localhost:8080/"
    },
    "id": "DX_UMhoPq4I1",
    "outputId": "125071aa-cc94-4edf-d053-8ef6ede289a1"
   },
   "outputs": [
    {
     "data": {
      "text/plain": [
       "0.203"
      ]
     },
     "execution_count": 122,
     "metadata": {},
     "output_type": "execute_result"
    }
   ],
   "source": [
    "test['Exited'].mean()"
   ]
  },
  {
   "cell_type": "code",
   "execution_count": 123,
   "id": "36e8115d-d679-4a45-b314-9aba2c232e56",
   "metadata": {
    "id": "r0_7MO00sGs1"
   },
   "outputs": [],
   "source": [
    "params = {'verbose':100,\n",
    "          'eval_metric':'AUC',\n",
    "          'auto_class_weights':'Balanced',\n",
    "          'random_seed':42,\n",
    "          'learning_rate':0.01}"
   ]
  },
  {
   "cell_type": "code",
   "execution_count": 124,
   "id": "c00fa08d-96b5-4aea-aa17-8ce15f911ca4",
   "metadata": {
    "id": "12pQpqjpsGs1"
   },
   "outputs": [],
   "source": [
    "model = CatBoostClassifier(**params)"
   ]
  },
  {
   "cell_type": "code",
   "execution_count": 125,
   "id": "306d3b80-1a67-4596-9844-bcd187da9959",
   "metadata": {
    "colab": {
     "base_uri": "https://localhost:8080/"
    },
    "id": "-e0csdYLsGs1",
    "outputId": "673b6143-bc34-49a9-f05f-68b83e9dd6bc"
   },
   "outputs": [
    {
     "name": "stdout",
     "output_type": "stream",
     "text": [
      "0:\ttest: 0.8122783\tbest: 0.8122783 (0)\ttotal: 16.6ms\tremaining: 16.6s\n",
      "100:\ttest: 0.8584035\tbest: 0.8586314 (97)\ttotal: 779ms\tremaining: 6.93s\n",
      "200:\ttest: 0.8635457\tbest: 0.8636812 (199)\ttotal: 1.47s\tremaining: 5.84s\n",
      "300:\ttest: 0.8660028\tbest: 0.8660829 (293)\ttotal: 2.1s\tremaining: 4.88s\n",
      "400:\ttest: 0.8665324\tbest: 0.8665324 (400)\ttotal: 2.65s\tremaining: 3.96s\n",
      "500:\ttest: 0.8671421\tbest: 0.8671421 (500)\ttotal: 3.19s\tremaining: 3.18s\n",
      "600:\ttest: 0.8665940\tbest: 0.8672899 (513)\ttotal: 3.74s\tremaining: 2.48s\n",
      "700:\ttest: 0.8670066\tbest: 0.8672899 (513)\ttotal: 4.44s\tremaining: 1.9s\n",
      "800:\ttest: 0.8665817\tbest: 0.8673576 (719)\ttotal: 5.2s\tremaining: 1.29s\n",
      "900:\ttest: 0.8654055\tbest: 0.8673576 (719)\ttotal: 5.84s\tremaining: 642ms\n",
      "999:\ttest: 0.8648943\tbest: 0.8673576 (719)\ttotal: 6.54s\tremaining: 0us\n",
      "\n",
      "bestTest = 0.8673576214\n",
      "bestIteration = 719\n",
      "\n",
      "Shrink model to first 720 iterations.\n"
     ]
    },
    {
     "data": {
      "text/plain": [
       "<catboost.core.CatBoostClassifier at 0x7f7e06ebb730>"
      ]
     },
     "execution_count": 125,
     "metadata": {},
     "output_type": "execute_result"
    }
   ],
   "source": [
    "model.fit(train_data,eval_set=valid_data)"
   ]
  },
  {
   "cell_type": "code",
   "execution_count": 126,
   "id": "851ecaf1-099d-4435-b040-8fe38058bb86",
   "metadata": {
    "colab": {
     "base_uri": "https://localhost:8080/",
     "height": 282
    },
    "id": "DrkGVF3bsNp_",
    "outputId": "e401e29d-1413-4589-eeba-6520fb29698c"
   },
   "outputs": [
    {
     "data": {
      "text/plain": [
       "<AxesSubplot: >"
      ]
     },
     "execution_count": 126,
     "metadata": {},
     "output_type": "execute_result"
    },
    {
     "data": {
      "image/png": "[encoded data removed]",
      "text/plain": [
       "<Figure size 640x480 with 1 Axes>"
      ]
     },
     "metadata": {},
     "output_type": "display_data"
    }
   ],
   "source": [
    "test['score_catboost'].hist()"
   ]
  },
  {
   "cell_type": "code",
   "execution_count": 127,
   "id": "cda448de-70b0-43a3-a715-1a83c35c4abd",
   "metadata": {
    "colab": {
     "base_uri": "https://localhost:8080/",
     "height": 283
    },
    "id": "M1IwAv5qsZKE",
    "outputId": "3a598541-a5ac-49f3-fb4f-8e132db5bbf3"
   },
   "outputs": [
    {
     "data": {
      "text/plain": [
       "<AxesSubplot: >"
      ]
     },
     "execution_count": 127,
     "metadata": {},
     "output_type": "execute_result"
    },
    {
     "data": {
      "image/png": "[encoded data removed]",
      "text/plain": [
       "<Figure size 640x480 with 1 Axes>"
      ]
     },
     "metadata": {},
     "output_type": "display_data"
    }
   ],
   "source": [
    "pd.Series(model.predict_proba(test[X])[:,1]).hist()"
   ]
  },
  {
   "cell_type": "code",
   "execution_count": 128,
   "id": "17fc76ac-d2e8-44be-83fe-eb71b1f9c042",
   "metadata": {
    "id": "E34QpmI4sd3f"
   },
   "outputs": [],
   "source": [
    "test['score_cat_non_balanced_bins'] = pd.cut(test['score_catboost'],10)"
   ]
  },
  {
   "cell_type": "code",
   "execution_count": 129,
   "id": "84f58b53-75ff-49c4-a160-c0cc2cf9c23f",
   "metadata": {
    "colab": {
     "base_uri": "https://localhost:8080/",
     "height": 394
    },
    "id": "OkVM31gds0LT",
    "outputId": "bf53664c-01c3-499d-bb8a-7f5341e66a1a"
   },
   "outputs": [
    {
     "data": {
      "text/html": [
       "<div>\n",
       "<style scoped>\n",
       "    .dataframe tbody tr th:only-of-type {\n",
       "        vertical-align: middle;\n",
       "    }\n",
       "\n",
       "    .dataframe tbody tr th {\n",
       "        vertical-align: top;\n",
       "    }\n",
       "\n",
       "    .dataframe thead th {\n",
       "        text-align: right;\n",
       "    }\n",
       "</style>\n",
       "<table border=\"1\" class=\"dataframe\">\n",
       "  <thead>\n",
       "    <tr style=\"text-align: right;\">\n",
       "      <th></th>\n",
       "      <th>count</th>\n",
       "      <th>mean</th>\n",
       "    </tr>\n",
       "    <tr>\n",
       "      <th>score_cat_non_balanced_bins</th>\n",
       "      <th></th>\n",
       "      <th></th>\n",
       "    </tr>\n",
       "  </thead>\n",
       "  <tbody>\n",
       "    <tr>\n",
       "      <th>(0.00858, 0.108]</th>\n",
       "      <td>519</td>\n",
       "      <td>0.044316</td>\n",
       "    </tr>\n",
       "    <tr>\n",
       "      <th>(0.108, 0.207]</th>\n",
       "      <td>156</td>\n",
       "      <td>0.134615</td>\n",
       "    </tr>\n",
       "    <tr>\n",
       "      <th>(0.207, 0.306]</th>\n",
       "      <td>97</td>\n",
       "      <td>0.226804</td>\n",
       "    </tr>\n",
       "    <tr>\n",
       "      <th>(0.306, 0.405]</th>\n",
       "      <td>65</td>\n",
       "      <td>0.338462</td>\n",
       "    </tr>\n",
       "    <tr>\n",
       "      <th>(0.405, 0.503]</th>\n",
       "      <td>38</td>\n",
       "      <td>0.473684</td>\n",
       "    </tr>\n",
       "    <tr>\n",
       "      <th>(0.503, 0.602]</th>\n",
       "      <td>19</td>\n",
       "      <td>0.684211</td>\n",
       "    </tr>\n",
       "    <tr>\n",
       "      <th>(0.602, 0.701]</th>\n",
       "      <td>26</td>\n",
       "      <td>0.538462</td>\n",
       "    </tr>\n",
       "    <tr>\n",
       "      <th>(0.701, 0.8]</th>\n",
       "      <td>33</td>\n",
       "      <td>0.787879</td>\n",
       "    </tr>\n",
       "    <tr>\n",
       "      <th>(0.8, 0.898]</th>\n",
       "      <td>19</td>\n",
       "      <td>0.894737</td>\n",
       "    </tr>\n",
       "    <tr>\n",
       "      <th>(0.898, 0.997]</th>\n",
       "      <td>28</td>\n",
       "      <td>0.964286</td>\n",
       "    </tr>\n",
       "  </tbody>\n",
       "</table>\n",
       "</div>"
      ],
      "text/plain": [
       "                             count      mean\n",
       "score_cat_non_balanced_bins                 \n",
       "(0.00858, 0.108]               519  0.044316\n",
       "(0.108, 0.207]                 156  0.134615\n",
       "(0.207, 0.306]                  97  0.226804\n",
       "(0.306, 0.405]                  65  0.338462\n",
       "(0.405, 0.503]                  38  0.473684\n",
       "(0.503, 0.602]                  19  0.684211\n",
       "(0.602, 0.701]                  26  0.538462\n",
       "(0.701, 0.8]                    33  0.787879\n",
       "(0.8, 0.898]                    19  0.894737\n",
       "(0.898, 0.997]                  28  0.964286"
      ]
     },
     "execution_count": 129,
     "metadata": {},
     "output_type": "execute_result"
    }
   ],
   "source": [
    "test.groupby('score_cat_non_balanced_bins')['Exited'].agg(['count','mean'])"
   ]
  },
  {
   "cell_type": "code",
   "execution_count": 130,
   "id": "d55f78e9-63a3-4565-a9e8-d32d4173fd98",
   "metadata": {
    "id": "kso6859xtHuA"
   },
   "outputs": [],
   "source": [
    "test['score_catboost_balanced'] = model.predict_proba(test[X])[:,1]"
   ]
  },
  {
   "cell_type": "code",
   "execution_count": 131,
   "id": "e115df7e-590f-400f-8e26-e16c99b1da8d",
   "metadata": {
    "id": "tmTTqruCtXQU"
   },
   "outputs": [],
   "source": [
    "test['score_cat_balanced_bins'] = pd.cut(test['score_catboost_balanced'],10)"
   ]
  },
  {
   "cell_type": "code",
   "execution_count": 132,
   "id": "d7d7b5c4-ff0e-4f20-8997-dbabd8721f2c",
   "metadata": {
    "colab": {
     "base_uri": "https://localhost:8080/",
     "height": 394
    },
    "id": "3rJ4mvc2tc8j",
    "outputId": "5b698067-bc69-4c0b-ebc0-e575b0566350"
   },
   "outputs": [
    {
     "data": {
      "text/html": [
       "<div>\n",
       "<style scoped>\n",
       "    .dataframe tbody tr th:only-of-type {\n",
       "        vertical-align: middle;\n",
       "    }\n",
       "\n",
       "    .dataframe tbody tr th {\n",
       "        vertical-align: top;\n",
       "    }\n",
       "\n",
       "    .dataframe thead th {\n",
       "        text-align: right;\n",
       "    }\n",
       "</style>\n",
       "<table border=\"1\" class=\"dataframe\">\n",
       "  <thead>\n",
       "    <tr style=\"text-align: right;\">\n",
       "      <th></th>\n",
       "      <th>count</th>\n",
       "      <th>mean</th>\n",
       "    </tr>\n",
       "    <tr>\n",
       "      <th>score_cat_balanced_bins</th>\n",
       "      <th></th>\n",
       "      <th></th>\n",
       "    </tr>\n",
       "  </thead>\n",
       "  <tbody>\n",
       "    <tr>\n",
       "      <th>(0.0324, 0.13]</th>\n",
       "      <td>166</td>\n",
       "      <td>0.012048</td>\n",
       "    </tr>\n",
       "    <tr>\n",
       "      <th>(0.13, 0.226]</th>\n",
       "      <td>207</td>\n",
       "      <td>0.043478</td>\n",
       "    </tr>\n",
       "    <tr>\n",
       "      <th>(0.226, 0.322]</th>\n",
       "      <td>156</td>\n",
       "      <td>0.083333</td>\n",
       "    </tr>\n",
       "    <tr>\n",
       "      <th>(0.322, 0.419]</th>\n",
       "      <td>88</td>\n",
       "      <td>0.102273</td>\n",
       "    </tr>\n",
       "    <tr>\n",
       "      <th>(0.419, 0.515]</th>\n",
       "      <td>89</td>\n",
       "      <td>0.213483</td>\n",
       "    </tr>\n",
       "    <tr>\n",
       "      <th>(0.515, 0.612]</th>\n",
       "      <td>69</td>\n",
       "      <td>0.173913</td>\n",
       "    </tr>\n",
       "    <tr>\n",
       "      <th>(0.612, 0.708]</th>\n",
       "      <td>65</td>\n",
       "      <td>0.400000</td>\n",
       "    </tr>\n",
       "    <tr>\n",
       "      <th>(0.708, 0.804]</th>\n",
       "      <td>47</td>\n",
       "      <td>0.553191</td>\n",
       "    </tr>\n",
       "    <tr>\n",
       "      <th>(0.804, 0.901]</th>\n",
       "      <td>49</td>\n",
       "      <td>0.591837</td>\n",
       "    </tr>\n",
       "    <tr>\n",
       "      <th>(0.901, 0.997]</th>\n",
       "      <td>64</td>\n",
       "      <td>0.906250</td>\n",
       "    </tr>\n",
       "  </tbody>\n",
       "</table>\n",
       "</div>"
      ],
      "text/plain": [
       "                         count      mean\n",
       "score_cat_balanced_bins                 \n",
       "(0.0324, 0.13]             166  0.012048\n",
       "(0.13, 0.226]              207  0.043478\n",
       "(0.226, 0.322]             156  0.083333\n",
       "(0.322, 0.419]              88  0.102273\n",
       "(0.419, 0.515]              89  0.213483\n",
       "(0.515, 0.612]              69  0.173913\n",
       "(0.612, 0.708]              65  0.400000\n",
       "(0.708, 0.804]              47  0.553191\n",
       "(0.804, 0.901]              49  0.591837\n",
       "(0.901, 0.997]              64  0.906250"
      ]
     },
     "execution_count": 132,
     "metadata": {},
     "output_type": "execute_result"
    }
   ],
   "source": [
    "test.groupby('score_cat_balanced_bins')['Exited'].agg(['count','mean'])"
   ]
  },
  {
   "cell_type": "code",
   "execution_count": 133,
   "id": "82e8e6da-8b6f-411e-b443-0418b049c38c",
   "metadata": {
    "colab": {
     "base_uri": "https://localhost:8080/"
    },
    "id": "x6dRqchttfoF",
    "outputId": "062ba1b5-36bb-4086-8269-05f2122d9423"
   },
   "outputs": [
    {
     "data": {
      "text/plain": [
       "8.5"
      ]
     },
     "execution_count": 133,
     "metadata": {},
     "output_type": "execute_result"
    }
   ],
   "source": [
    "(4 + 13) / 2"
   ]
  },
  {
   "cell_type": "code",
   "execution_count": null,
   "id": "b1f6c0fc-419b-4966-a826-60ecb3511780",
   "metadata": {},
   "outputs": [],
   "source": []
  },
  {
   "cell_type": "code",
   "execution_count": null,
   "id": "130494d5-5c6a-4058-b7bb-9e52f4bd9c51",
   "metadata": {},
   "outputs": [],
   "source": []
  }
 ],
 "metadata": {
  "kernelspec": {
   "display_name": "Python 3 (ipykernel)",
   "language": "python",
   "name": "python3"
  },
  "language_info": {
   "codemirror_mode": {
    "name": "ipython",
    "version": 3
   },
   "file_extension": ".py",
   "mimetype": "text/x-python",
   "name": "python",
   "nbconvert_exporter": "python",
   "pygments_lexer": "ipython3",
   "version": "3.10.9"
  }
 },
 "nbformat": 4,
 "nbformat_minor": 5
}
