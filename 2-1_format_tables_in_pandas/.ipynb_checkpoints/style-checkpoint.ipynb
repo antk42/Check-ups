{
 "cells": [
  {
   "cell_type": "markdown",
   "id": "8ed736dd-a4f4-4662-a3c5-bacac521bd76",
   "metadata": {},
   "source": [
    "# Adding style to pandas DataFrame"
   ]
  },
  {
   "cell_type": "code",
   "execution_count": 15,
   "id": "02743010-42de-4f38-a2db-8c285a207c78",
   "metadata": {},
   "outputs": [],
   "source": [
    "import pandas as pd"
   ]
  },
  {
   "cell_type": "markdown",
   "id": "b9ecd543-f6ab-435c-a2d1-8a22a2713ddb",
   "metadata": {},
   "source": [
    "## Loading a sample pandas DataFrame\n",
    "#### DataFrame contains sales datadrom different regions, including:\n",
    "- Total Sales\n",
    "- #of Sales\n",
    "- % of Sales"
   ]
  },
  {
   "cell_type": "code",
   "execution_count": null,
   "id": "6427efea-6acd-4a7e-b67f-fb4416f9b91d",
   "metadata": {},
   "outputs": [],
   "source": [
    "data = {\n",
    "    'Region' : ['East', 'East', 'East', 'East',\n",
    "               'East', 'East', 'East', 'East',\n",
    "               'East', 'East', 'East', 'East']\n",
    "}"
   ]
  },
  {
   "cell_type": "code",
   "execution_count": null,
   "id": "04b39113-7d57-45c5-87a1-1409b9625c40",
   "metadata": {},
   "outputs": [],
   "source": []
  },
  {
   "cell_type": "code",
   "execution_count": null,
   "id": "87506020-3a8c-421b-8534-b9350a11eba3",
   "metadata": {},
   "outputs": [],
   "source": []
  },
  {
   "cell_type": "code",
   "execution_count": null,
   "id": "ca9e5932-0b3b-4e1d-b457-a46846fddb75",
   "metadata": {},
   "outputs": [],
   "source": []
  },
  {
   "cell_type": "code",
   "execution_count": null,
   "id": "dfca2fb2-76bd-42f6-93fd-2b6d91cacfa9",
   "metadata": {},
   "outputs": [],
   "source": []
  }
 ],
 "metadata": {
  "kernelspec": {
   "display_name": "Python 3 (ipykernel)",
   "language": "python",
   "name": "python3"
  },
  "language_info": {
   "codemirror_mode": {
    "name": "ipython",
    "version": 3
   },
   "file_extension": ".py",
   "mimetype": "text/x-python",
   "name": "python",
   "nbconvert_exporter": "python",
   "pygments_lexer": "ipython3",
   "version": "3.10.9"
  }
 },
 "nbformat": 4,
 "nbformat_minor": 5
}
